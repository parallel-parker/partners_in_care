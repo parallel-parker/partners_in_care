{
 "cells": [
  {
   "cell_type": "code",
   "execution_count": 1,
   "id": "51dc8a33",
   "metadata": {},
   "outputs": [],
   "source": [
    "import pandas as pd\n",
    "from sqlalchemy import create_engine\n",
    "import sqlite3 as sql\n",
    "import re\n",
    "import numpy as np\n",
    "import seaborn as sns\n",
    "from datetime import datetime\n",
    "import matplotlib.pyplot as plt\n",
    "\n",
    "\n",
    "%matplotlib inline"
   ]
  },
  {
   "cell_type": "code",
   "execution_count": 2,
   "id": "4a32d589",
   "metadata": {},
   "outputs": [],
   "source": [
    "pd.set_option('display.max_rows', 500)"
   ]
  },
  {
   "cell_type": "code",
   "execution_count": 3,
   "id": "4107caf6",
   "metadata": {},
   "outputs": [],
   "source": [
    "suicide_all = pd.read_csv(\"suicide_all.csv\")"
   ]
  },
  {
   "cell_type": "code",
   "execution_count": 4,
   "id": "e3a15612",
   "metadata": {
    "scrolled": true
   },
   "outputs": [
    {
     "data": {
      "text/html": [
       "<div>\n",
       "<style scoped>\n",
       "    .dataframe tbody tr th:only-of-type {\n",
       "        vertical-align: middle;\n",
       "    }\n",
       "\n",
       "    .dataframe tbody tr th {\n",
       "        vertical-align: top;\n",
       "    }\n",
       "\n",
       "    .dataframe thead th {\n",
       "        text-align: right;\n",
       "    }\n",
       "</style>\n",
       "<table border=\"1\" class=\"dataframe\">\n",
       "  <thead>\n",
       "    <tr style=\"text-align: right;\">\n",
       "      <th></th>\n",
       "      <th>Month</th>\n",
       "      <th>Precinct</th>\n",
       "      <th>Date</th>\n",
       "      <th>Created</th>\n",
       "      <th>Address</th>\n",
       "      <th>Incident Type</th>\n",
       "      <th>Priority</th>\n",
       "    </tr>\n",
       "  </thead>\n",
       "  <tbody>\n",
       "    <tr>\n",
       "      <th>0</th>\n",
       "      <td>July</td>\n",
       "      <td>C</td>\n",
       "      <td>07-01-2021</td>\n",
       "      <td>14:08:06</td>\n",
       "      <td>1207 MCGAVOCK ST</td>\n",
       "      <td>SUICIDAL PERSON</td>\n",
       "      <td>2</td>\n",
       "    </tr>\n",
       "    <tr>\n",
       "      <th>1</th>\n",
       "      <td>July</td>\n",
       "      <td>C</td>\n",
       "      <td>07-01-2021</td>\n",
       "      <td>16:39:59</td>\n",
       "      <td>639 LAFAYETTE ST</td>\n",
       "      <td>SUICIDAL PERSON</td>\n",
       "      <td>2</td>\n",
       "    </tr>\n",
       "    <tr>\n",
       "      <th>2</th>\n",
       "      <td>July</td>\n",
       "      <td>C</td>\n",
       "      <td>07-01-2021</td>\n",
       "      <td>23:23:27</td>\n",
       "      <td>639 LAFAYETTE ST</td>\n",
       "      <td>SUICIDAL PERSON</td>\n",
       "      <td>2</td>\n",
       "    </tr>\n",
       "    <tr>\n",
       "      <th>3</th>\n",
       "      <td>July</td>\n",
       "      <td>C</td>\n",
       "      <td>07-02-2021</td>\n",
       "      <td>06:23:06</td>\n",
       "      <td>1221 BROADWAY</td>\n",
       "      <td>SUICIDAL PERSON</td>\n",
       "      <td>2</td>\n",
       "    </tr>\n",
       "    <tr>\n",
       "      <th>4</th>\n",
       "      <td>July</td>\n",
       "      <td>C</td>\n",
       "      <td>07-02-2021</td>\n",
       "      <td>11:07:14</td>\n",
       "      <td>705 DREXEL ST</td>\n",
       "      <td>SUICIDAL PERSON</td>\n",
       "      <td>2</td>\n",
       "    </tr>\n",
       "    <tr>\n",
       "      <th>...</th>\n",
       "      <td>...</td>\n",
       "      <td>...</td>\n",
       "      <td>...</td>\n",
       "      <td>...</td>\n",
       "      <td>...</td>\n",
       "      <td>...</td>\n",
       "      <td>...</td>\n",
       "    </tr>\n",
       "    <tr>\n",
       "      <th>1720</th>\n",
       "      <td>March</td>\n",
       "      <td>W</td>\n",
       "      <td>03-23-2022</td>\n",
       "      <td>06:41:49</td>\n",
       "      <td>6700 CABOT DR</td>\n",
       "      <td>SUICIDAL PERSON</td>\n",
       "      <td>2M</td>\n",
       "    </tr>\n",
       "    <tr>\n",
       "      <th>1721</th>\n",
       "      <td>March</td>\n",
       "      <td>W</td>\n",
       "      <td>03-27-2022</td>\n",
       "      <td>07:54:28</td>\n",
       "      <td>329 SUSANNAH CT</td>\n",
       "      <td>SUICIDAL PERSON</td>\n",
       "      <td>3</td>\n",
       "    </tr>\n",
       "    <tr>\n",
       "      <th>1722</th>\n",
       "      <td>March</td>\n",
       "      <td>W</td>\n",
       "      <td>03-28-2022</td>\n",
       "      <td>19:23:55</td>\n",
       "      <td>517 RIVER ROUGE DR</td>\n",
       "      <td>SUICIDAL PERSON</td>\n",
       "      <td>3</td>\n",
       "    </tr>\n",
       "    <tr>\n",
       "      <th>1723</th>\n",
       "      <td>March</td>\n",
       "      <td>W</td>\n",
       "      <td>03-29-2022</td>\n",
       "      <td>14:01:59</td>\n",
       "      <td>8109 BOONE TRCE</td>\n",
       "      <td>SUICIDAL PERSON</td>\n",
       "      <td>2M</td>\n",
       "    </tr>\n",
       "    <tr>\n",
       "      <th>1724</th>\n",
       "      <td>March</td>\n",
       "      <td>W</td>\n",
       "      <td>03-31-2022</td>\n",
       "      <td>12:24:06</td>\n",
       "      <td>7277 CHARLOTTE PIKE</td>\n",
       "      <td>SUICIDAL PERSON</td>\n",
       "      <td>2</td>\n",
       "    </tr>\n",
       "  </tbody>\n",
       "</table>\n",
       "<p>1725 rows × 7 columns</p>\n",
       "</div>"
      ],
      "text/plain": [
       "      Month Precinct        Date   Created              Address  \\\n",
       "0      July        C  07-01-2021  14:08:06     1207 MCGAVOCK ST   \n",
       "1      July        C  07-01-2021  16:39:59     639 LAFAYETTE ST   \n",
       "2      July        C  07-01-2021  23:23:27     639 LAFAYETTE ST   \n",
       "3      July        C  07-02-2021  06:23:06        1221 BROADWAY   \n",
       "4      July        C  07-02-2021  11:07:14        705 DREXEL ST   \n",
       "...     ...      ...         ...       ...                  ...   \n",
       "1720  March        W  03-23-2022  06:41:49        6700 CABOT DR   \n",
       "1721  March        W  03-27-2022  07:54:28      329 SUSANNAH CT   \n",
       "1722  March        W  03-28-2022  19:23:55   517 RIVER ROUGE DR   \n",
       "1723  March        W  03-29-2022  14:01:59      8109 BOONE TRCE   \n",
       "1724  March        W  03-31-2022  12:24:06  7277 CHARLOTTE PIKE   \n",
       "\n",
       "        Incident Type Priority  \n",
       "0     SUICIDAL PERSON        2  \n",
       "1     SUICIDAL PERSON        2  \n",
       "2     SUICIDAL PERSON        2  \n",
       "3     SUICIDAL PERSON        2  \n",
       "4     SUICIDAL PERSON        2  \n",
       "...               ...      ...  \n",
       "1720  SUICIDAL PERSON       2M  \n",
       "1721  SUICIDAL PERSON        3  \n",
       "1722  SUICIDAL PERSON        3  \n",
       "1723  SUICIDAL PERSON       2M  \n",
       "1724  SUICIDAL PERSON        2  \n",
       "\n",
       "[1725 rows x 7 columns]"
      ]
     },
     "execution_count": 4,
     "metadata": {},
     "output_type": "execute_result"
    }
   ],
   "source": [
    "suicide_all"
   ]
  },
  {
   "cell_type": "code",
   "execution_count": 5,
   "id": "4fb59436",
   "metadata": {},
   "outputs": [
    {
     "data": {
      "text/html": [
       "<div>\n",
       "<style scoped>\n",
       "    .dataframe tbody tr th:only-of-type {\n",
       "        vertical-align: middle;\n",
       "    }\n",
       "\n",
       "    .dataframe tbody tr th {\n",
       "        vertical-align: top;\n",
       "    }\n",
       "\n",
       "    .dataframe thead th {\n",
       "        text-align: right;\n",
       "    }\n",
       "</style>\n",
       "<table border=\"1\" class=\"dataframe\">\n",
       "  <thead>\n",
       "    <tr style=\"text-align: right;\">\n",
       "      <th></th>\n",
       "      <th>Month</th>\n",
       "      <th>Precinct</th>\n",
       "      <th>Date</th>\n",
       "      <th>Created</th>\n",
       "      <th>Address</th>\n",
       "      <th>Incident Type</th>\n",
       "      <th>Priority</th>\n",
       "    </tr>\n",
       "  </thead>\n",
       "  <tbody>\n",
       "    <tr>\n",
       "      <th>0</th>\n",
       "      <td>July</td>\n",
       "      <td>C</td>\n",
       "      <td>07-01-2021</td>\n",
       "      <td>14:08:06</td>\n",
       "      <td>1207 MCGAVOCK ST</td>\n",
       "      <td>SUICIDAL PERSON</td>\n",
       "      <td>2</td>\n",
       "    </tr>\n",
       "    <tr>\n",
       "      <th>1</th>\n",
       "      <td>July</td>\n",
       "      <td>C</td>\n",
       "      <td>07-01-2021</td>\n",
       "      <td>16:39:59</td>\n",
       "      <td>639 LAFAYETTE ST</td>\n",
       "      <td>SUICIDAL PERSON</td>\n",
       "      <td>2</td>\n",
       "    </tr>\n",
       "    <tr>\n",
       "      <th>2</th>\n",
       "      <td>July</td>\n",
       "      <td>C</td>\n",
       "      <td>07-01-2021</td>\n",
       "      <td>23:23:27</td>\n",
       "      <td>639 LAFAYETTE ST</td>\n",
       "      <td>SUICIDAL PERSON</td>\n",
       "      <td>2</td>\n",
       "    </tr>\n",
       "    <tr>\n",
       "      <th>3</th>\n",
       "      <td>July</td>\n",
       "      <td>C</td>\n",
       "      <td>07-02-2021</td>\n",
       "      <td>06:23:06</td>\n",
       "      <td>1221 BROADWAY</td>\n",
       "      <td>SUICIDAL PERSON</td>\n",
       "      <td>2</td>\n",
       "    </tr>\n",
       "    <tr>\n",
       "      <th>4</th>\n",
       "      <td>July</td>\n",
       "      <td>C</td>\n",
       "      <td>07-02-2021</td>\n",
       "      <td>11:07:14</td>\n",
       "      <td>705 DREXEL ST</td>\n",
       "      <td>SUICIDAL PERSON</td>\n",
       "      <td>2</td>\n",
       "    </tr>\n",
       "    <tr>\n",
       "      <th>...</th>\n",
       "      <td>...</td>\n",
       "      <td>...</td>\n",
       "      <td>...</td>\n",
       "      <td>...</td>\n",
       "      <td>...</td>\n",
       "      <td>...</td>\n",
       "      <td>...</td>\n",
       "    </tr>\n",
       "    <tr>\n",
       "      <th>1720</th>\n",
       "      <td>March</td>\n",
       "      <td>W</td>\n",
       "      <td>03-23-2022</td>\n",
       "      <td>06:41:49</td>\n",
       "      <td>6700 CABOT DR</td>\n",
       "      <td>SUICIDAL PERSON</td>\n",
       "      <td>2M</td>\n",
       "    </tr>\n",
       "    <tr>\n",
       "      <th>1721</th>\n",
       "      <td>March</td>\n",
       "      <td>W</td>\n",
       "      <td>03-27-2022</td>\n",
       "      <td>07:54:28</td>\n",
       "      <td>329 SUSANNAH CT</td>\n",
       "      <td>SUICIDAL PERSON</td>\n",
       "      <td>3</td>\n",
       "    </tr>\n",
       "    <tr>\n",
       "      <th>1722</th>\n",
       "      <td>March</td>\n",
       "      <td>W</td>\n",
       "      <td>03-28-2022</td>\n",
       "      <td>19:23:55</td>\n",
       "      <td>517 RIVER ROUGE DR</td>\n",
       "      <td>SUICIDAL PERSON</td>\n",
       "      <td>3</td>\n",
       "    </tr>\n",
       "    <tr>\n",
       "      <th>1723</th>\n",
       "      <td>March</td>\n",
       "      <td>W</td>\n",
       "      <td>03-29-2022</td>\n",
       "      <td>14:01:59</td>\n",
       "      <td>8109 BOONE TRCE</td>\n",
       "      <td>SUICIDAL PERSON</td>\n",
       "      <td>2M</td>\n",
       "    </tr>\n",
       "    <tr>\n",
       "      <th>1724</th>\n",
       "      <td>March</td>\n",
       "      <td>W</td>\n",
       "      <td>03-31-2022</td>\n",
       "      <td>12:24:06</td>\n",
       "      <td>7277 CHARLOTTE PIKE</td>\n",
       "      <td>SUICIDAL PERSON</td>\n",
       "      <td>2</td>\n",
       "    </tr>\n",
       "  </tbody>\n",
       "</table>\n",
       "<p>1723 rows × 7 columns</p>\n",
       "</div>"
      ],
      "text/plain": [
       "      Month Precinct        Date   Created              Address  \\\n",
       "0      July        C  07-01-2021  14:08:06     1207 MCGAVOCK ST   \n",
       "1      July        C  07-01-2021  16:39:59     639 LAFAYETTE ST   \n",
       "2      July        C  07-01-2021  23:23:27     639 LAFAYETTE ST   \n",
       "3      July        C  07-02-2021  06:23:06        1221 BROADWAY   \n",
       "4      July        C  07-02-2021  11:07:14        705 DREXEL ST   \n",
       "...     ...      ...         ...       ...                  ...   \n",
       "1720  March        W  03-23-2022  06:41:49        6700 CABOT DR   \n",
       "1721  March        W  03-27-2022  07:54:28      329 SUSANNAH CT   \n",
       "1722  March        W  03-28-2022  19:23:55   517 RIVER ROUGE DR   \n",
       "1723  March        W  03-29-2022  14:01:59      8109 BOONE TRCE   \n",
       "1724  March        W  03-31-2022  12:24:06  7277 CHARLOTTE PIKE   \n",
       "\n",
       "        Incident Type Priority  \n",
       "0     SUICIDAL PERSON        2  \n",
       "1     SUICIDAL PERSON        2  \n",
       "2     SUICIDAL PERSON        2  \n",
       "3     SUICIDAL PERSON        2  \n",
       "4     SUICIDAL PERSON        2  \n",
       "...               ...      ...  \n",
       "1720  SUICIDAL PERSON       2M  \n",
       "1721  SUICIDAL PERSON        3  \n",
       "1722  SUICIDAL PERSON        3  \n",
       "1723  SUICIDAL PERSON       2M  \n",
       "1724  SUICIDAL PERSON        2  \n",
       "\n",
       "[1723 rows x 7 columns]"
      ]
     },
     "execution_count": 5,
     "metadata": {},
     "output_type": "execute_result"
    }
   ],
   "source": [
    "suicide_all = suicide_all.loc[(suicide_all['Precinct'] == 'C') \n",
    "            | (suicide_all['Precinct'] == 'S') \n",
    "            | (suicide_all['Precinct'] == 'M') \n",
    "            | (suicide_all['Precinct'] == 'MT') \n",
    "            | (suicide_all['Precinct'] == 'E') \n",
    "            | (suicide_all['Precinct'] == 'W') \n",
    "            | (suicide_all['Precinct'] == 'N') \n",
    "            | (suicide_all['Precinct'] == 'H')]\n",
    "suicide_all"
   ]
  },
  {
   "cell_type": "code",
   "execution_count": 6,
   "id": "95ae717a",
   "metadata": {
    "scrolled": false
   },
   "outputs": [
    {
     "data": {
      "text/html": [
       "<div>\n",
       "<style scoped>\n",
       "    .dataframe tbody tr th:only-of-type {\n",
       "        vertical-align: middle;\n",
       "    }\n",
       "\n",
       "    .dataframe tbody tr th {\n",
       "        vertical-align: top;\n",
       "    }\n",
       "\n",
       "    .dataframe thead th {\n",
       "        text-align: right;\n",
       "    }\n",
       "</style>\n",
       "<table border=\"1\" class=\"dataframe\">\n",
       "  <thead>\n",
       "    <tr style=\"text-align: right;\">\n",
       "      <th></th>\n",
       "      <th>Month</th>\n",
       "      <th>Precinct</th>\n",
       "      <th>Date</th>\n",
       "      <th>Created</th>\n",
       "      <th>Address</th>\n",
       "      <th>Incident Type</th>\n",
       "      <th>Priority</th>\n",
       "    </tr>\n",
       "  </thead>\n",
       "  <tbody>\n",
       "    <tr>\n",
       "      <th>0</th>\n",
       "      <td>July</td>\n",
       "      <td>C</td>\n",
       "      <td>07-01-2021</td>\n",
       "      <td>14:08:06</td>\n",
       "      <td>1207 MCGAVOCK ST</td>\n",
       "      <td>SUICIDAL PERSON</td>\n",
       "      <td>2</td>\n",
       "    </tr>\n",
       "    <tr>\n",
       "      <th>1</th>\n",
       "      <td>July</td>\n",
       "      <td>C</td>\n",
       "      <td>07-01-2021</td>\n",
       "      <td>16:39:59</td>\n",
       "      <td>639 LAFAYETTE ST</td>\n",
       "      <td>SUICIDAL PERSON</td>\n",
       "      <td>2</td>\n",
       "    </tr>\n",
       "    <tr>\n",
       "      <th>4</th>\n",
       "      <td>July</td>\n",
       "      <td>C</td>\n",
       "      <td>07-02-2021</td>\n",
       "      <td>11:07:14</td>\n",
       "      <td>705 DREXEL ST</td>\n",
       "      <td>SUICIDAL PERSON</td>\n",
       "      <td>2</td>\n",
       "    </tr>\n",
       "    <tr>\n",
       "      <th>6</th>\n",
       "      <td>July</td>\n",
       "      <td>C</td>\n",
       "      <td>07-04-2021</td>\n",
       "      <td>21:59:08</td>\n",
       "      <td>500 REP JOHN LEWIS WAY N</td>\n",
       "      <td>SUICIDAL PERSON</td>\n",
       "      <td>2</td>\n",
       "    </tr>\n",
       "    <tr>\n",
       "      <th>10</th>\n",
       "      <td>July</td>\n",
       "      <td>C</td>\n",
       "      <td>07-07-2021</td>\n",
       "      <td>13:45:19</td>\n",
       "      <td>526 8TH AVE S</td>\n",
       "      <td>SUICIDAL PERSON</td>\n",
       "      <td>2</td>\n",
       "    </tr>\n",
       "    <tr>\n",
       "      <th>...</th>\n",
       "      <td>...</td>\n",
       "      <td>...</td>\n",
       "      <td>...</td>\n",
       "      <td>...</td>\n",
       "      <td>...</td>\n",
       "      <td>...</td>\n",
       "      <td>...</td>\n",
       "    </tr>\n",
       "    <tr>\n",
       "      <th>1718</th>\n",
       "      <td>March</td>\n",
       "      <td>W</td>\n",
       "      <td>03-21-2022</td>\n",
       "      <td>16:23:38</td>\n",
       "      <td>610 SYLVAN HEIGHTS WAY</td>\n",
       "      <td>SUICIDAL PERSON</td>\n",
       "      <td>3</td>\n",
       "    </tr>\n",
       "    <tr>\n",
       "      <th>1719</th>\n",
       "      <td>March</td>\n",
       "      <td>W</td>\n",
       "      <td>03-22-2022</td>\n",
       "      <td>11:33:02</td>\n",
       "      <td>2602 HILLMEADE DR</td>\n",
       "      <td>SUICIDAL PERSON</td>\n",
       "      <td>2M</td>\n",
       "    </tr>\n",
       "    <tr>\n",
       "      <th>1722</th>\n",
       "      <td>March</td>\n",
       "      <td>W</td>\n",
       "      <td>03-28-2022</td>\n",
       "      <td>19:23:55</td>\n",
       "      <td>517 RIVER ROUGE DR</td>\n",
       "      <td>SUICIDAL PERSON</td>\n",
       "      <td>3</td>\n",
       "    </tr>\n",
       "    <tr>\n",
       "      <th>1723</th>\n",
       "      <td>March</td>\n",
       "      <td>W</td>\n",
       "      <td>03-29-2022</td>\n",
       "      <td>14:01:59</td>\n",
       "      <td>8109 BOONE TRCE</td>\n",
       "      <td>SUICIDAL PERSON</td>\n",
       "      <td>2M</td>\n",
       "    </tr>\n",
       "    <tr>\n",
       "      <th>1724</th>\n",
       "      <td>March</td>\n",
       "      <td>W</td>\n",
       "      <td>03-31-2022</td>\n",
       "      <td>12:24:06</td>\n",
       "      <td>7277 CHARLOTTE PIKE</td>\n",
       "      <td>SUICIDAL PERSON</td>\n",
       "      <td>2</td>\n",
       "    </tr>\n",
       "  </tbody>\n",
       "</table>\n",
       "<p>1135 rows × 7 columns</p>\n",
       "</div>"
      ],
      "text/plain": [
       "      Month Precinct        Date   Created                   Address  \\\n",
       "0      July        C  07-01-2021  14:08:06          1207 MCGAVOCK ST   \n",
       "1      July        C  07-01-2021  16:39:59          639 LAFAYETTE ST   \n",
       "4      July        C  07-02-2021  11:07:14             705 DREXEL ST   \n",
       "6      July        C  07-04-2021  21:59:08  500 REP JOHN LEWIS WAY N   \n",
       "10     July        C  07-07-2021  13:45:19             526 8TH AVE S   \n",
       "...     ...      ...         ...       ...                       ...   \n",
       "1718  March        W  03-21-2022  16:23:38    610 SYLVAN HEIGHTS WAY   \n",
       "1719  March        W  03-22-2022  11:33:02         2602 HILLMEADE DR   \n",
       "1722  March        W  03-28-2022  19:23:55        517 RIVER ROUGE DR   \n",
       "1723  March        W  03-29-2022  14:01:59           8109 BOONE TRCE   \n",
       "1724  March        W  03-31-2022  12:24:06       7277 CHARLOTTE PIKE   \n",
       "\n",
       "        Incident Type Priority  \n",
       "0     SUICIDAL PERSON        2  \n",
       "1     SUICIDAL PERSON        2  \n",
       "4     SUICIDAL PERSON        2  \n",
       "6     SUICIDAL PERSON        2  \n",
       "10    SUICIDAL PERSON        2  \n",
       "...               ...      ...  \n",
       "1718  SUICIDAL PERSON        3  \n",
       "1719  SUICIDAL PERSON       2M  \n",
       "1722  SUICIDAL PERSON        3  \n",
       "1723  SUICIDAL PERSON       2M  \n",
       "1724  SUICIDAL PERSON        2  \n",
       "\n",
       "[1135 rows x 7 columns]"
      ]
     },
     "execution_count": 6,
     "metadata": {},
     "output_type": "execute_result"
    }
   ],
   "source": [
    "suicide_all_10AM_10PM = suicide_all[suicide_all['Created'].between('10:00:00', '21:59:59')]\n",
    "suicide_all_10AM_10PM"
   ]
  },
  {
   "cell_type": "code",
   "execution_count": 7,
   "id": "b6ef6ce4",
   "metadata": {
    "scrolled": false
   },
   "outputs": [
    {
     "data": {
      "text/html": [
       "<div>\n",
       "<style scoped>\n",
       "    .dataframe tbody tr th:only-of-type {\n",
       "        vertical-align: middle;\n",
       "    }\n",
       "\n",
       "    .dataframe tbody tr th {\n",
       "        vertical-align: top;\n",
       "    }\n",
       "\n",
       "    .dataframe thead th {\n",
       "        text-align: right;\n",
       "    }\n",
       "</style>\n",
       "<table border=\"1\" class=\"dataframe\">\n",
       "  <thead>\n",
       "    <tr style=\"text-align: right;\">\n",
       "      <th></th>\n",
       "      <th>Month</th>\n",
       "      <th>Precinct</th>\n",
       "      <th>Date</th>\n",
       "      <th>Created</th>\n",
       "      <th>Address</th>\n",
       "      <th>Incident Type</th>\n",
       "      <th>Priority</th>\n",
       "    </tr>\n",
       "  </thead>\n",
       "  <tbody>\n",
       "    <tr>\n",
       "      <th>2</th>\n",
       "      <td>July</td>\n",
       "      <td>C</td>\n",
       "      <td>07-01-2021</td>\n",
       "      <td>23:23:27</td>\n",
       "      <td>639 LAFAYETTE ST</td>\n",
       "      <td>SUICIDAL PERSON</td>\n",
       "      <td>2</td>\n",
       "    </tr>\n",
       "    <tr>\n",
       "      <th>3</th>\n",
       "      <td>July</td>\n",
       "      <td>C</td>\n",
       "      <td>07-02-2021</td>\n",
       "      <td>06:23:06</td>\n",
       "      <td>1221 BROADWAY</td>\n",
       "      <td>SUICIDAL PERSON</td>\n",
       "      <td>2</td>\n",
       "    </tr>\n",
       "    <tr>\n",
       "      <th>5</th>\n",
       "      <td>July</td>\n",
       "      <td>C</td>\n",
       "      <td>07-03-2021</td>\n",
       "      <td>03:37:59</td>\n",
       "      <td>639 LAFAYETTE ST</td>\n",
       "      <td>SUICIDAL PERSON</td>\n",
       "      <td>2</td>\n",
       "    </tr>\n",
       "    <tr>\n",
       "      <th>7</th>\n",
       "      <td>July</td>\n",
       "      <td>C</td>\n",
       "      <td>07-05-2021</td>\n",
       "      <td>01:03:16</td>\n",
       "      <td>MCGAVOCK ST / 10TH AVE S</td>\n",
       "      <td>SUICIDAL PERSON</td>\n",
       "      <td>2M</td>\n",
       "    </tr>\n",
       "    <tr>\n",
       "      <th>8</th>\n",
       "      <td>July</td>\n",
       "      <td>C</td>\n",
       "      <td>07-06-2021</td>\n",
       "      <td>22:41:17</td>\n",
       "      <td>JEFFERSON ST / 4TH AVE N</td>\n",
       "      <td>SUICIDAL PERSON</td>\n",
       "      <td>2</td>\n",
       "    </tr>\n",
       "    <tr>\n",
       "      <th>...</th>\n",
       "      <td>...</td>\n",
       "      <td>...</td>\n",
       "      <td>...</td>\n",
       "      <td>...</td>\n",
       "      <td>...</td>\n",
       "      <td>...</td>\n",
       "      <td>...</td>\n",
       "    </tr>\n",
       "    <tr>\n",
       "      <th>1714</th>\n",
       "      <td>March</td>\n",
       "      <td>W</td>\n",
       "      <td>03-10-2022</td>\n",
       "      <td>01:19:55</td>\n",
       "      <td>4419 TENNESSEE AVE</td>\n",
       "      <td>SUICIDAL PERSON</td>\n",
       "      <td>2M</td>\n",
       "    </tr>\n",
       "    <tr>\n",
       "      <th>1716</th>\n",
       "      <td>March</td>\n",
       "      <td>W</td>\n",
       "      <td>03-15-2022</td>\n",
       "      <td>09:56:04</td>\n",
       "      <td>4500 POST RD</td>\n",
       "      <td>SUICIDAL PERSON</td>\n",
       "      <td>3</td>\n",
       "    </tr>\n",
       "    <tr>\n",
       "      <th>1717</th>\n",
       "      <td>March</td>\n",
       "      <td>W</td>\n",
       "      <td>03-19-2022</td>\n",
       "      <td>22:05:50</td>\n",
       "      <td>5731 RIVER RD</td>\n",
       "      <td>SUICIDAL PERSON</td>\n",
       "      <td>2M</td>\n",
       "    </tr>\n",
       "    <tr>\n",
       "      <th>1720</th>\n",
       "      <td>March</td>\n",
       "      <td>W</td>\n",
       "      <td>03-23-2022</td>\n",
       "      <td>06:41:49</td>\n",
       "      <td>6700 CABOT DR</td>\n",
       "      <td>SUICIDAL PERSON</td>\n",
       "      <td>2M</td>\n",
       "    </tr>\n",
       "    <tr>\n",
       "      <th>1721</th>\n",
       "      <td>March</td>\n",
       "      <td>W</td>\n",
       "      <td>03-27-2022</td>\n",
       "      <td>07:54:28</td>\n",
       "      <td>329 SUSANNAH CT</td>\n",
       "      <td>SUICIDAL PERSON</td>\n",
       "      <td>3</td>\n",
       "    </tr>\n",
       "  </tbody>\n",
       "</table>\n",
       "<p>588 rows × 7 columns</p>\n",
       "</div>"
      ],
      "text/plain": [
       "      Month Precinct        Date   Created                   Address  \\\n",
       "2      July        C  07-01-2021  23:23:27          639 LAFAYETTE ST   \n",
       "3      July        C  07-02-2021  06:23:06             1221 BROADWAY   \n",
       "5      July        C  07-03-2021  03:37:59          639 LAFAYETTE ST   \n",
       "7      July        C  07-05-2021  01:03:16  MCGAVOCK ST / 10TH AVE S   \n",
       "8      July        C  07-06-2021  22:41:17  JEFFERSON ST / 4TH AVE N   \n",
       "...     ...      ...         ...       ...                       ...   \n",
       "1714  March        W  03-10-2022  01:19:55        4419 TENNESSEE AVE   \n",
       "1716  March        W  03-15-2022  09:56:04              4500 POST RD   \n",
       "1717  March        W  03-19-2022  22:05:50             5731 RIVER RD   \n",
       "1720  March        W  03-23-2022  06:41:49             6700 CABOT DR   \n",
       "1721  March        W  03-27-2022  07:54:28           329 SUSANNAH CT   \n",
       "\n",
       "        Incident Type Priority  \n",
       "2     SUICIDAL PERSON        2  \n",
       "3     SUICIDAL PERSON        2  \n",
       "5     SUICIDAL PERSON        2  \n",
       "7     SUICIDAL PERSON       2M  \n",
       "8     SUICIDAL PERSON        2  \n",
       "...               ...      ...  \n",
       "1714  SUICIDAL PERSON       2M  \n",
       "1716  SUICIDAL PERSON        3  \n",
       "1717  SUICIDAL PERSON       2M  \n",
       "1720  SUICIDAL PERSON       2M  \n",
       "1721  SUICIDAL PERSON        3  \n",
       "\n",
       "[588 rows x 7 columns]"
      ]
     },
     "execution_count": 7,
     "metadata": {},
     "output_type": "execute_result"
    }
   ],
   "source": [
    "suicide_all_10PM_10AM = suicide_all[~suicide_all['Created'].between('10:00:00', '21:59:59')]\n",
    "suicide_all_10PM_10AM"
   ]
  },
  {
   "cell_type": "markdown",
   "id": "536a69fb",
   "metadata": {},
   "source": [
    "# Central - Night - 168"
   ]
  },
  {
   "cell_type": "code",
   "execution_count": 8,
   "id": "cc212409",
   "metadata": {},
   "outputs": [],
   "source": [
    "S_Calls_C_Night = suicide_all_10PM_10AM.loc[suicide_all_10PM_10AM[\"Precinct\"]==\"C\"]"
   ]
  },
  {
   "cell_type": "code",
   "execution_count": 9,
   "id": "dac9cf9d",
   "metadata": {
    "scrolled": true
   },
   "outputs": [
    {
     "name": "stdout",
     "output_type": "stream",
     "text": [
      "<class 'pandas.core.frame.DataFrame'>\n",
      "Int64Index: 168 entries, 2 to 1552\n",
      "Data columns (total 7 columns):\n",
      " #   Column         Non-Null Count  Dtype \n",
      "---  ------         --------------  ----- \n",
      " 0   Month          168 non-null    object\n",
      " 1   Precinct       168 non-null    object\n",
      " 2   Date           168 non-null    object\n",
      " 3   Created        168 non-null    object\n",
      " 4   Address        168 non-null    object\n",
      " 5   Incident Type  168 non-null    object\n",
      " 6   Priority       168 non-null    object\n",
      "dtypes: object(7)\n",
      "memory usage: 10.5+ KB\n"
     ]
    }
   ],
   "source": [
    "S_Calls_C_Night.info()"
   ]
  },
  {
   "cell_type": "markdown",
   "id": "25280e4b",
   "metadata": {},
   "source": [
    "# Hermitage - Night - 97"
   ]
  },
  {
   "cell_type": "code",
   "execution_count": 10,
   "id": "120b6c2c",
   "metadata": {},
   "outputs": [],
   "source": [
    "S_Calls_H_Night = suicide_all_10PM_10AM.loc[suicide_all_10PM_10AM[\"Precinct\"]==\"H\"]"
   ]
  },
  {
   "cell_type": "code",
   "execution_count": 11,
   "id": "5a420b6e",
   "metadata": {
    "scrolled": true
   },
   "outputs": [
    {
     "data": {
      "text/html": [
       "<div>\n",
       "<style scoped>\n",
       "    .dataframe tbody tr th:only-of-type {\n",
       "        vertical-align: middle;\n",
       "    }\n",
       "\n",
       "    .dataframe tbody tr th {\n",
       "        vertical-align: top;\n",
       "    }\n",
       "\n",
       "    .dataframe thead th {\n",
       "        text-align: right;\n",
       "    }\n",
       "</style>\n",
       "<table border=\"1\" class=\"dataframe\">\n",
       "  <thead>\n",
       "    <tr style=\"text-align: right;\">\n",
       "      <th></th>\n",
       "      <th>Month</th>\n",
       "      <th>Precinct</th>\n",
       "      <th>Date</th>\n",
       "      <th>Created</th>\n",
       "      <th>Address</th>\n",
       "      <th>Incident Type</th>\n",
       "      <th>Priority</th>\n",
       "    </tr>\n",
       "  </thead>\n",
       "  <tbody>\n",
       "    <tr>\n",
       "      <th>66</th>\n",
       "      <td>July</td>\n",
       "      <td>H</td>\n",
       "      <td>07-01-2021</td>\n",
       "      <td>06:54:32</td>\n",
       "      <td>501 ERMAC DR</td>\n",
       "      <td>SUICIDAL PERSON</td>\n",
       "      <td>2M</td>\n",
       "    </tr>\n",
       "    <tr>\n",
       "      <th>71</th>\n",
       "      <td>July</td>\n",
       "      <td>H</td>\n",
       "      <td>07-03-2021</td>\n",
       "      <td>02:44:27</td>\n",
       "      <td>5400 OLD HICKORY BLVD</td>\n",
       "      <td>SUICIDAL PERSON</td>\n",
       "      <td>2</td>\n",
       "    </tr>\n",
       "    <tr>\n",
       "      <th>74</th>\n",
       "      <td>July</td>\n",
       "      <td>H</td>\n",
       "      <td>07-05-2021</td>\n",
       "      <td>23:25:41</td>\n",
       "      <td>104 LEWIS ST</td>\n",
       "      <td>SUICIDAL PERSON</td>\n",
       "      <td>2</td>\n",
       "    </tr>\n",
       "    <tr>\n",
       "      <th>77</th>\n",
       "      <td>July</td>\n",
       "      <td>H</td>\n",
       "      <td>07-07-2021</td>\n",
       "      <td>01:09:17</td>\n",
       "      <td>4701 OLD HICKORY BLVD</td>\n",
       "      <td>SUICIDAL PERSON</td>\n",
       "      <td>2</td>\n",
       "    </tr>\n",
       "    <tr>\n",
       "      <th>79</th>\n",
       "      <td>July</td>\n",
       "      <td>H</td>\n",
       "      <td>07-07-2021</td>\n",
       "      <td>23:50:11</td>\n",
       "      <td>1102 CLEVES ST</td>\n",
       "      <td>SUICIDAL PERSON</td>\n",
       "      <td>2</td>\n",
       "    </tr>\n",
       "    <tr>\n",
       "      <th>82</th>\n",
       "      <td>July</td>\n",
       "      <td>H</td>\n",
       "      <td>07-10-2021</td>\n",
       "      <td>02:45:23</td>\n",
       "      <td>87 MAURY ST</td>\n",
       "      <td>SUICIDAL PERSON</td>\n",
       "      <td>3</td>\n",
       "    </tr>\n",
       "    <tr>\n",
       "      <th>83</th>\n",
       "      <td>July</td>\n",
       "      <td>H</td>\n",
       "      <td>07-11-2021</td>\n",
       "      <td>05:32:04</td>\n",
       "      <td>4661 FOREST RIDGE DR</td>\n",
       "      <td>SUICIDAL PERSON</td>\n",
       "      <td>3</td>\n",
       "    </tr>\n",
       "    <tr>\n",
       "      <th>84</th>\n",
       "      <td>July</td>\n",
       "      <td>H</td>\n",
       "      <td>07-11-2021</td>\n",
       "      <td>08:30:36</td>\n",
       "      <td>6004 ELIJAH CT</td>\n",
       "      <td>SUICIDAL PERSON</td>\n",
       "      <td>2</td>\n",
       "    </tr>\n",
       "    <tr>\n",
       "      <th>88</th>\n",
       "      <td>July</td>\n",
       "      <td>H</td>\n",
       "      <td>07-15-2021</td>\n",
       "      <td>06:14:31</td>\n",
       "      <td>710 MURFREESBORO PIKE</td>\n",
       "      <td>SUICIDAL PERSON</td>\n",
       "      <td>2</td>\n",
       "    </tr>\n",
       "    <tr>\n",
       "      <th>89</th>\n",
       "      <td>July</td>\n",
       "      <td>H</td>\n",
       "      <td>07-15-2021</td>\n",
       "      <td>07:38:32</td>\n",
       "      <td>201 CAMERON CT</td>\n",
       "      <td>SUICIDAL PERSON</td>\n",
       "      <td>2</td>\n",
       "    </tr>\n",
       "    <tr>\n",
       "      <th>90</th>\n",
       "      <td>July</td>\n",
       "      <td>H</td>\n",
       "      <td>07-16-2021</td>\n",
       "      <td>09:50:05</td>\n",
       "      <td>2508 ELM HILL PIKE</td>\n",
       "      <td>SUICIDAL PERSON</td>\n",
       "      <td>2</td>\n",
       "    </tr>\n",
       "    <tr>\n",
       "      <th>91</th>\n",
       "      <td>July</td>\n",
       "      <td>H</td>\n",
       "      <td>07-17-2021</td>\n",
       "      <td>03:53:30</td>\n",
       "      <td>294 BURNING TREE DR</td>\n",
       "      <td>SUICIDAL PERSON</td>\n",
       "      <td>3</td>\n",
       "    </tr>\n",
       "    <tr>\n",
       "      <th>94</th>\n",
       "      <td>July</td>\n",
       "      <td>H</td>\n",
       "      <td>07-21-2021</td>\n",
       "      <td>08:10:29</td>\n",
       "      <td>294 BURNING TREE DR</td>\n",
       "      <td>SUICIDAL PERSON</td>\n",
       "      <td>3</td>\n",
       "    </tr>\n",
       "    <tr>\n",
       "      <th>95</th>\n",
       "      <td>July</td>\n",
       "      <td>H</td>\n",
       "      <td>07-22-2021</td>\n",
       "      <td>09:48:40</td>\n",
       "      <td>4400 OLD HICKORY BLVD</td>\n",
       "      <td>SUICIDAL PERSON</td>\n",
       "      <td>2</td>\n",
       "    </tr>\n",
       "    <tr>\n",
       "      <th>100</th>\n",
       "      <td>July</td>\n",
       "      <td>H</td>\n",
       "      <td>07-30-2021</td>\n",
       "      <td>23:54:53</td>\n",
       "      <td>83 MAURY ST</td>\n",
       "      <td>SUICIDAL PERSON</td>\n",
       "      <td>2M</td>\n",
       "    </tr>\n",
       "    <tr>\n",
       "      <th>263</th>\n",
       "      <td>August</td>\n",
       "      <td>H</td>\n",
       "      <td>08-01-2021</td>\n",
       "      <td>04:56:26</td>\n",
       "      <td>601 FESSLERS LN</td>\n",
       "      <td>SUICIDAL PERSON</td>\n",
       "      <td>2</td>\n",
       "    </tr>\n",
       "    <tr>\n",
       "      <th>267</th>\n",
       "      <td>August</td>\n",
       "      <td>H</td>\n",
       "      <td>08-05-2021</td>\n",
       "      <td>00:08:00</td>\n",
       "      <td>210 32ND ST</td>\n",
       "      <td>SUICIDAL PERSON</td>\n",
       "      <td>2</td>\n",
       "    </tr>\n",
       "    <tr>\n",
       "      <th>273</th>\n",
       "      <td>August</td>\n",
       "      <td>H</td>\n",
       "      <td>08-12-2021</td>\n",
       "      <td>08:51:03</td>\n",
       "      <td>2324 LEBANON PIKE</td>\n",
       "      <td>SUICIDAL PERSON</td>\n",
       "      <td>2M</td>\n",
       "    </tr>\n",
       "    <tr>\n",
       "      <th>274</th>\n",
       "      <td>August</td>\n",
       "      <td>H</td>\n",
       "      <td>08-13-2021</td>\n",
       "      <td>22:30:51</td>\n",
       "      <td>1025 WESLEYVILLE ST</td>\n",
       "      <td>SUICIDAL PERSON</td>\n",
       "      <td>2</td>\n",
       "    </tr>\n",
       "    <tr>\n",
       "      <th>275</th>\n",
       "      <td>August</td>\n",
       "      <td>H</td>\n",
       "      <td>08-16-2021</td>\n",
       "      <td>09:02:08</td>\n",
       "      <td>3110 ELM HILL PIKE</td>\n",
       "      <td>SUICIDAL PERSON</td>\n",
       "      <td>2</td>\n",
       "    </tr>\n",
       "    <tr>\n",
       "      <th>283</th>\n",
       "      <td>August</td>\n",
       "      <td>H</td>\n",
       "      <td>08-24-2021</td>\n",
       "      <td>05:40:28</td>\n",
       "      <td>860 MURFREESBORO PIKE</td>\n",
       "      <td>SUICIDAL PERSON</td>\n",
       "      <td>2</td>\n",
       "    </tr>\n",
       "    <tr>\n",
       "      <th>288</th>\n",
       "      <td>August</td>\n",
       "      <td>H</td>\n",
       "      <td>08-28-2021</td>\n",
       "      <td>01:16:37</td>\n",
       "      <td>87 MAURY ST</td>\n",
       "      <td>SUICIDAL PERSON</td>\n",
       "      <td>2</td>\n",
       "    </tr>\n",
       "    <tr>\n",
       "      <th>289</th>\n",
       "      <td>August</td>\n",
       "      <td>H</td>\n",
       "      <td>08-30-2021</td>\n",
       "      <td>00:24:46</td>\n",
       "      <td>344 BELL RD</td>\n",
       "      <td>SUICIDAL PERSON</td>\n",
       "      <td>2M</td>\n",
       "    </tr>\n",
       "    <tr>\n",
       "      <th>290</th>\n",
       "      <td>August</td>\n",
       "      <td>H</td>\n",
       "      <td>08-30-2021</td>\n",
       "      <td>01:51:12</td>\n",
       "      <td>3960 BELL RD</td>\n",
       "      <td>SUICIDAL PERSON</td>\n",
       "      <td>2</td>\n",
       "    </tr>\n",
       "    <tr>\n",
       "      <th>291</th>\n",
       "      <td>August</td>\n",
       "      <td>H</td>\n",
       "      <td>08-30-2021</td>\n",
       "      <td>08:58:41</td>\n",
       "      <td>4343 LEBANON PIKE</td>\n",
       "      <td>SUICIDAL PERSON</td>\n",
       "      <td>3M</td>\n",
       "    </tr>\n",
       "    <tr>\n",
       "      <th>293</th>\n",
       "      <td>August</td>\n",
       "      <td>H</td>\n",
       "      <td>08-31-2021</td>\n",
       "      <td>22:32:47</td>\n",
       "      <td>91 LEWIS ST</td>\n",
       "      <td>SUICIDAL PERSON</td>\n",
       "      <td>2</td>\n",
       "    </tr>\n",
       "    <tr>\n",
       "      <th>460</th>\n",
       "      <td>September</td>\n",
       "      <td>H</td>\n",
       "      <td>09-04-2021</td>\n",
       "      <td>01:46:27</td>\n",
       "      <td>2ND AVE S / LAFAYETTE ST</td>\n",
       "      <td>SUICIDAL PERSON</td>\n",
       "      <td>2M</td>\n",
       "    </tr>\n",
       "    <tr>\n",
       "      <th>461</th>\n",
       "      <td>September</td>\n",
       "      <td>H</td>\n",
       "      <td>09-04-2021</td>\n",
       "      <td>23:17:34</td>\n",
       "      <td>734 NETHERLANDS DR</td>\n",
       "      <td>SUICIDAL PERSON</td>\n",
       "      <td>2</td>\n",
       "    </tr>\n",
       "    <tr>\n",
       "      <th>462</th>\n",
       "      <td>September</td>\n",
       "      <td>H</td>\n",
       "      <td>09-05-2021</td>\n",
       "      <td>02:15:07</td>\n",
       "      <td>87 MAURY ST</td>\n",
       "      <td>SUICIDAL PERSON</td>\n",
       "      <td>2</td>\n",
       "    </tr>\n",
       "    <tr>\n",
       "      <th>464</th>\n",
       "      <td>September</td>\n",
       "      <td>H</td>\n",
       "      <td>09-06-2021</td>\n",
       "      <td>02:26:54</td>\n",
       "      <td>5582 OLD HICKORY BLVD</td>\n",
       "      <td>SUICIDAL PERSON</td>\n",
       "      <td>2</td>\n",
       "    </tr>\n",
       "    <tr>\n",
       "      <th>466</th>\n",
       "      <td>September</td>\n",
       "      <td>H</td>\n",
       "      <td>09-07-2021</td>\n",
       "      <td>23:00:38</td>\n",
       "      <td>104 LEWIS ST</td>\n",
       "      <td>SUICIDAL PERSON</td>\n",
       "      <td>2</td>\n",
       "    </tr>\n",
       "    <tr>\n",
       "      <th>467</th>\n",
       "      <td>September</td>\n",
       "      <td>H</td>\n",
       "      <td>09-08-2021</td>\n",
       "      <td>09:19:23</td>\n",
       "      <td>344 BELL RD</td>\n",
       "      <td>SUICIDAL PERSON</td>\n",
       "      <td>2M</td>\n",
       "    </tr>\n",
       "    <tr>\n",
       "      <th>468</th>\n",
       "      <td>September</td>\n",
       "      <td>H</td>\n",
       "      <td>09-10-2021</td>\n",
       "      <td>22:37:47</td>\n",
       "      <td>98 MAURY ST</td>\n",
       "      <td>SUICIDAL PERSON</td>\n",
       "      <td>2</td>\n",
       "    </tr>\n",
       "    <tr>\n",
       "      <th>469</th>\n",
       "      <td>September</td>\n",
       "      <td>H</td>\n",
       "      <td>09-11-2021</td>\n",
       "      <td>07:57:37</td>\n",
       "      <td>505 SCHOONER CV</td>\n",
       "      <td>SUICIDAL PERSON</td>\n",
       "      <td>3</td>\n",
       "    </tr>\n",
       "    <tr>\n",
       "      <th>470</th>\n",
       "      <td>September</td>\n",
       "      <td>H</td>\n",
       "      <td>09-11-2021</td>\n",
       "      <td>09:23:04</td>\n",
       "      <td>2952 HIGH RIGGER DR</td>\n",
       "      <td>SUICIDAL PERSON</td>\n",
       "      <td>2M</td>\n",
       "    </tr>\n",
       "    <tr>\n",
       "      <th>472</th>\n",
       "      <td>September</td>\n",
       "      <td>H</td>\n",
       "      <td>09-14-2021</td>\n",
       "      <td>00:10:18</td>\n",
       "      <td>MM 213 0 I40 E</td>\n",
       "      <td>SUICIDAL PERSON</td>\n",
       "      <td>2</td>\n",
       "    </tr>\n",
       "    <tr>\n",
       "      <th>473</th>\n",
       "      <td>September</td>\n",
       "      <td>H</td>\n",
       "      <td>09-14-2021</td>\n",
       "      <td>04:04:32</td>\n",
       "      <td>2301 LEBANON PIKE</td>\n",
       "      <td>SUICIDAL PERSON</td>\n",
       "      <td>2</td>\n",
       "    </tr>\n",
       "    <tr>\n",
       "      <th>475</th>\n",
       "      <td>September</td>\n",
       "      <td>H</td>\n",
       "      <td>09-17-2021</td>\n",
       "      <td>07:15:11</td>\n",
       "      <td>1101 CATINA DR</td>\n",
       "      <td>SUICIDAL PERSON</td>\n",
       "      <td>3</td>\n",
       "    </tr>\n",
       "    <tr>\n",
       "      <th>477</th>\n",
       "      <td>September</td>\n",
       "      <td>H</td>\n",
       "      <td>09-20-2021</td>\n",
       "      <td>00:48:15</td>\n",
       "      <td>1150 VULTEE BLVD</td>\n",
       "      <td>SUICIDAL PERSON</td>\n",
       "      <td>2</td>\n",
       "    </tr>\n",
       "    <tr>\n",
       "      <th>478</th>\n",
       "      <td>September</td>\n",
       "      <td>H</td>\n",
       "      <td>09-21-2021</td>\n",
       "      <td>03:50:08</td>\n",
       "      <td>714 STEWARTS FERRY PIKE</td>\n",
       "      <td>SUICIDAL PERSON</td>\n",
       "      <td>2</td>\n",
       "    </tr>\n",
       "    <tr>\n",
       "      <th>482</th>\n",
       "      <td>September</td>\n",
       "      <td>H</td>\n",
       "      <td>09-29-2021</td>\n",
       "      <td>01:19:29</td>\n",
       "      <td>2461 MCGAVOCK PIKE</td>\n",
       "      <td>SUICIDAL PERSON</td>\n",
       "      <td>2</td>\n",
       "    </tr>\n",
       "    <tr>\n",
       "      <th>665</th>\n",
       "      <td>October</td>\n",
       "      <td>H</td>\n",
       "      <td>10-01-2021</td>\n",
       "      <td>01:04:16</td>\n",
       "      <td>2403 LEBANON PIKE</td>\n",
       "      <td>SUICIDAL PERSON</td>\n",
       "      <td>2M</td>\n",
       "    </tr>\n",
       "    <tr>\n",
       "      <th>671</th>\n",
       "      <td>October</td>\n",
       "      <td>H</td>\n",
       "      <td>10-05-2021</td>\n",
       "      <td>06:51:49</td>\n",
       "      <td>426 MURFREESBORO PIKE</td>\n",
       "      <td>SUICIDAL PERSON</td>\n",
       "      <td>2M</td>\n",
       "    </tr>\n",
       "    <tr>\n",
       "      <th>677</th>\n",
       "      <td>October</td>\n",
       "      <td>H</td>\n",
       "      <td>10-09-2021</td>\n",
       "      <td>23:10:23</td>\n",
       "      <td>87 MAURY ST</td>\n",
       "      <td>SUICIDAL PERSON</td>\n",
       "      <td>2</td>\n",
       "    </tr>\n",
       "    <tr>\n",
       "      <th>679</th>\n",
       "      <td>October</td>\n",
       "      <td>H</td>\n",
       "      <td>10-12-2021</td>\n",
       "      <td>08:49:57</td>\n",
       "      <td>416 LINCOYA BAY DR</td>\n",
       "      <td>SUICIDAL PERSON</td>\n",
       "      <td>2</td>\n",
       "    </tr>\n",
       "    <tr>\n",
       "      <th>688</th>\n",
       "      <td>October</td>\n",
       "      <td>H</td>\n",
       "      <td>10-15-2021</td>\n",
       "      <td>23:17:28</td>\n",
       "      <td>2284 MURFREESBORO PIKE</td>\n",
       "      <td>SUICIDAL PERSON</td>\n",
       "      <td>2M</td>\n",
       "    </tr>\n",
       "    <tr>\n",
       "      <th>690</th>\n",
       "      <td>October</td>\n",
       "      <td>H</td>\n",
       "      <td>10-17-2021</td>\n",
       "      <td>22:10:00</td>\n",
       "      <td>649 KINGS WAY DR</td>\n",
       "      <td>SUICIDAL PERSON</td>\n",
       "      <td>2</td>\n",
       "    </tr>\n",
       "    <tr>\n",
       "      <th>696</th>\n",
       "      <td>October</td>\n",
       "      <td>H</td>\n",
       "      <td>10-22-2021</td>\n",
       "      <td>08:52:10</td>\n",
       "      <td>600 MURFREESBORO PIKE</td>\n",
       "      <td>SUICIDAL PERSON</td>\n",
       "      <td>2</td>\n",
       "    </tr>\n",
       "    <tr>\n",
       "      <th>705</th>\n",
       "      <td>October</td>\n",
       "      <td>H</td>\n",
       "      <td>10-31-2021</td>\n",
       "      <td>00:58:03</td>\n",
       "      <td>309 TRAILS CIR</td>\n",
       "      <td>SUICIDAL PERSON</td>\n",
       "      <td>3</td>\n",
       "    </tr>\n",
       "    <tr>\n",
       "      <th>875</th>\n",
       "      <td>November</td>\n",
       "      <td>H</td>\n",
       "      <td>11-01-2021</td>\n",
       "      <td>23:23:41</td>\n",
       "      <td>2800 OPRYLAND DR</td>\n",
       "      <td>SUICIDAL PERSON</td>\n",
       "      <td>2</td>\n",
       "    </tr>\n",
       "    <tr>\n",
       "      <th>879</th>\n",
       "      <td>November</td>\n",
       "      <td>H</td>\n",
       "      <td>11-06-2021</td>\n",
       "      <td>00:00:42</td>\n",
       "      <td>183 GRAYLYNN DR</td>\n",
       "      <td>SUICIDAL PERSON</td>\n",
       "      <td>3</td>\n",
       "    </tr>\n",
       "    <tr>\n",
       "      <th>880</th>\n",
       "      <td>November</td>\n",
       "      <td>H</td>\n",
       "      <td>11-07-2021</td>\n",
       "      <td>00:58:38</td>\n",
       "      <td>4054 ANDREW JACKSON WAY</td>\n",
       "      <td>SUICIDAL PERSON</td>\n",
       "      <td>2</td>\n",
       "    </tr>\n",
       "    <tr>\n",
       "      <th>888</th>\n",
       "      <td>November</td>\n",
       "      <td>H</td>\n",
       "      <td>11-19-2021</td>\n",
       "      <td>08:43:22</td>\n",
       "      <td>2101 LONGHUNTER LN</td>\n",
       "      <td>SUICIDAL PERSON</td>\n",
       "      <td>3M</td>\n",
       "    </tr>\n",
       "    <tr>\n",
       "      <th>1035</th>\n",
       "      <td>December</td>\n",
       "      <td>H</td>\n",
       "      <td>12-02-2021</td>\n",
       "      <td>01:47:29</td>\n",
       "      <td>1303 ELM HILL PIKE</td>\n",
       "      <td>SUICIDAL PERSON</td>\n",
       "      <td>2M</td>\n",
       "    </tr>\n",
       "    <tr>\n",
       "      <th>1036</th>\n",
       "      <td>December</td>\n",
       "      <td>H</td>\n",
       "      <td>12-02-2021</td>\n",
       "      <td>08:10:39</td>\n",
       "      <td>270 CLOVERNOOK DR</td>\n",
       "      <td>SUICIDAL PERSON</td>\n",
       "      <td>2</td>\n",
       "    </tr>\n",
       "    <tr>\n",
       "      <th>1037</th>\n",
       "      <td>December</td>\n",
       "      <td>H</td>\n",
       "      <td>12-03-2021</td>\n",
       "      <td>09:50:26</td>\n",
       "      <td>4144 LEBANON PIKE</td>\n",
       "      <td>SUICIDAL PERSON</td>\n",
       "      <td>2M</td>\n",
       "    </tr>\n",
       "    <tr>\n",
       "      <th>1039</th>\n",
       "      <td>December</td>\n",
       "      <td>H</td>\n",
       "      <td>12-05-2021</td>\n",
       "      <td>23:53:16</td>\n",
       "      <td>737 NETHERLANDS DR</td>\n",
       "      <td>SUICIDAL PERSON</td>\n",
       "      <td>2</td>\n",
       "    </tr>\n",
       "    <tr>\n",
       "      <th>1044</th>\n",
       "      <td>December</td>\n",
       "      <td>H</td>\n",
       "      <td>12-08-2021</td>\n",
       "      <td>22:44:14</td>\n",
       "      <td>1441 LEBANON PIKE</td>\n",
       "      <td>SUICIDAL PERSON</td>\n",
       "      <td>3</td>\n",
       "    </tr>\n",
       "    <tr>\n",
       "      <th>1046</th>\n",
       "      <td>December</td>\n",
       "      <td>H</td>\n",
       "      <td>12-16-2021</td>\n",
       "      <td>01:05:56</td>\n",
       "      <td>81 FAIRFIELD AVE</td>\n",
       "      <td>SUICIDAL PERSON</td>\n",
       "      <td>2</td>\n",
       "    </tr>\n",
       "    <tr>\n",
       "      <th>1049</th>\n",
       "      <td>December</td>\n",
       "      <td>H</td>\n",
       "      <td>12-19-2021</td>\n",
       "      <td>07:07:43</td>\n",
       "      <td>5772 OLD HICKORY BLVD</td>\n",
       "      <td>SUICIDAL PERSON</td>\n",
       "      <td>2M</td>\n",
       "    </tr>\n",
       "    <tr>\n",
       "      <th>1050</th>\n",
       "      <td>December</td>\n",
       "      <td>H</td>\n",
       "      <td>12-19-2021</td>\n",
       "      <td>07:19:07</td>\n",
       "      <td>2634 MURFREESBORO PIKE</td>\n",
       "      <td>SUICIDAL PERSON</td>\n",
       "      <td>2M</td>\n",
       "    </tr>\n",
       "    <tr>\n",
       "      <th>1053</th>\n",
       "      <td>December</td>\n",
       "      <td>H</td>\n",
       "      <td>12-19-2021</td>\n",
       "      <td>22:19:22</td>\n",
       "      <td>2523 LEBANON PIKE</td>\n",
       "      <td>SUICIDAL PERSON</td>\n",
       "      <td>2M</td>\n",
       "    </tr>\n",
       "    <tr>\n",
       "      <th>1058</th>\n",
       "      <td>December</td>\n",
       "      <td>H</td>\n",
       "      <td>12-24-2021</td>\n",
       "      <td>22:52:02</td>\n",
       "      <td>2800 OPRYLAND DR</td>\n",
       "      <td>SUICIDAL PERSON</td>\n",
       "      <td>2</td>\n",
       "    </tr>\n",
       "    <tr>\n",
       "      <th>1059</th>\n",
       "      <td>December</td>\n",
       "      <td>H</td>\n",
       "      <td>12-25-2021</td>\n",
       "      <td>01:58:35</td>\n",
       "      <td>1487 STEWARTS FERRY PIKE</td>\n",
       "      <td>SUICIDAL PERSON</td>\n",
       "      <td>2</td>\n",
       "    </tr>\n",
       "    <tr>\n",
       "      <th>1062</th>\n",
       "      <td>December</td>\n",
       "      <td>H</td>\n",
       "      <td>12-29-2021</td>\n",
       "      <td>09:31:14</td>\n",
       "      <td>2332 NASHBORO BLVD</td>\n",
       "      <td>SUICIDAL PERSON</td>\n",
       "      <td>2M</td>\n",
       "    </tr>\n",
       "    <tr>\n",
       "      <th>1064</th>\n",
       "      <td>December</td>\n",
       "      <td>H</td>\n",
       "      <td>12-31-2021</td>\n",
       "      <td>07:42:05</td>\n",
       "      <td>82 LAFAYETTE ST</td>\n",
       "      <td>SUICIDAL PERSON</td>\n",
       "      <td>2M</td>\n",
       "    </tr>\n",
       "    <tr>\n",
       "      <th>1214</th>\n",
       "      <td>January</td>\n",
       "      <td>H</td>\n",
       "      <td>01-04-2022</td>\n",
       "      <td>03:48:15</td>\n",
       "      <td>3855 BELL RD</td>\n",
       "      <td>SUICIDAL PERSON</td>\n",
       "      <td>2</td>\n",
       "    </tr>\n",
       "    <tr>\n",
       "      <th>1218</th>\n",
       "      <td>January</td>\n",
       "      <td>H</td>\n",
       "      <td>01-06-2022</td>\n",
       "      <td>02:57:45</td>\n",
       "      <td>601 FESSLERS LN</td>\n",
       "      <td>SUICIDAL PERSON</td>\n",
       "      <td>2M</td>\n",
       "    </tr>\n",
       "    <tr>\n",
       "      <th>1224</th>\n",
       "      <td>January</td>\n",
       "      <td>H</td>\n",
       "      <td>01-11-2022</td>\n",
       "      <td>08:06:32</td>\n",
       "      <td>6001 OLD HICKORY BLVD</td>\n",
       "      <td>SUICIDAL PERSON</td>\n",
       "      <td>3</td>\n",
       "    </tr>\n",
       "    <tr>\n",
       "      <th>1225</th>\n",
       "      <td>January</td>\n",
       "      <td>H</td>\n",
       "      <td>01-11-2022</td>\n",
       "      <td>22:06:10</td>\n",
       "      <td>4424 LEBANON PIKE</td>\n",
       "      <td>SUICIDAL PERSON</td>\n",
       "      <td>2</td>\n",
       "    </tr>\n",
       "    <tr>\n",
       "      <th>1228</th>\n",
       "      <td>January</td>\n",
       "      <td>H</td>\n",
       "      <td>01-14-2022</td>\n",
       "      <td>08:28:24</td>\n",
       "      <td>2101 LONGHUNTER LN</td>\n",
       "      <td>SUICIDAL PERSON</td>\n",
       "      <td>2</td>\n",
       "    </tr>\n",
       "    <tr>\n",
       "      <th>1230</th>\n",
       "      <td>January</td>\n",
       "      <td>H</td>\n",
       "      <td>01-15-2022</td>\n",
       "      <td>22:35:03</td>\n",
       "      <td>704 BLUE BRICK PL</td>\n",
       "      <td>SUICIDAL PERSON</td>\n",
       "      <td>2M</td>\n",
       "    </tr>\n",
       "    <tr>\n",
       "      <th>1232</th>\n",
       "      <td>January</td>\n",
       "      <td>H</td>\n",
       "      <td>01-19-2022</td>\n",
       "      <td>03:25:58</td>\n",
       "      <td>2815 LEBANON PIKE</td>\n",
       "      <td>SUICIDAL PERSON</td>\n",
       "      <td>2</td>\n",
       "    </tr>\n",
       "    <tr>\n",
       "      <th>1234</th>\n",
       "      <td>January</td>\n",
       "      <td>H</td>\n",
       "      <td>01-20-2022</td>\n",
       "      <td>03:07:15</td>\n",
       "      <td>5800 OLD HICKORY BLVD</td>\n",
       "      <td>SUICIDAL PERSON</td>\n",
       "      <td>2M</td>\n",
       "    </tr>\n",
       "    <tr>\n",
       "      <th>1235</th>\n",
       "      <td>January</td>\n",
       "      <td>H</td>\n",
       "      <td>01-21-2022</td>\n",
       "      <td>02:11:05</td>\n",
       "      <td>123 VILLAGE GREEN DR</td>\n",
       "      <td>SUICIDAL PERSON</td>\n",
       "      <td>2</td>\n",
       "    </tr>\n",
       "    <tr>\n",
       "      <th>1242</th>\n",
       "      <td>January</td>\n",
       "      <td>H</td>\n",
       "      <td>01-29-2022</td>\n",
       "      <td>01:32:05</td>\n",
       "      <td>5636 OLD HICKORY BLVD</td>\n",
       "      <td>SUICIDAL PERSON</td>\n",
       "      <td>2</td>\n",
       "    </tr>\n",
       "    <tr>\n",
       "      <th>1244</th>\n",
       "      <td>January</td>\n",
       "      <td>H</td>\n",
       "      <td>01-30-2022</td>\n",
       "      <td>07:36:27</td>\n",
       "      <td>2521 ELM HILL PIKE</td>\n",
       "      <td>SUICIDAL PERSON</td>\n",
       "      <td>2</td>\n",
       "    </tr>\n",
       "    <tr>\n",
       "      <th>1245</th>\n",
       "      <td>January</td>\n",
       "      <td>H</td>\n",
       "      <td>01-31-2022</td>\n",
       "      <td>08:30:57</td>\n",
       "      <td>2822 BRANWOOD DR</td>\n",
       "      <td>SUICIDAL PERSON</td>\n",
       "      <td>2M</td>\n",
       "    </tr>\n",
       "    <tr>\n",
       "      <th>1409</th>\n",
       "      <td>February</td>\n",
       "      <td>H</td>\n",
       "      <td>02-04-2022</td>\n",
       "      <td>00:24:59</td>\n",
       "      <td>1500 ROBINSON RD</td>\n",
       "      <td>SUICIDAL PERSON</td>\n",
       "      <td>2M</td>\n",
       "    </tr>\n",
       "    <tr>\n",
       "      <th>1415</th>\n",
       "      <td>February</td>\n",
       "      <td>H</td>\n",
       "      <td>02-07-2022</td>\n",
       "      <td>09:57:26</td>\n",
       "      <td>279 STEWARTS FERRY PIKE</td>\n",
       "      <td>SUICIDAL PERSON</td>\n",
       "      <td>2</td>\n",
       "    </tr>\n",
       "    <tr>\n",
       "      <th>1418</th>\n",
       "      <td>February</td>\n",
       "      <td>H</td>\n",
       "      <td>02-08-2022</td>\n",
       "      <td>23:39:33</td>\n",
       "      <td>545 DONELSON PIKE</td>\n",
       "      <td>SUICIDAL PERSON</td>\n",
       "      <td>3</td>\n",
       "    </tr>\n",
       "    <tr>\n",
       "      <th>1420</th>\n",
       "      <td>February</td>\n",
       "      <td>H</td>\n",
       "      <td>02-12-2022</td>\n",
       "      <td>00:54:26</td>\n",
       "      <td>4617 OLD HICKORY BLVD</td>\n",
       "      <td>SUICIDAL PERSON</td>\n",
       "      <td>2</td>\n",
       "    </tr>\n",
       "    <tr>\n",
       "      <th>1423</th>\n",
       "      <td>February</td>\n",
       "      <td>H</td>\n",
       "      <td>02-13-2022</td>\n",
       "      <td>22:32:40</td>\n",
       "      <td>3960 BELL RD</td>\n",
       "      <td>SUICIDAL PERSON</td>\n",
       "      <td>3</td>\n",
       "    </tr>\n",
       "    <tr>\n",
       "      <th>1425</th>\n",
       "      <td>February</td>\n",
       "      <td>H</td>\n",
       "      <td>02-14-2022</td>\n",
       "      <td>22:06:38</td>\n",
       "      <td>165 COUNTRY WOOD CIR</td>\n",
       "      <td>SUICIDAL PERSON</td>\n",
       "      <td>2</td>\n",
       "    </tr>\n",
       "    <tr>\n",
       "      <th>1436</th>\n",
       "      <td>February</td>\n",
       "      <td>H</td>\n",
       "      <td>02-26-2022</td>\n",
       "      <td>03:49:04</td>\n",
       "      <td>2320 MAPLECREST DR</td>\n",
       "      <td>SUICIDAL PERSON</td>\n",
       "      <td>3</td>\n",
       "    </tr>\n",
       "    <tr>\n",
       "      <th>1439</th>\n",
       "      <td>February</td>\n",
       "      <td>H</td>\n",
       "      <td>02-27-2022</td>\n",
       "      <td>23:51:50</td>\n",
       "      <td>4601 LEBANON PIKE</td>\n",
       "      <td>SUICIDAL PERSON</td>\n",
       "      <td>2M</td>\n",
       "    </tr>\n",
       "    <tr>\n",
       "      <th>1576</th>\n",
       "      <td>March</td>\n",
       "      <td>H</td>\n",
       "      <td>03-05-2022</td>\n",
       "      <td>03:36:20</td>\n",
       "      <td>230 TWO RIVERS CT</td>\n",
       "      <td>SUICIDAL PERSON</td>\n",
       "      <td>2</td>\n",
       "    </tr>\n",
       "    <tr>\n",
       "      <th>1582</th>\n",
       "      <td>March</td>\n",
       "      <td>H</td>\n",
       "      <td>03-11-2022</td>\n",
       "      <td>03:32:31</td>\n",
       "      <td>1 TERMINAL DR</td>\n",
       "      <td>SUICIDAL PERSON</td>\n",
       "      <td>2</td>\n",
       "    </tr>\n",
       "    <tr>\n",
       "      <th>1584</th>\n",
       "      <td>March</td>\n",
       "      <td>H</td>\n",
       "      <td>03-13-2022</td>\n",
       "      <td>05:37:37</td>\n",
       "      <td>1907 DAHLIA DR</td>\n",
       "      <td>SUICIDAL PERSON</td>\n",
       "      <td>2</td>\n",
       "    </tr>\n",
       "    <tr>\n",
       "      <th>1587</th>\n",
       "      <td>March</td>\n",
       "      <td>H</td>\n",
       "      <td>03-16-2022</td>\n",
       "      <td>22:22:56</td>\n",
       "      <td>709 WILL PL</td>\n",
       "      <td>SUICIDAL PERSON</td>\n",
       "      <td>2</td>\n",
       "    </tr>\n",
       "    <tr>\n",
       "      <th>1594</th>\n",
       "      <td>March</td>\n",
       "      <td>H</td>\n",
       "      <td>03-22-2022</td>\n",
       "      <td>09:28:49</td>\n",
       "      <td>2904 WOODYMORE CT</td>\n",
       "      <td>SUICIDAL PERSON</td>\n",
       "      <td>2</td>\n",
       "    </tr>\n",
       "    <tr>\n",
       "      <th>1598</th>\n",
       "      <td>March</td>\n",
       "      <td>H</td>\n",
       "      <td>03-25-2022</td>\n",
       "      <td>23:41:08</td>\n",
       "      <td>2461 MCGAVOCK PIKE</td>\n",
       "      <td>SUICIDAL PERSON</td>\n",
       "      <td>2</td>\n",
       "    </tr>\n",
       "    <tr>\n",
       "      <th>1599</th>\n",
       "      <td>March</td>\n",
       "      <td>H</td>\n",
       "      <td>03-26-2022</td>\n",
       "      <td>23:00:47</td>\n",
       "      <td>354 CLEARWATER DR</td>\n",
       "      <td>SUICIDAL PERSON</td>\n",
       "      <td>2</td>\n",
       "    </tr>\n",
       "    <tr>\n",
       "      <th>1600</th>\n",
       "      <td>March</td>\n",
       "      <td>H</td>\n",
       "      <td>03-27-2022</td>\n",
       "      <td>07:39:28</td>\n",
       "      <td>924 RADFORD DR</td>\n",
       "      <td>SUICIDAL PERSON</td>\n",
       "      <td>2</td>\n",
       "    </tr>\n",
       "    <tr>\n",
       "      <th>1601</th>\n",
       "      <td>March</td>\n",
       "      <td>H</td>\n",
       "      <td>03-29-2022</td>\n",
       "      <td>23:52:41</td>\n",
       "      <td>2500 MUSIC VALLEY DR</td>\n",
       "      <td>SUICIDAL PERSON</td>\n",
       "      <td>2</td>\n",
       "    </tr>\n",
       "    <tr>\n",
       "      <th>1602</th>\n",
       "      <td>March</td>\n",
       "      <td>H</td>\n",
       "      <td>03-30-2022</td>\n",
       "      <td>22:04:02</td>\n",
       "      <td>3960 BELL RD</td>\n",
       "      <td>SUICIDAL PERSON</td>\n",
       "      <td>2</td>\n",
       "    </tr>\n",
       "    <tr>\n",
       "      <th>1603</th>\n",
       "      <td>March</td>\n",
       "      <td>H</td>\n",
       "      <td>03-30-2022</td>\n",
       "      <td>22:42:18</td>\n",
       "      <td>518 DONELSON PIKE</td>\n",
       "      <td>SUICIDAL PERSON</td>\n",
       "      <td>2</td>\n",
       "    </tr>\n",
       "  </tbody>\n",
       "</table>\n",
       "</div>"
      ],
      "text/plain": [
       "          Month Precinct        Date   Created                   Address  \\\n",
       "66         July        H  07-01-2021  06:54:32              501 ERMAC DR   \n",
       "71         July        H  07-03-2021  02:44:27     5400 OLD HICKORY BLVD   \n",
       "74         July        H  07-05-2021  23:25:41              104 LEWIS ST   \n",
       "77         July        H  07-07-2021  01:09:17     4701 OLD HICKORY BLVD   \n",
       "79         July        H  07-07-2021  23:50:11            1102 CLEVES ST   \n",
       "82         July        H  07-10-2021  02:45:23               87 MAURY ST   \n",
       "83         July        H  07-11-2021  05:32:04      4661 FOREST RIDGE DR   \n",
       "84         July        H  07-11-2021  08:30:36            6004 ELIJAH CT   \n",
       "88         July        H  07-15-2021  06:14:31     710 MURFREESBORO PIKE   \n",
       "89         July        H  07-15-2021  07:38:32            201 CAMERON CT   \n",
       "90         July        H  07-16-2021  09:50:05        2508 ELM HILL PIKE   \n",
       "91         July        H  07-17-2021  03:53:30       294 BURNING TREE DR   \n",
       "94         July        H  07-21-2021  08:10:29       294 BURNING TREE DR   \n",
       "95         July        H  07-22-2021  09:48:40     4400 OLD HICKORY BLVD   \n",
       "100        July        H  07-30-2021  23:54:53               83 MAURY ST   \n",
       "263      August        H  08-01-2021  04:56:26           601 FESSLERS LN   \n",
       "267      August        H  08-05-2021  00:08:00               210 32ND ST   \n",
       "273      August        H  08-12-2021  08:51:03         2324 LEBANON PIKE   \n",
       "274      August        H  08-13-2021  22:30:51       1025 WESLEYVILLE ST   \n",
       "275      August        H  08-16-2021  09:02:08        3110 ELM HILL PIKE   \n",
       "283      August        H  08-24-2021  05:40:28     860 MURFREESBORO PIKE   \n",
       "288      August        H  08-28-2021  01:16:37               87 MAURY ST   \n",
       "289      August        H  08-30-2021  00:24:46               344 BELL RD   \n",
       "290      August        H  08-30-2021  01:51:12              3960 BELL RD   \n",
       "291      August        H  08-30-2021  08:58:41         4343 LEBANON PIKE   \n",
       "293      August        H  08-31-2021  22:32:47               91 LEWIS ST   \n",
       "460   September        H  09-04-2021  01:46:27  2ND AVE S / LAFAYETTE ST   \n",
       "461   September        H  09-04-2021  23:17:34        734 NETHERLANDS DR   \n",
       "462   September        H  09-05-2021  02:15:07               87 MAURY ST   \n",
       "464   September        H  09-06-2021  02:26:54     5582 OLD HICKORY BLVD   \n",
       "466   September        H  09-07-2021  23:00:38              104 LEWIS ST   \n",
       "467   September        H  09-08-2021  09:19:23               344 BELL RD   \n",
       "468   September        H  09-10-2021  22:37:47               98 MAURY ST   \n",
       "469   September        H  09-11-2021  07:57:37           505 SCHOONER CV   \n",
       "470   September        H  09-11-2021  09:23:04       2952 HIGH RIGGER DR   \n",
       "472   September        H  09-14-2021  00:10:18            MM 213 0 I40 E   \n",
       "473   September        H  09-14-2021  04:04:32         2301 LEBANON PIKE   \n",
       "475   September        H  09-17-2021  07:15:11            1101 CATINA DR   \n",
       "477   September        H  09-20-2021  00:48:15          1150 VULTEE BLVD   \n",
       "478   September        H  09-21-2021  03:50:08   714 STEWARTS FERRY PIKE   \n",
       "482   September        H  09-29-2021  01:19:29        2461 MCGAVOCK PIKE   \n",
       "665     October        H  10-01-2021  01:04:16         2403 LEBANON PIKE   \n",
       "671     October        H  10-05-2021  06:51:49     426 MURFREESBORO PIKE   \n",
       "677     October        H  10-09-2021  23:10:23               87 MAURY ST   \n",
       "679     October        H  10-12-2021  08:49:57        416 LINCOYA BAY DR   \n",
       "688     October        H  10-15-2021  23:17:28    2284 MURFREESBORO PIKE   \n",
       "690     October        H  10-17-2021  22:10:00          649 KINGS WAY DR   \n",
       "696     October        H  10-22-2021  08:52:10     600 MURFREESBORO PIKE   \n",
       "705     October        H  10-31-2021  00:58:03            309 TRAILS CIR   \n",
       "875    November        H  11-01-2021  23:23:41          2800 OPRYLAND DR   \n",
       "879    November        H  11-06-2021  00:00:42           183 GRAYLYNN DR   \n",
       "880    November        H  11-07-2021  00:58:38   4054 ANDREW JACKSON WAY   \n",
       "888    November        H  11-19-2021  08:43:22        2101 LONGHUNTER LN   \n",
       "1035   December        H  12-02-2021  01:47:29        1303 ELM HILL PIKE   \n",
       "1036   December        H  12-02-2021  08:10:39         270 CLOVERNOOK DR   \n",
       "1037   December        H  12-03-2021  09:50:26         4144 LEBANON PIKE   \n",
       "1039   December        H  12-05-2021  23:53:16        737 NETHERLANDS DR   \n",
       "1044   December        H  12-08-2021  22:44:14         1441 LEBANON PIKE   \n",
       "1046   December        H  12-16-2021  01:05:56          81 FAIRFIELD AVE   \n",
       "1049   December        H  12-19-2021  07:07:43     5772 OLD HICKORY BLVD   \n",
       "1050   December        H  12-19-2021  07:19:07    2634 MURFREESBORO PIKE   \n",
       "1053   December        H  12-19-2021  22:19:22         2523 LEBANON PIKE   \n",
       "1058   December        H  12-24-2021  22:52:02          2800 OPRYLAND DR   \n",
       "1059   December        H  12-25-2021  01:58:35  1487 STEWARTS FERRY PIKE   \n",
       "1062   December        H  12-29-2021  09:31:14        2332 NASHBORO BLVD   \n",
       "1064   December        H  12-31-2021  07:42:05           82 LAFAYETTE ST   \n",
       "1214    January        H  01-04-2022  03:48:15              3855 BELL RD   \n",
       "1218    January        H  01-06-2022  02:57:45           601 FESSLERS LN   \n",
       "1224    January        H  01-11-2022  08:06:32     6001 OLD HICKORY BLVD   \n",
       "1225    January        H  01-11-2022  22:06:10         4424 LEBANON PIKE   \n",
       "1228    January        H  01-14-2022  08:28:24        2101 LONGHUNTER LN   \n",
       "1230    January        H  01-15-2022  22:35:03         704 BLUE BRICK PL   \n",
       "1232    January        H  01-19-2022  03:25:58         2815 LEBANON PIKE   \n",
       "1234    January        H  01-20-2022  03:07:15     5800 OLD HICKORY BLVD   \n",
       "1235    January        H  01-21-2022  02:11:05      123 VILLAGE GREEN DR   \n",
       "1242    January        H  01-29-2022  01:32:05     5636 OLD HICKORY BLVD   \n",
       "1244    January        H  01-30-2022  07:36:27        2521 ELM HILL PIKE   \n",
       "1245    January        H  01-31-2022  08:30:57          2822 BRANWOOD DR   \n",
       "1409   February        H  02-04-2022  00:24:59          1500 ROBINSON RD   \n",
       "1415   February        H  02-07-2022  09:57:26   279 STEWARTS FERRY PIKE   \n",
       "1418   February        H  02-08-2022  23:39:33         545 DONELSON PIKE   \n",
       "1420   February        H  02-12-2022  00:54:26     4617 OLD HICKORY BLVD   \n",
       "1423   February        H  02-13-2022  22:32:40              3960 BELL RD   \n",
       "1425   February        H  02-14-2022  22:06:38      165 COUNTRY WOOD CIR   \n",
       "1436   February        H  02-26-2022  03:49:04        2320 MAPLECREST DR   \n",
       "1439   February        H  02-27-2022  23:51:50         4601 LEBANON PIKE   \n",
       "1576      March        H  03-05-2022  03:36:20         230 TWO RIVERS CT   \n",
       "1582      March        H  03-11-2022  03:32:31             1 TERMINAL DR   \n",
       "1584      March        H  03-13-2022  05:37:37            1907 DAHLIA DR   \n",
       "1587      March        H  03-16-2022  22:22:56               709 WILL PL   \n",
       "1594      March        H  03-22-2022  09:28:49         2904 WOODYMORE CT   \n",
       "1598      March        H  03-25-2022  23:41:08        2461 MCGAVOCK PIKE   \n",
       "1599      March        H  03-26-2022  23:00:47         354 CLEARWATER DR   \n",
       "1600      March        H  03-27-2022  07:39:28            924 RADFORD DR   \n",
       "1601      March        H  03-29-2022  23:52:41      2500 MUSIC VALLEY DR   \n",
       "1602      March        H  03-30-2022  22:04:02              3960 BELL RD   \n",
       "1603      March        H  03-30-2022  22:42:18         518 DONELSON PIKE   \n",
       "\n",
       "        Incident Type Priority  \n",
       "66    SUICIDAL PERSON       2M  \n",
       "71    SUICIDAL PERSON        2  \n",
       "74    SUICIDAL PERSON        2  \n",
       "77    SUICIDAL PERSON        2  \n",
       "79    SUICIDAL PERSON        2  \n",
       "82    SUICIDAL PERSON        3  \n",
       "83    SUICIDAL PERSON        3  \n",
       "84    SUICIDAL PERSON        2  \n",
       "88    SUICIDAL PERSON        2  \n",
       "89    SUICIDAL PERSON        2  \n",
       "90    SUICIDAL PERSON        2  \n",
       "91    SUICIDAL PERSON        3  \n",
       "94    SUICIDAL PERSON        3  \n",
       "95    SUICIDAL PERSON        2  \n",
       "100   SUICIDAL PERSON       2M  \n",
       "263   SUICIDAL PERSON        2  \n",
       "267   SUICIDAL PERSON        2  \n",
       "273   SUICIDAL PERSON       2M  \n",
       "274   SUICIDAL PERSON        2  \n",
       "275   SUICIDAL PERSON        2  \n",
       "283   SUICIDAL PERSON        2  \n",
       "288   SUICIDAL PERSON        2  \n",
       "289   SUICIDAL PERSON       2M  \n",
       "290   SUICIDAL PERSON        2  \n",
       "291   SUICIDAL PERSON       3M  \n",
       "293   SUICIDAL PERSON        2  \n",
       "460   SUICIDAL PERSON       2M  \n",
       "461   SUICIDAL PERSON        2  \n",
       "462   SUICIDAL PERSON        2  \n",
       "464   SUICIDAL PERSON        2  \n",
       "466   SUICIDAL PERSON        2  \n",
       "467   SUICIDAL PERSON       2M  \n",
       "468   SUICIDAL PERSON        2  \n",
       "469   SUICIDAL PERSON        3  \n",
       "470   SUICIDAL PERSON       2M  \n",
       "472   SUICIDAL PERSON        2  \n",
       "473   SUICIDAL PERSON        2  \n",
       "475   SUICIDAL PERSON        3  \n",
       "477   SUICIDAL PERSON        2  \n",
       "478   SUICIDAL PERSON        2  \n",
       "482   SUICIDAL PERSON        2  \n",
       "665   SUICIDAL PERSON       2M  \n",
       "671   SUICIDAL PERSON       2M  \n",
       "677   SUICIDAL PERSON        2  \n",
       "679   SUICIDAL PERSON        2  \n",
       "688   SUICIDAL PERSON       2M  \n",
       "690   SUICIDAL PERSON        2  \n",
       "696   SUICIDAL PERSON        2  \n",
       "705   SUICIDAL PERSON        3  \n",
       "875   SUICIDAL PERSON        2  \n",
       "879   SUICIDAL PERSON        3  \n",
       "880   SUICIDAL PERSON        2  \n",
       "888   SUICIDAL PERSON       3M  \n",
       "1035  SUICIDAL PERSON       2M  \n",
       "1036  SUICIDAL PERSON        2  \n",
       "1037  SUICIDAL PERSON       2M  \n",
       "1039  SUICIDAL PERSON        2  \n",
       "1044  SUICIDAL PERSON        3  \n",
       "1046  SUICIDAL PERSON        2  \n",
       "1049  SUICIDAL PERSON       2M  \n",
       "1050  SUICIDAL PERSON       2M  \n",
       "1053  SUICIDAL PERSON       2M  \n",
       "1058  SUICIDAL PERSON        2  \n",
       "1059  SUICIDAL PERSON        2  \n",
       "1062  SUICIDAL PERSON       2M  \n",
       "1064  SUICIDAL PERSON       2M  \n",
       "1214  SUICIDAL PERSON        2  \n",
       "1218  SUICIDAL PERSON       2M  \n",
       "1224  SUICIDAL PERSON        3  \n",
       "1225  SUICIDAL PERSON        2  \n",
       "1228  SUICIDAL PERSON        2  \n",
       "1230  SUICIDAL PERSON       2M  \n",
       "1232  SUICIDAL PERSON        2  \n",
       "1234  SUICIDAL PERSON       2M  \n",
       "1235  SUICIDAL PERSON        2  \n",
       "1242  SUICIDAL PERSON        2  \n",
       "1244  SUICIDAL PERSON        2  \n",
       "1245  SUICIDAL PERSON       2M  \n",
       "1409  SUICIDAL PERSON       2M  \n",
       "1415  SUICIDAL PERSON        2  \n",
       "1418  SUICIDAL PERSON        3  \n",
       "1420  SUICIDAL PERSON        2  \n",
       "1423  SUICIDAL PERSON        3  \n",
       "1425  SUICIDAL PERSON        2  \n",
       "1436  SUICIDAL PERSON        3  \n",
       "1439  SUICIDAL PERSON       2M  \n",
       "1576  SUICIDAL PERSON        2  \n",
       "1582  SUICIDAL PERSON        2  \n",
       "1584  SUICIDAL PERSON        2  \n",
       "1587  SUICIDAL PERSON        2  \n",
       "1594  SUICIDAL PERSON        2  \n",
       "1598  SUICIDAL PERSON        2  \n",
       "1599  SUICIDAL PERSON        2  \n",
       "1600  SUICIDAL PERSON        2  \n",
       "1601  SUICIDAL PERSON        2  \n",
       "1602  SUICIDAL PERSON        2  \n",
       "1603  SUICIDAL PERSON        2  "
      ]
     },
     "execution_count": 11,
     "metadata": {},
     "output_type": "execute_result"
    }
   ],
   "source": [
    "S_Calls_H_Night"
   ]
  },
  {
   "cell_type": "code",
   "execution_count": 12,
   "id": "301b044b",
   "metadata": {},
   "outputs": [
    {
     "name": "stdout",
     "output_type": "stream",
     "text": [
      "<class 'pandas.core.frame.DataFrame'>\n",
      "Int64Index: 97 entries, 66 to 1603\n",
      "Data columns (total 7 columns):\n",
      " #   Column         Non-Null Count  Dtype \n",
      "---  ------         --------------  ----- \n",
      " 0   Month          97 non-null     object\n",
      " 1   Precinct       97 non-null     object\n",
      " 2   Date           97 non-null     object\n",
      " 3   Created        97 non-null     object\n",
      " 4   Address        97 non-null     object\n",
      " 5   Incident Type  97 non-null     object\n",
      " 6   Priority       97 non-null     object\n",
      "dtypes: object(7)\n",
      "memory usage: 6.1+ KB\n"
     ]
    }
   ],
   "source": [
    "S_Calls_H_Night.info()"
   ]
  },
  {
   "cell_type": "markdown",
   "id": "9e804444",
   "metadata": {},
   "source": [
    "# South - Night - 82"
   ]
  },
  {
   "cell_type": "code",
   "execution_count": 13,
   "id": "cf483771",
   "metadata": {},
   "outputs": [],
   "source": [
    "S_Calls_S_Night = suicide_all_10PM_10AM.loc[suicide_all_10PM_10AM[\"Precinct\"]==\"S\"]"
   ]
  },
  {
   "cell_type": "code",
   "execution_count": 14,
   "id": "a40d6899",
   "metadata": {
    "scrolled": true
   },
   "outputs": [
    {
     "name": "stdout",
     "output_type": "stream",
     "text": [
      "<class 'pandas.core.frame.DataFrame'>\n",
      "Int64Index: 82 entries, 164 to 1710\n",
      "Data columns (total 7 columns):\n",
      " #   Column         Non-Null Count  Dtype \n",
      "---  ------         --------------  ----- \n",
      " 0   Month          82 non-null     object\n",
      " 1   Precinct       82 non-null     object\n",
      " 2   Date           82 non-null     object\n",
      " 3   Created        82 non-null     object\n",
      " 4   Address        82 non-null     object\n",
      " 5   Incident Type  82 non-null     object\n",
      " 6   Priority       82 non-null     object\n",
      "dtypes: object(7)\n",
      "memory usage: 5.1+ KB\n"
     ]
    }
   ],
   "source": [
    "S_Calls_S_Night.info()"
   ]
  },
  {
   "cell_type": "markdown",
   "id": "2437c4f2",
   "metadata": {},
   "source": [
    "# North - Night - 57"
   ]
  },
  {
   "cell_type": "code",
   "execution_count": 15,
   "id": "c75ffa22",
   "metadata": {},
   "outputs": [],
   "source": [
    "S_Calls_N_Night = suicide_all_10PM_10AM.loc[suicide_all_10PM_10AM[\"Precinct\"]==\"N\"]"
   ]
  },
  {
   "cell_type": "code",
   "execution_count": 16,
   "id": "1e474b3e",
   "metadata": {
    "scrolled": true
   },
   "outputs": [
    {
     "name": "stdout",
     "output_type": "stream",
     "text": [
      "<class 'pandas.core.frame.DataFrame'>\n",
      "Int64Index: 57 entries, 140 to 1681\n",
      "Data columns (total 7 columns):\n",
      " #   Column         Non-Null Count  Dtype \n",
      "---  ------         --------------  ----- \n",
      " 0   Month          57 non-null     object\n",
      " 1   Precinct       57 non-null     object\n",
      " 2   Date           57 non-null     object\n",
      " 3   Created        57 non-null     object\n",
      " 4   Address        57 non-null     object\n",
      " 5   Incident Type  57 non-null     object\n",
      " 6   Priority       57 non-null     object\n",
      "dtypes: object(7)\n",
      "memory usage: 3.6+ KB\n"
     ]
    }
   ],
   "source": [
    "S_Calls_N_Night.info()"
   ]
  },
  {
   "cell_type": "markdown",
   "id": "e25ad3f8",
   "metadata": {},
   "source": [
    "# Madison - Night - 49"
   ]
  },
  {
   "cell_type": "code",
   "execution_count": 17,
   "id": "850fe4da",
   "metadata": {},
   "outputs": [],
   "source": [
    "S_Calls_M_Night = suicide_all_10PM_10AM.loc[suicide_all_10PM_10AM[\"Precinct\"]==\"M\"]"
   ]
  },
  {
   "cell_type": "code",
   "execution_count": 18,
   "id": "18d49d7a",
   "metadata": {
    "scrolled": true
   },
   "outputs": [
    {
     "name": "stdout",
     "output_type": "stream",
     "text": [
      "<class 'pandas.core.frame.DataFrame'>\n",
      "Int64Index: 49 entries, 107 to 1634\n",
      "Data columns (total 7 columns):\n",
      " #   Column         Non-Null Count  Dtype \n",
      "---  ------         --------------  ----- \n",
      " 0   Month          49 non-null     object\n",
      " 1   Precinct       49 non-null     object\n",
      " 2   Date           49 non-null     object\n",
      " 3   Created        49 non-null     object\n",
      " 4   Address        49 non-null     object\n",
      " 5   Incident Type  49 non-null     object\n",
      " 6   Priority       49 non-null     object\n",
      "dtypes: object(7)\n",
      "memory usage: 3.1+ KB\n"
     ]
    }
   ],
   "source": [
    "S_Calls_M_Night.info()"
   ]
  },
  {
   "cell_type": "markdown",
   "id": "2a46daea",
   "metadata": {},
   "source": [
    "# Midtown Hills - Night - 62"
   ]
  },
  {
   "cell_type": "code",
   "execution_count": 19,
   "id": "06e98a38",
   "metadata": {},
   "outputs": [],
   "source": [
    "S_Calls_MT_Night = suicide_all_10PM_10AM.loc[suicide_all_10PM_10AM[\"Precinct\"]==\"MT\"]"
   ]
  },
  {
   "cell_type": "code",
   "execution_count": 20,
   "id": "314cf541",
   "metadata": {
    "scrolled": true
   },
   "outputs": [
    {
     "name": "stdout",
     "output_type": "stream",
     "text": [
      "<class 'pandas.core.frame.DataFrame'>\n",
      "Int64Index: 62 entries, 116 to 1655\n",
      "Data columns (total 7 columns):\n",
      " #   Column         Non-Null Count  Dtype \n",
      "---  ------         --------------  ----- \n",
      " 0   Month          62 non-null     object\n",
      " 1   Precinct       62 non-null     object\n",
      " 2   Date           62 non-null     object\n",
      " 3   Created        62 non-null     object\n",
      " 4   Address        62 non-null     object\n",
      " 5   Incident Type  62 non-null     object\n",
      " 6   Priority       62 non-null     object\n",
      "dtypes: object(7)\n",
      "memory usage: 3.9+ KB\n"
     ]
    }
   ],
   "source": [
    "S_Calls_MT_Night.info()"
   ]
  },
  {
   "cell_type": "markdown",
   "id": "f2700378",
   "metadata": {},
   "source": [
    "# West - Night - 43"
   ]
  },
  {
   "cell_type": "code",
   "execution_count": 21,
   "id": "b10958e7",
   "metadata": {},
   "outputs": [],
   "source": [
    "S_Calls_W_Night = suicide_all_10PM_10AM.loc[suicide_all_10PM_10AM[\"Precinct\"]==\"W\"]"
   ]
  },
  {
   "cell_type": "code",
   "execution_count": 22,
   "id": "2ad6c154",
   "metadata": {
    "scrolled": true
   },
   "outputs": [
    {
     "name": "stdout",
     "output_type": "stream",
     "text": [
      "<class 'pandas.core.frame.DataFrame'>\n",
      "Int64Index: 43 entries, 187 to 1721\n",
      "Data columns (total 7 columns):\n",
      " #   Column         Non-Null Count  Dtype \n",
      "---  ------         --------------  ----- \n",
      " 0   Month          43 non-null     object\n",
      " 1   Precinct       43 non-null     object\n",
      " 2   Date           43 non-null     object\n",
      " 3   Created        43 non-null     object\n",
      " 4   Address        43 non-null     object\n",
      " 5   Incident Type  43 non-null     object\n",
      " 6   Priority       43 non-null     object\n",
      "dtypes: object(7)\n",
      "memory usage: 2.7+ KB\n"
     ]
    }
   ],
   "source": [
    "S_Calls_W_Night.info()"
   ]
  },
  {
   "cell_type": "markdown",
   "id": "814b97cf",
   "metadata": {},
   "source": [
    "# East - Night - 30"
   ]
  },
  {
   "cell_type": "code",
   "execution_count": 23,
   "id": "636cd968",
   "metadata": {},
   "outputs": [],
   "source": [
    "S_Calls_E_Night = suicide_all_10PM_10AM.loc[suicide_all_10PM_10AM[\"Precinct\"]==\"E\"]"
   ]
  },
  {
   "cell_type": "code",
   "execution_count": 24,
   "id": "b85885fb",
   "metadata": {
    "scrolled": true
   },
   "outputs": [
    {
     "name": "stdout",
     "output_type": "stream",
     "text": [
      "<class 'pandas.core.frame.DataFrame'>\n",
      "Int64Index: 30 entries, 54 to 1571\n",
      "Data columns (total 7 columns):\n",
      " #   Column         Non-Null Count  Dtype \n",
      "---  ------         --------------  ----- \n",
      " 0   Month          30 non-null     object\n",
      " 1   Precinct       30 non-null     object\n",
      " 2   Date           30 non-null     object\n",
      " 3   Created        30 non-null     object\n",
      " 4   Address        30 non-null     object\n",
      " 5   Incident Type  30 non-null     object\n",
      " 6   Priority       30 non-null     object\n",
      "dtypes: object(7)\n",
      "memory usage: 1.9+ KB\n"
     ]
    }
   ],
   "source": [
    "S_Calls_E_Night.info()"
   ]
  },
  {
   "cell_type": "markdown",
   "id": "b7c8a4b9",
   "metadata": {},
   "source": [
    "# Central - Day - 181"
   ]
  },
  {
   "cell_type": "code",
   "execution_count": 25,
   "id": "4e911076",
   "metadata": {},
   "outputs": [],
   "source": [
    "S_Calls_C_Day = suicide_all_10AM_10PM.loc[suicide_all_10AM_10PM[\"Precinct\"]==\"C\"]"
   ]
  },
  {
   "cell_type": "code",
   "execution_count": 26,
   "id": "1cef3e66",
   "metadata": {
    "scrolled": true
   },
   "outputs": [
    {
     "name": "stdout",
     "output_type": "stream",
     "text": [
      "<class 'pandas.core.frame.DataFrame'>\n",
      "Int64Index: 181 entries, 0 to 1551\n",
      "Data columns (total 7 columns):\n",
      " #   Column         Non-Null Count  Dtype \n",
      "---  ------         --------------  ----- \n",
      " 0   Month          181 non-null    object\n",
      " 1   Precinct       181 non-null    object\n",
      " 2   Date           181 non-null    object\n",
      " 3   Created        181 non-null    object\n",
      " 4   Address        181 non-null    object\n",
      " 5   Incident Type  181 non-null    object\n",
      " 6   Priority       181 non-null    object\n",
      "dtypes: object(7)\n",
      "memory usage: 11.3+ KB\n"
     ]
    }
   ],
   "source": [
    "S_Calls_C_Day.info()"
   ]
  },
  {
   "cell_type": "markdown",
   "id": "2775796e",
   "metadata": {},
   "source": [
    "# Hermitage - Day - 187"
   ]
  },
  {
   "cell_type": "code",
   "execution_count": 27,
   "id": "f8ba98ab",
   "metadata": {},
   "outputs": [],
   "source": [
    "S_Calls_H_Day = suicide_all_10AM_10PM.loc[suicide_all_10AM_10PM[\"Precinct\"]==\"H\"]"
   ]
  },
  {
   "cell_type": "code",
   "execution_count": 28,
   "id": "675be661",
   "metadata": {
    "scrolled": true
   },
   "outputs": [
    {
     "name": "stdout",
     "output_type": "stream",
     "text": [
      "<class 'pandas.core.frame.DataFrame'>\n",
      "Int64Index: 187 entries, 67 to 1597\n",
      "Data columns (total 7 columns):\n",
      " #   Column         Non-Null Count  Dtype \n",
      "---  ------         --------------  ----- \n",
      " 0   Month          187 non-null    object\n",
      " 1   Precinct       187 non-null    object\n",
      " 2   Date           187 non-null    object\n",
      " 3   Created        187 non-null    object\n",
      " 4   Address        187 non-null    object\n",
      " 5   Incident Type  187 non-null    object\n",
      " 6   Priority       187 non-null    object\n",
      "dtypes: object(7)\n",
      "memory usage: 11.7+ KB\n"
     ]
    }
   ],
   "source": [
    "S_Calls_H_Day.info()"
   ]
  },
  {
   "cell_type": "markdown",
   "id": "18c69b44",
   "metadata": {},
   "source": [
    "# South - Day - 155"
   ]
  },
  {
   "cell_type": "code",
   "execution_count": 29,
   "id": "b3b16bf5",
   "metadata": {},
   "outputs": [],
   "source": [
    "S_Calls_S_Day = suicide_all_10AM_10PM.loc[suicide_all_10AM_10PM[\"Precinct\"]==\"S\"]"
   ]
  },
  {
   "cell_type": "code",
   "execution_count": 30,
   "id": "a037e6bd",
   "metadata": {},
   "outputs": [
    {
     "name": "stdout",
     "output_type": "stream",
     "text": [
      "<class 'pandas.core.frame.DataFrame'>\n",
      "Int64Index: 155 entries, 163 to 1709\n",
      "Data columns (total 7 columns):\n",
      " #   Column         Non-Null Count  Dtype \n",
      "---  ------         --------------  ----- \n",
      " 0   Month          155 non-null    object\n",
      " 1   Precinct       155 non-null    object\n",
      " 2   Date           155 non-null    object\n",
      " 3   Created        155 non-null    object\n",
      " 4   Address        155 non-null    object\n",
      " 5   Incident Type  155 non-null    object\n",
      " 6   Priority       155 non-null    object\n",
      "dtypes: object(7)\n",
      "memory usage: 9.7+ KB\n"
     ]
    }
   ],
   "source": [
    "S_Calls_S_Day.info()"
   ]
  },
  {
   "cell_type": "markdown",
   "id": "aa4d686c",
   "metadata": {},
   "source": [
    "# North - Day - 161"
   ]
  },
  {
   "cell_type": "code",
   "execution_count": 31,
   "id": "cecf628e",
   "metadata": {},
   "outputs": [],
   "source": [
    "S_Calls_N_Day = suicide_all_10AM_10PM.loc[suicide_all_10AM_10PM[\"Precinct\"]==\"N\"]"
   ]
  },
  {
   "cell_type": "code",
   "execution_count": 32,
   "id": "7c084c9f",
   "metadata": {},
   "outputs": [
    {
     "name": "stdout",
     "output_type": "stream",
     "text": [
      "<class 'pandas.core.frame.DataFrame'>\n",
      "Int64Index: 161 entries, 138 to 1679\n",
      "Data columns (total 7 columns):\n",
      " #   Column         Non-Null Count  Dtype \n",
      "---  ------         --------------  ----- \n",
      " 0   Month          161 non-null    object\n",
      " 1   Precinct       161 non-null    object\n",
      " 2   Date           161 non-null    object\n",
      " 3   Created        161 non-null    object\n",
      " 4   Address        161 non-null    object\n",
      " 5   Incident Type  161 non-null    object\n",
      " 6   Priority       161 non-null    object\n",
      "dtypes: object(7)\n",
      "memory usage: 10.1+ KB\n"
     ]
    }
   ],
   "source": [
    "S_Calls_N_Day.info()"
   ]
  },
  {
   "cell_type": "markdown",
   "id": "9d0b0f82",
   "metadata": {},
   "source": [
    "# Madison - Day - 135"
   ]
  },
  {
   "cell_type": "code",
   "execution_count": 33,
   "id": "9b6ea85f",
   "metadata": {},
   "outputs": [],
   "source": [
    "S_Calls_M_Day = suicide_all_10AM_10PM.loc[suicide_all_10AM_10PM[\"Precinct\"]==\"M\"]"
   ]
  },
  {
   "cell_type": "code",
   "execution_count": 34,
   "id": "64fe4cb3",
   "metadata": {
    "scrolled": true
   },
   "outputs": [
    {
     "name": "stdout",
     "output_type": "stream",
     "text": [
      "<class 'pandas.core.frame.DataFrame'>\n",
      "Int64Index: 135 entries, 101 to 1633\n",
      "Data columns (total 7 columns):\n",
      " #   Column         Non-Null Count  Dtype \n",
      "---  ------         --------------  ----- \n",
      " 0   Month          135 non-null    object\n",
      " 1   Precinct       135 non-null    object\n",
      " 2   Date           135 non-null    object\n",
      " 3   Created        135 non-null    object\n",
      " 4   Address        135 non-null    object\n",
      " 5   Incident Type  135 non-null    object\n",
      " 6   Priority       135 non-null    object\n",
      "dtypes: object(7)\n",
      "memory usage: 8.4+ KB\n"
     ]
    }
   ],
   "source": [
    "S_Calls_M_Day.info()"
   ]
  },
  {
   "cell_type": "markdown",
   "id": "71f1f598",
   "metadata": {},
   "source": [
    "# Midtown Hills - Day - 117"
   ]
  },
  {
   "cell_type": "code",
   "execution_count": 35,
   "id": "035f0eda",
   "metadata": {},
   "outputs": [],
   "source": [
    "S_Calls_MT_Day = suicide_all_10AM_10PM.loc[suicide_all_10AM_10PM[\"Precinct\"]==\"MT\"]"
   ]
  },
  {
   "cell_type": "code",
   "execution_count": 36,
   "id": "44149ac6",
   "metadata": {},
   "outputs": [
    {
     "name": "stdout",
     "output_type": "stream",
     "text": [
      "<class 'pandas.core.frame.DataFrame'>\n",
      "Int64Index: 117 entries, 118 to 1653\n",
      "Data columns (total 7 columns):\n",
      " #   Column         Non-Null Count  Dtype \n",
      "---  ------         --------------  ----- \n",
      " 0   Month          117 non-null    object\n",
      " 1   Precinct       117 non-null    object\n",
      " 2   Date           117 non-null    object\n",
      " 3   Created        117 non-null    object\n",
      " 4   Address        117 non-null    object\n",
      " 5   Incident Type  117 non-null    object\n",
      " 6   Priority       117 non-null    object\n",
      "dtypes: object(7)\n",
      "memory usage: 7.3+ KB\n"
     ]
    }
   ],
   "source": [
    "S_Calls_MT_Day.info()"
   ]
  },
  {
   "cell_type": "markdown",
   "id": "5975f0ce",
   "metadata": {},
   "source": [
    "# West - Day - 98"
   ]
  },
  {
   "cell_type": "code",
   "execution_count": 37,
   "id": "df8bebd3",
   "metadata": {},
   "outputs": [],
   "source": [
    "S_Calls_W_Day = suicide_all_10AM_10PM.loc[suicide_all_10AM_10PM[\"Precinct\"]==\"W\"]"
   ]
  },
  {
   "cell_type": "code",
   "execution_count": 38,
   "id": "79bc5b95",
   "metadata": {},
   "outputs": [
    {
     "name": "stdout",
     "output_type": "stream",
     "text": [
      "<class 'pandas.core.frame.DataFrame'>\n",
      "Int64Index: 98 entries, 185 to 1724\n",
      "Data columns (total 7 columns):\n",
      " #   Column         Non-Null Count  Dtype \n",
      "---  ------         --------------  ----- \n",
      " 0   Month          98 non-null     object\n",
      " 1   Precinct       98 non-null     object\n",
      " 2   Date           98 non-null     object\n",
      " 3   Created        98 non-null     object\n",
      " 4   Address        98 non-null     object\n",
      " 5   Incident Type  98 non-null     object\n",
      " 6   Priority       98 non-null     object\n",
      "dtypes: object(7)\n",
      "memory usage: 6.1+ KB\n"
     ]
    }
   ],
   "source": [
    "S_Calls_W_Day.info()"
   ]
  },
  {
   "cell_type": "markdown",
   "id": "086c0ee9",
   "metadata": {},
   "source": [
    "# East - Day - 101"
   ]
  },
  {
   "cell_type": "code",
   "execution_count": 39,
   "id": "37c2f454",
   "metadata": {},
   "outputs": [],
   "source": [
    "S_Calls_E_Day = suicide_all_10AM_10PM.loc[suicide_all_10AM_10PM[\"Precinct\"]==\"E\"]"
   ]
  },
  {
   "cell_type": "code",
   "execution_count": 40,
   "id": "7422f7e0",
   "metadata": {
    "scrolled": true
   },
   "outputs": [
    {
     "name": "stdout",
     "output_type": "stream",
     "text": [
      "<class 'pandas.core.frame.DataFrame'>\n",
      "Int64Index: 101 entries, 55 to 1570\n",
      "Data columns (total 7 columns):\n",
      " #   Column         Non-Null Count  Dtype \n",
      "---  ------         --------------  ----- \n",
      " 0   Month          101 non-null    object\n",
      " 1   Precinct       101 non-null    object\n",
      " 2   Date           101 non-null    object\n",
      " 3   Created        101 non-null    object\n",
      " 4   Address        101 non-null    object\n",
      " 5   Incident Type  101 non-null    object\n",
      " 6   Priority       101 non-null    object\n",
      "dtypes: object(7)\n",
      "memory usage: 6.3+ KB\n"
     ]
    }
   ],
   "source": [
    "S_Calls_E_Day.info()"
   ]
  },
  {
   "cell_type": "markdown",
   "id": "4f3dc5d0",
   "metadata": {},
   "source": [
    "# create a table of Precinct C displaying day and night counts"
   ]
  },
  {
   "cell_type": "code",
   "execution_count": 41,
   "id": "316ba032",
   "metadata": {},
   "outputs": [
    {
     "data": {
      "text/html": [
       "<div>\n",
       "<style scoped>\n",
       "    .dataframe tbody tr th:only-of-type {\n",
       "        vertical-align: middle;\n",
       "    }\n",
       "\n",
       "    .dataframe tbody tr th {\n",
       "        vertical-align: top;\n",
       "    }\n",
       "\n",
       "    .dataframe thead th {\n",
       "        text-align: right;\n",
       "    }\n",
       "</style>\n",
       "<table border=\"1\" class=\"dataframe\">\n",
       "  <thead>\n",
       "    <tr style=\"text-align: right;\">\n",
       "      <th></th>\n",
       "      <th>Month</th>\n",
       "      <th>Precinct</th>\n",
       "      <th>Date</th>\n",
       "      <th>Created</th>\n",
       "      <th>Address</th>\n",
       "      <th>Incident Type</th>\n",
       "      <th>Priority</th>\n",
       "    </tr>\n",
       "  </thead>\n",
       "  <tbody>\n",
       "    <tr>\n",
       "      <th>0</th>\n",
       "      <td>July</td>\n",
       "      <td>C</td>\n",
       "      <td>07-01-2021</td>\n",
       "      <td>14:08:06</td>\n",
       "      <td>1207 MCGAVOCK ST</td>\n",
       "      <td>SUICIDAL PERSON</td>\n",
       "      <td>2</td>\n",
       "    </tr>\n",
       "    <tr>\n",
       "      <th>1</th>\n",
       "      <td>July</td>\n",
       "      <td>C</td>\n",
       "      <td>07-01-2021</td>\n",
       "      <td>16:39:59</td>\n",
       "      <td>639 LAFAYETTE ST</td>\n",
       "      <td>SUICIDAL PERSON</td>\n",
       "      <td>2</td>\n",
       "    </tr>\n",
       "    <tr>\n",
       "      <th>2</th>\n",
       "      <td>July</td>\n",
       "      <td>C</td>\n",
       "      <td>07-01-2021</td>\n",
       "      <td>23:23:27</td>\n",
       "      <td>639 LAFAYETTE ST</td>\n",
       "      <td>SUICIDAL PERSON</td>\n",
       "      <td>2</td>\n",
       "    </tr>\n",
       "    <tr>\n",
       "      <th>3</th>\n",
       "      <td>July</td>\n",
       "      <td>C</td>\n",
       "      <td>07-02-2021</td>\n",
       "      <td>06:23:06</td>\n",
       "      <td>1221 BROADWAY</td>\n",
       "      <td>SUICIDAL PERSON</td>\n",
       "      <td>2</td>\n",
       "    </tr>\n",
       "    <tr>\n",
       "      <th>4</th>\n",
       "      <td>July</td>\n",
       "      <td>C</td>\n",
       "      <td>07-02-2021</td>\n",
       "      <td>11:07:14</td>\n",
       "      <td>705 DREXEL ST</td>\n",
       "      <td>SUICIDAL PERSON</td>\n",
       "      <td>2</td>\n",
       "    </tr>\n",
       "    <tr>\n",
       "      <th>...</th>\n",
       "      <td>...</td>\n",
       "      <td>...</td>\n",
       "      <td>...</td>\n",
       "      <td>...</td>\n",
       "      <td>...</td>\n",
       "      <td>...</td>\n",
       "      <td>...</td>\n",
       "    </tr>\n",
       "    <tr>\n",
       "      <th>1720</th>\n",
       "      <td>March</td>\n",
       "      <td>W</td>\n",
       "      <td>03-23-2022</td>\n",
       "      <td>06:41:49</td>\n",
       "      <td>6700 CABOT DR</td>\n",
       "      <td>SUICIDAL PERSON</td>\n",
       "      <td>2M</td>\n",
       "    </tr>\n",
       "    <tr>\n",
       "      <th>1721</th>\n",
       "      <td>March</td>\n",
       "      <td>W</td>\n",
       "      <td>03-27-2022</td>\n",
       "      <td>07:54:28</td>\n",
       "      <td>329 SUSANNAH CT</td>\n",
       "      <td>SUICIDAL PERSON</td>\n",
       "      <td>3</td>\n",
       "    </tr>\n",
       "    <tr>\n",
       "      <th>1722</th>\n",
       "      <td>March</td>\n",
       "      <td>W</td>\n",
       "      <td>03-28-2022</td>\n",
       "      <td>19:23:55</td>\n",
       "      <td>517 RIVER ROUGE DR</td>\n",
       "      <td>SUICIDAL PERSON</td>\n",
       "      <td>3</td>\n",
       "    </tr>\n",
       "    <tr>\n",
       "      <th>1723</th>\n",
       "      <td>March</td>\n",
       "      <td>W</td>\n",
       "      <td>03-29-2022</td>\n",
       "      <td>14:01:59</td>\n",
       "      <td>8109 BOONE TRCE</td>\n",
       "      <td>SUICIDAL PERSON</td>\n",
       "      <td>2M</td>\n",
       "    </tr>\n",
       "    <tr>\n",
       "      <th>1724</th>\n",
       "      <td>March</td>\n",
       "      <td>W</td>\n",
       "      <td>03-31-2022</td>\n",
       "      <td>12:24:06</td>\n",
       "      <td>7277 CHARLOTTE PIKE</td>\n",
       "      <td>SUICIDAL PERSON</td>\n",
       "      <td>2</td>\n",
       "    </tr>\n",
       "  </tbody>\n",
       "</table>\n",
       "<p>1723 rows × 7 columns</p>\n",
       "</div>"
      ],
      "text/plain": [
       "      Month Precinct        Date   Created              Address  \\\n",
       "0      July        C  07-01-2021  14:08:06     1207 MCGAVOCK ST   \n",
       "1      July        C  07-01-2021  16:39:59     639 LAFAYETTE ST   \n",
       "2      July        C  07-01-2021  23:23:27     639 LAFAYETTE ST   \n",
       "3      July        C  07-02-2021  06:23:06        1221 BROADWAY   \n",
       "4      July        C  07-02-2021  11:07:14        705 DREXEL ST   \n",
       "...     ...      ...         ...       ...                  ...   \n",
       "1720  March        W  03-23-2022  06:41:49        6700 CABOT DR   \n",
       "1721  March        W  03-27-2022  07:54:28      329 SUSANNAH CT   \n",
       "1722  March        W  03-28-2022  19:23:55   517 RIVER ROUGE DR   \n",
       "1723  March        W  03-29-2022  14:01:59      8109 BOONE TRCE   \n",
       "1724  March        W  03-31-2022  12:24:06  7277 CHARLOTTE PIKE   \n",
       "\n",
       "        Incident Type Priority  \n",
       "0     SUICIDAL PERSON        2  \n",
       "1     SUICIDAL PERSON        2  \n",
       "2     SUICIDAL PERSON        2  \n",
       "3     SUICIDAL PERSON        2  \n",
       "4     SUICIDAL PERSON        2  \n",
       "...               ...      ...  \n",
       "1720  SUICIDAL PERSON       2M  \n",
       "1721  SUICIDAL PERSON        3  \n",
       "1722  SUICIDAL PERSON        3  \n",
       "1723  SUICIDAL PERSON       2M  \n",
       "1724  SUICIDAL PERSON        2  \n",
       "\n",
       "[1723 rows x 7 columns]"
      ]
     },
     "execution_count": 41,
     "metadata": {},
     "output_type": "execute_result"
    }
   ],
   "source": [
    "suicide_all"
   ]
  },
  {
   "cell_type": "code",
   "execution_count": 42,
   "id": "0af68e0b",
   "metadata": {},
   "outputs": [
    {
     "name": "stderr",
     "output_type": "stream",
     "text": [
      "C:\\Users\\dataa\\AppData\\Local\\Temp/ipykernel_16056/3076143356.py:1: SettingWithCopyWarning: \n",
      "A value is trying to be set on a copy of a slice from a DataFrame.\n",
      "Try using .loc[row_indexer,col_indexer] = value instead\n",
      "\n",
      "See the caveats in the documentation: https://pandas.pydata.org/pandas-docs/stable/user_guide/indexing.html#returning-a-view-versus-a-copy\n",
      "  suicide_all[\"Time_Of_Day\"] = \"\"\n",
      "C:\\Users\\dataa\\anaconda3\\lib\\site-packages\\pandas\\core\\indexing.py:1732: SettingWithCopyWarning: \n",
      "A value is trying to be set on a copy of a slice from a DataFrame\n",
      "\n",
      "See the caveats in the documentation: https://pandas.pydata.org/pandas-docs/stable/user_guide/indexing.html#returning-a-view-versus-a-copy\n",
      "  self._setitem_single_block(indexer, value, name)\n",
      "C:\\Users\\dataa\\anaconda3\\lib\\site-packages\\pandas\\core\\indexing.py:723: SettingWithCopyWarning: \n",
      "A value is trying to be set on a copy of a slice from a DataFrame\n",
      "\n",
      "See the caveats in the documentation: https://pandas.pydata.org/pandas-docs/stable/user_guide/indexing.html#returning-a-view-versus-a-copy\n",
      "  iloc._setitem_with_indexer(indexer, value, self.name)\n"
     ]
    },
    {
     "data": {
      "text/html": [
       "<div>\n",
       "<style scoped>\n",
       "    .dataframe tbody tr th:only-of-type {\n",
       "        vertical-align: middle;\n",
       "    }\n",
       "\n",
       "    .dataframe tbody tr th {\n",
       "        vertical-align: top;\n",
       "    }\n",
       "\n",
       "    .dataframe thead th {\n",
       "        text-align: right;\n",
       "    }\n",
       "</style>\n",
       "<table border=\"1\" class=\"dataframe\">\n",
       "  <thead>\n",
       "    <tr style=\"text-align: right;\">\n",
       "      <th></th>\n",
       "      <th>Month</th>\n",
       "      <th>Precinct</th>\n",
       "      <th>Date</th>\n",
       "      <th>Created</th>\n",
       "      <th>Address</th>\n",
       "      <th>Incident Type</th>\n",
       "      <th>Priority</th>\n",
       "      <th>Time_Of_Day</th>\n",
       "    </tr>\n",
       "  </thead>\n",
       "  <tbody>\n",
       "    <tr>\n",
       "      <th>0</th>\n",
       "      <td>July</td>\n",
       "      <td>C</td>\n",
       "      <td>07-01-2021</td>\n",
       "      <td>14:08:06</td>\n",
       "      <td>1207 MCGAVOCK ST</td>\n",
       "      <td>SUICIDAL PERSON</td>\n",
       "      <td>2</td>\n",
       "      <td>Day</td>\n",
       "    </tr>\n",
       "    <tr>\n",
       "      <th>1</th>\n",
       "      <td>July</td>\n",
       "      <td>C</td>\n",
       "      <td>07-01-2021</td>\n",
       "      <td>16:39:59</td>\n",
       "      <td>639 LAFAYETTE ST</td>\n",
       "      <td>SUICIDAL PERSON</td>\n",
       "      <td>2</td>\n",
       "      <td>Day</td>\n",
       "    </tr>\n",
       "    <tr>\n",
       "      <th>2</th>\n",
       "      <td>July</td>\n",
       "      <td>C</td>\n",
       "      <td>07-01-2021</td>\n",
       "      <td>23:23:27</td>\n",
       "      <td>639 LAFAYETTE ST</td>\n",
       "      <td>SUICIDAL PERSON</td>\n",
       "      <td>2</td>\n",
       "      <td>Night</td>\n",
       "    </tr>\n",
       "    <tr>\n",
       "      <th>3</th>\n",
       "      <td>July</td>\n",
       "      <td>C</td>\n",
       "      <td>07-02-2021</td>\n",
       "      <td>06:23:06</td>\n",
       "      <td>1221 BROADWAY</td>\n",
       "      <td>SUICIDAL PERSON</td>\n",
       "      <td>2</td>\n",
       "      <td>Night</td>\n",
       "    </tr>\n",
       "    <tr>\n",
       "      <th>4</th>\n",
       "      <td>July</td>\n",
       "      <td>C</td>\n",
       "      <td>07-02-2021</td>\n",
       "      <td>11:07:14</td>\n",
       "      <td>705 DREXEL ST</td>\n",
       "      <td>SUICIDAL PERSON</td>\n",
       "      <td>2</td>\n",
       "      <td>Day</td>\n",
       "    </tr>\n",
       "    <tr>\n",
       "      <th>...</th>\n",
       "      <td>...</td>\n",
       "      <td>...</td>\n",
       "      <td>...</td>\n",
       "      <td>...</td>\n",
       "      <td>...</td>\n",
       "      <td>...</td>\n",
       "      <td>...</td>\n",
       "      <td>...</td>\n",
       "    </tr>\n",
       "    <tr>\n",
       "      <th>1720</th>\n",
       "      <td>March</td>\n",
       "      <td>W</td>\n",
       "      <td>03-23-2022</td>\n",
       "      <td>06:41:49</td>\n",
       "      <td>6700 CABOT DR</td>\n",
       "      <td>SUICIDAL PERSON</td>\n",
       "      <td>2M</td>\n",
       "      <td>Night</td>\n",
       "    </tr>\n",
       "    <tr>\n",
       "      <th>1721</th>\n",
       "      <td>March</td>\n",
       "      <td>W</td>\n",
       "      <td>03-27-2022</td>\n",
       "      <td>07:54:28</td>\n",
       "      <td>329 SUSANNAH CT</td>\n",
       "      <td>SUICIDAL PERSON</td>\n",
       "      <td>3</td>\n",
       "      <td>Night</td>\n",
       "    </tr>\n",
       "    <tr>\n",
       "      <th>1722</th>\n",
       "      <td>March</td>\n",
       "      <td>W</td>\n",
       "      <td>03-28-2022</td>\n",
       "      <td>19:23:55</td>\n",
       "      <td>517 RIVER ROUGE DR</td>\n",
       "      <td>SUICIDAL PERSON</td>\n",
       "      <td>3</td>\n",
       "      <td>Day</td>\n",
       "    </tr>\n",
       "    <tr>\n",
       "      <th>1723</th>\n",
       "      <td>March</td>\n",
       "      <td>W</td>\n",
       "      <td>03-29-2022</td>\n",
       "      <td>14:01:59</td>\n",
       "      <td>8109 BOONE TRCE</td>\n",
       "      <td>SUICIDAL PERSON</td>\n",
       "      <td>2M</td>\n",
       "      <td>Day</td>\n",
       "    </tr>\n",
       "    <tr>\n",
       "      <th>1724</th>\n",
       "      <td>March</td>\n",
       "      <td>W</td>\n",
       "      <td>03-31-2022</td>\n",
       "      <td>12:24:06</td>\n",
       "      <td>7277 CHARLOTTE PIKE</td>\n",
       "      <td>SUICIDAL PERSON</td>\n",
       "      <td>2</td>\n",
       "      <td>Day</td>\n",
       "    </tr>\n",
       "  </tbody>\n",
       "</table>\n",
       "<p>1723 rows × 8 columns</p>\n",
       "</div>"
      ],
      "text/plain": [
       "      Month Precinct        Date   Created              Address  \\\n",
       "0      July        C  07-01-2021  14:08:06     1207 MCGAVOCK ST   \n",
       "1      July        C  07-01-2021  16:39:59     639 LAFAYETTE ST   \n",
       "2      July        C  07-01-2021  23:23:27     639 LAFAYETTE ST   \n",
       "3      July        C  07-02-2021  06:23:06        1221 BROADWAY   \n",
       "4      July        C  07-02-2021  11:07:14        705 DREXEL ST   \n",
       "...     ...      ...         ...       ...                  ...   \n",
       "1720  March        W  03-23-2022  06:41:49        6700 CABOT DR   \n",
       "1721  March        W  03-27-2022  07:54:28      329 SUSANNAH CT   \n",
       "1722  March        W  03-28-2022  19:23:55   517 RIVER ROUGE DR   \n",
       "1723  March        W  03-29-2022  14:01:59      8109 BOONE TRCE   \n",
       "1724  March        W  03-31-2022  12:24:06  7277 CHARLOTTE PIKE   \n",
       "\n",
       "        Incident Type Priority Time_Of_Day  \n",
       "0     SUICIDAL PERSON        2         Day  \n",
       "1     SUICIDAL PERSON        2         Day  \n",
       "2     SUICIDAL PERSON        2       Night  \n",
       "3     SUICIDAL PERSON        2       Night  \n",
       "4     SUICIDAL PERSON        2         Day  \n",
       "...               ...      ...         ...  \n",
       "1720  SUICIDAL PERSON       2M       Night  \n",
       "1721  SUICIDAL PERSON        3       Night  \n",
       "1722  SUICIDAL PERSON        3         Day  \n",
       "1723  SUICIDAL PERSON       2M         Day  \n",
       "1724  SUICIDAL PERSON        2         Day  \n",
       "\n",
       "[1723 rows x 8 columns]"
      ]
     },
     "execution_count": 42,
     "metadata": {},
     "output_type": "execute_result"
    }
   ],
   "source": [
    "suicide_all[\"Time_Of_Day\"] = \"\"\n",
    "for index, row in suicide_all.iterrows():\n",
    "    if ((row.Created > \"10:00:00\") & (row.Created < \"21:59:59\")):\n",
    "        suicide_all.loc[index, \"Time_Of_Day\"]=\"Day\"\n",
    "    else: \n",
    "        suicide_all.loc[index, \"Time_Of_Day\"]=\"Night\"\n",
    "        \n",
    "suicide_all"
   ]
  },
  {
   "cell_type": "code",
   "execution_count": 43,
   "id": "40354c2c",
   "metadata": {
    "scrolled": true
   },
   "outputs": [
    {
     "data": {
      "text/plain": [
       "C     349\n",
       "H     284\n",
       "S     237\n",
       "N     218\n",
       "M     184\n",
       "MT    179\n",
       "W     141\n",
       "E     131\n",
       "Name: Precinct, dtype: int64"
      ]
     },
     "execution_count": 43,
     "metadata": {},
     "output_type": "execute_result"
    }
   ],
   "source": [
    "suicide_all[\"Precinct\"].value_counts()"
   ]
  },
  {
   "cell_type": "code",
   "execution_count": 44,
   "id": "d2a7b02f",
   "metadata": {
    "scrolled": true
   },
   "outputs": [],
   "source": [
    "grouped = pd.DataFrame(suicide_all.groupby([\"Time_Of_Day\", \"Precinct\"])[\"Created\"].count()).reset_index()"
   ]
  },
  {
   "cell_type": "code",
   "execution_count": 45,
   "id": "80cca2cf",
   "metadata": {
    "scrolled": true
   },
   "outputs": [],
   "source": [
    "#sns.barplot(x=\"Precinct\", y=\"Created\", date=grouped, hue=\"Time_Of_Day\")"
   ]
  },
  {
   "cell_type": "code",
   "execution_count": 46,
   "id": "33eab198",
   "metadata": {
    "scrolled": true
   },
   "outputs": [
    {
     "data": {
      "text/html": [
       "<div>\n",
       "<style scoped>\n",
       "    .dataframe tbody tr th:only-of-type {\n",
       "        vertical-align: middle;\n",
       "    }\n",
       "\n",
       "    .dataframe tbody tr th {\n",
       "        vertical-align: top;\n",
       "    }\n",
       "\n",
       "    .dataframe thead th {\n",
       "        text-align: right;\n",
       "    }\n",
       "</style>\n",
       "<table border=\"1\" class=\"dataframe\">\n",
       "  <thead>\n",
       "    <tr style=\"text-align: right;\">\n",
       "      <th></th>\n",
       "      <th>Time_Of_Day</th>\n",
       "      <th>Precinct</th>\n",
       "      <th>count</th>\n",
       "    </tr>\n",
       "  </thead>\n",
       "  <tbody>\n",
       "    <tr>\n",
       "      <th>0</th>\n",
       "      <td>Day</td>\n",
       "      <td>C</td>\n",
       "      <td>181</td>\n",
       "    </tr>\n",
       "    <tr>\n",
       "      <th>8</th>\n",
       "      <td>Night</td>\n",
       "      <td>C</td>\n",
       "      <td>168</td>\n",
       "    </tr>\n",
       "    <tr>\n",
       "      <th>1</th>\n",
       "      <td>Day</td>\n",
       "      <td>E</td>\n",
       "      <td>101</td>\n",
       "    </tr>\n",
       "    <tr>\n",
       "      <th>9</th>\n",
       "      <td>Night</td>\n",
       "      <td>E</td>\n",
       "      <td>30</td>\n",
       "    </tr>\n",
       "    <tr>\n",
       "      <th>2</th>\n",
       "      <td>Day</td>\n",
       "      <td>H</td>\n",
       "      <td>187</td>\n",
       "    </tr>\n",
       "    <tr>\n",
       "      <th>10</th>\n",
       "      <td>Night</td>\n",
       "      <td>H</td>\n",
       "      <td>97</td>\n",
       "    </tr>\n",
       "    <tr>\n",
       "      <th>3</th>\n",
       "      <td>Day</td>\n",
       "      <td>M</td>\n",
       "      <td>135</td>\n",
       "    </tr>\n",
       "    <tr>\n",
       "      <th>11</th>\n",
       "      <td>Night</td>\n",
       "      <td>M</td>\n",
       "      <td>49</td>\n",
       "    </tr>\n",
       "    <tr>\n",
       "      <th>4</th>\n",
       "      <td>Day</td>\n",
       "      <td>MT</td>\n",
       "      <td>117</td>\n",
       "    </tr>\n",
       "    <tr>\n",
       "      <th>12</th>\n",
       "      <td>Night</td>\n",
       "      <td>MT</td>\n",
       "      <td>62</td>\n",
       "    </tr>\n",
       "    <tr>\n",
       "      <th>5</th>\n",
       "      <td>Day</td>\n",
       "      <td>N</td>\n",
       "      <td>161</td>\n",
       "    </tr>\n",
       "    <tr>\n",
       "      <th>13</th>\n",
       "      <td>Night</td>\n",
       "      <td>N</td>\n",
       "      <td>57</td>\n",
       "    </tr>\n",
       "    <tr>\n",
       "      <th>6</th>\n",
       "      <td>Day</td>\n",
       "      <td>S</td>\n",
       "      <td>155</td>\n",
       "    </tr>\n",
       "    <tr>\n",
       "      <th>14</th>\n",
       "      <td>Night</td>\n",
       "      <td>S</td>\n",
       "      <td>82</td>\n",
       "    </tr>\n",
       "    <tr>\n",
       "      <th>7</th>\n",
       "      <td>Day</td>\n",
       "      <td>W</td>\n",
       "      <td>98</td>\n",
       "    </tr>\n",
       "    <tr>\n",
       "      <th>15</th>\n",
       "      <td>Night</td>\n",
       "      <td>W</td>\n",
       "      <td>43</td>\n",
       "    </tr>\n",
       "  </tbody>\n",
       "</table>\n",
       "</div>"
      ],
      "text/plain": [
       "   Time_Of_Day Precinct  count\n",
       "0          Day        C    181\n",
       "8        Night        C    168\n",
       "1          Day        E    101\n",
       "9        Night        E     30\n",
       "2          Day        H    187\n",
       "10       Night        H     97\n",
       "3          Day        M    135\n",
       "11       Night        M     49\n",
       "4          Day       MT    117\n",
       "12       Night       MT     62\n",
       "5          Day        N    161\n",
       "13       Night        N     57\n",
       "6          Day        S    155\n",
       "14       Night        S     82\n",
       "7          Day        W     98\n",
       "15       Night        W     43"
      ]
     },
     "execution_count": 46,
     "metadata": {},
     "output_type": "execute_result"
    }
   ],
   "source": [
    "grouped.sort_values(by=\"Precinct\", inplace = True)\n",
    "grouped.rename(columns = {\"Created\":\"count\"}, inplace = True)\n",
    "grouped"
   ]
  },
  {
   "cell_type": "code",
   "execution_count": 47,
   "id": "557a9109",
   "metadata": {
    "scrolled": true
   },
   "outputs": [
    {
     "data": {
      "text/plain": [
       "<AxesSubplot:xlabel='Precinct'>"
      ]
     },
     "execution_count": 47,
     "metadata": {},
     "output_type": "execute_result"
    },
    {
     "data": {
      "image/png": "[encoded data removed]",
      "text/plain": [
       "<Figure size 432x288 with 1 Axes>"
      ]
     },
     "metadata": {
      "needs_background": "light"
     },
     "output_type": "display_data"
    }
   ],
   "source": [
    "grouped.plot.bar(x=\"Precinct\", y=\"count\")"
   ]
  },
  {
   "cell_type": "code",
   "execution_count": 48,
   "id": "95356677",
   "metadata": {
    "scrolled": true
   },
   "outputs": [],
   "source": [
    "import plotly.express as px"
   ]
  },
  {
   "cell_type": "markdown",
   "id": "b3e183e4",
   "metadata": {},
   "source": [
    "# Suicidal Person calls by Precinct, Day = 10am - 10pm; Night = 10pm - 10am"
   ]
  },
  {
   "cell_type": "code",
   "execution_count": 62,
   "id": "46058caf",
   "metadata": {
    "scrolled": false
   },
   "outputs": [
    {
     "data": {
      "application/vnd.plotly.v1+json": {
       "config": {
        "plotlyServerURL": "https://plot.ly"
       },
       "data": [
        {
         "alignmentgroup": "True",
         "bingroup": "x",
         "histfunc": "sum",
         "hovertemplate": "Time_Of_Day=Day<br>Precinct=%{x}<br>sum of count=%{y}<extra></extra>",
         "legendgroup": "Day",
         "marker": {
          "color": "blue",
          "pattern": {
           "shape": ""
          }
         },
         "name": "Day",
         "offsetgroup": "Day",
         "orientation": "v",
         "showlegend": true,
         "type": "histogram",
         "x": [
          "C",
          "E",
          "H",
          "M",
          "MT",
          "N",
          "S",
          "W"
         ],
         "xaxis": "x",
         "y": [
          181,
          101,
          187,
          135,
          117,
          161,
          155,
          98
         ],
         "yaxis": "y"
        },
        {
         "alignmentgroup": "True",
         "bingroup": "x",
         "histfunc": "sum",
         "hovertemplate": "Time_Of_Day=Night<br>Precinct=%{x}<br>sum of count=%{y}<extra></extra>",
         "legendgroup": "Night",
         "marker": {
          "color": "black",
          "pattern": {
           "shape": ""
          }
         },
         "name": "Night",
         "offsetgroup": "Night",
         "orientation": "v",
         "showlegend": true,
         "type": "histogram",
         "x": [
          "C",
          "E",
          "H",
          "M",
          "MT",
          "N",
          "S",
          "W"
         ],
         "xaxis": "x",
         "y": [
          168,
          30,
          97,
          49,
          62,
          57,
          82,
          43
         ],
         "yaxis": "y"
        }
       ],
       "layout": {
        "barmode": "group",
        "height": 400,
        "legend": {
         "title": {
          "text": "Time_Of_Day"
         },
         "tracegroupgap": 0
        },
        "template": {
         "data": {
          "bar": [
           {
            "error_x": {
             "color": "#2a3f5f"
            },
            "error_y": {
             "color": "#2a3f5f"
            },
            "marker": {
             "line": {
              "color": "#E5ECF6",
              "width": 0.5
             },
             "pattern": {
              "fillmode": "overlay",
              "size": 10,
              "solidity": 0.2
             }
            },
            "type": "bar"
           }
          ],
          "barpolar": [
           {
            "marker": {
             "line": {
              "color": "#E5ECF6",
              "width": 0.5
             },
             "pattern": {
              "fillmode": "overlay",
              "size": 10,
              "solidity": 0.2
             }
            },
            "type": "barpolar"
           }
          ],
          "carpet": [
           {
            "aaxis": {
             "endlinecolor": "#2a3f5f",
             "gridcolor": "white",
             "linecolor": "white",
             "minorgridcolor": "white",
             "startlinecolor": "#2a3f5f"
            },
            "baxis": {
             "endlinecolor": "#2a3f5f",
             "gridcolor": "white",
             "linecolor": "white",
             "minorgridcolor": "white",
             "startlinecolor": "#2a3f5f"
            },
            "type": "carpet"
           }
          ],
          "choropleth": [
           {
            "colorbar": {
             "outlinewidth": 0,
             "ticks": ""
            },
            "type": "choropleth"
           }
          ],
          "contour": [
           {
            "colorbar": {
             "outlinewidth": 0,
             "ticks": ""
            },
            "colorscale": [
             [
              0,
              "#0d0887"
             ],
             [
              0.1111111111111111,
              "#46039f"
             ],
             [
              0.2222222222222222,
              "#7201a8"
             ],
             [
              0.3333333333333333,
              "#9c179e"
             ],
             [
              0.4444444444444444,
              "#bd3786"
             ],
             [
              0.5555555555555556,
              "#d8576b"
             ],
             [
              0.6666666666666666,
              "#ed7953"
             ],
             [
              0.7777777777777778,
              "#fb9f3a"
             ],
             [
              0.8888888888888888,
              "#fdca26"
             ],
             [
              1,
              "#f0f921"
             ]
            ],
            "type": "contour"
           }
          ],
          "contourcarpet": [
           {
            "colorbar": {
             "outlinewidth": 0,
             "ticks": ""
            },
            "type": "contourcarpet"
           }
          ],
          "heatmap": [
           {
            "colorbar": {
             "outlinewidth": 0,
             "ticks": ""
            },
            "colorscale": [
             [
              0,
              "#0d0887"
             ],
             [
              0.1111111111111111,
              "#46039f"
             ],
             [
              0.2222222222222222,
              "#7201a8"
             ],
             [
              0.3333333333333333,
              "#9c179e"
             ],
             [
              0.4444444444444444,
              "#bd3786"
             ],
             [
              0.5555555555555556,
              "#d8576b"
             ],
             [
              0.6666666666666666,
              "#ed7953"
             ],
             [
              0.7777777777777778,
              "#fb9f3a"
             ],
             [
              0.8888888888888888,
              "#fdca26"
             ],
             [
              1,
              "#f0f921"
             ]
            ],
            "type": "heatmap"
           }
          ],
          "heatmapgl": [
           {
            "colorbar": {
             "outlinewidth": 0,
             "ticks": ""
            },
            "colorscale": [
             [
              0,
              "#0d0887"
             ],
             [
              0.1111111111111111,
              "#46039f"
             ],
             [
              0.2222222222222222,
              "#7201a8"
             ],
             [
              0.3333333333333333,
              "#9c179e"
             ],
             [
              0.4444444444444444,
              "#bd3786"
             ],
             [
              0.5555555555555556,
              "#d8576b"
             ],
             [
              0.6666666666666666,
              "#ed7953"
             ],
             [
              0.7777777777777778,
              "#fb9f3a"
             ],
             [
              0.8888888888888888,
              "#fdca26"
             ],
             [
              1,
              "#f0f921"
             ]
            ],
            "type": "heatmapgl"
           }
          ],
          "histogram": [
           {
            "marker": {
             "pattern": {
              "fillmode": "overlay",
              "size": 10,
              "solidity": 0.2
             }
            },
            "type": "histogram"
           }
          ],
          "histogram2d": [
           {
            "colorbar": {
             "outlinewidth": 0,
             "ticks": ""
            },
            "colorscale": [
             [
              0,
              "#0d0887"
             ],
             [
              0.1111111111111111,
              "#46039f"
             ],
             [
              0.2222222222222222,
              "#7201a8"
             ],
             [
              0.3333333333333333,
              "#9c179e"
             ],
             [
              0.4444444444444444,
              "#bd3786"
             ],
             [
              0.5555555555555556,
              "#d8576b"
             ],
             [
              0.6666666666666666,
              "#ed7953"
             ],
             [
              0.7777777777777778,
              "#fb9f3a"
             ],
             [
              0.8888888888888888,
              "#fdca26"
             ],
             [
              1,
              "#f0f921"
             ]
            ],
            "type": "histogram2d"
           }
          ],
          "histogram2dcontour": [
           {
            "colorbar": {
             "outlinewidth": 0,
             "ticks": ""
            },
            "colorscale": [
             [
              0,
              "#0d0887"
             ],
             [
              0.1111111111111111,
              "#46039f"
             ],
             [
              0.2222222222222222,
              "#7201a8"
             ],
             [
              0.3333333333333333,
              "#9c179e"
             ],
             [
              0.4444444444444444,
              "#bd3786"
             ],
             [
              0.5555555555555556,
              "#d8576b"
             ],
             [
              0.6666666666666666,
              "#ed7953"
             ],
             [
              0.7777777777777778,
              "#fb9f3a"
             ],
             [
              0.8888888888888888,
              "#fdca26"
             ],
             [
              1,
              "#f0f921"
             ]
            ],
            "type": "histogram2dcontour"
           }
          ],
          "mesh3d": [
           {
            "colorbar": {
             "outlinewidth": 0,
             "ticks": ""
            },
            "type": "mesh3d"
           }
          ],
          "parcoords": [
           {
            "line": {
             "colorbar": {
              "outlinewidth": 0,
              "ticks": ""
             }
            },
            "type": "parcoords"
           }
          ],
          "pie": [
           {
            "automargin": true,
            "type": "pie"
           }
          ],
          "scatter": [
           {
            "fillpattern": {
             "fillmode": "overlay",
             "size": 10,
             "solidity": 0.2
            },
            "type": "scatter"
           }
          ],
          "scatter3d": [
           {
            "line": {
             "colorbar": {
              "outlinewidth": 0,
              "ticks": ""
             }
            },
            "marker": {
             "colorbar": {
              "outlinewidth": 0,
              "ticks": ""
             }
            },
            "type": "scatter3d"
           }
          ],
          "scattercarpet": [
           {
            "marker": {
             "colorbar": {
              "outlinewidth": 0,
              "ticks": ""
             }
            },
            "type": "scattercarpet"
           }
          ],
          "scattergeo": [
           {
            "marker": {
             "colorbar": {
              "outlinewidth": 0,
              "ticks": ""
             }
            },
            "type": "scattergeo"
           }
          ],
          "scattergl": [
           {
            "marker": {
             "colorbar": {
              "outlinewidth": 0,
              "ticks": ""
             }
            },
            "type": "scattergl"
           }
          ],
          "scattermapbox": [
           {
            "marker": {
             "colorbar": {
              "outlinewidth": 0,
              "ticks": ""
             }
            },
            "type": "scattermapbox"
           }
          ],
          "scatterpolar": [
           {
            "marker": {
             "colorbar": {
              "outlinewidth": 0,
              "ticks": ""
             }
            },
            "type": "scatterpolar"
           }
          ],
          "scatterpolargl": [
           {
            "marker": {
             "colorbar": {
              "outlinewidth": 0,
              "ticks": ""
             }
            },
            "type": "scatterpolargl"
           }
          ],
          "scatterternary": [
           {
            "marker": {
             "colorbar": {
              "outlinewidth": 0,
              "ticks": ""
             }
            },
            "type": "scatterternary"
           }
          ],
          "surface": [
           {
            "colorbar": {
             "outlinewidth": 0,
             "ticks": ""
            },
            "colorscale": [
             [
              0,
              "#0d0887"
             ],
             [
              0.1111111111111111,
              "#46039f"
             ],
             [
              0.2222222222222222,
              "#7201a8"
             ],
             [
              0.3333333333333333,
              "#9c179e"
             ],
             [
              0.4444444444444444,
              "#bd3786"
             ],
             [
              0.5555555555555556,
              "#d8576b"
             ],
             [
              0.6666666666666666,
              "#ed7953"
             ],
             [
              0.7777777777777778,
              "#fb9f3a"
             ],
             [
              0.8888888888888888,
              "#fdca26"
             ],
             [
              1,
              "#f0f921"
             ]
            ],
            "type": "surface"
           }
          ],
          "table": [
           {
            "cells": {
             "fill": {
              "color": "#EBF0F8"
             },
             "line": {
              "color": "white"
             }
            },
            "header": {
             "fill": {
              "color": "#C8D4E3"
             },
             "line": {
              "color": "white"
             }
            },
            "type": "table"
           }
          ]
         },
         "layout": {
          "annotationdefaults": {
           "arrowcolor": "#2a3f5f",
           "arrowhead": 0,
           "arrowwidth": 1
          },
          "autotypenumbers": "strict",
          "coloraxis": {
           "colorbar": {
            "outlinewidth": 0,
            "ticks": ""
           }
          },
          "colorscale": {
           "diverging": [
            [
             0,
             "#8e0152"
            ],
            [
             0.1,
             "#c51b7d"
            ],
            [
             0.2,
             "#de77ae"
            ],
            [
             0.3,
             "#f1b6da"
            ],
            [
             0.4,
             "#fde0ef"
            ],
            [
             0.5,
             "#f7f7f7"
            ],
            [
             0.6,
             "#e6f5d0"
            ],
            [
             0.7,
             "#b8e186"
            ],
            [
             0.8,
             "#7fbc41"
            ],
            [
             0.9,
             "#4d9221"
            ],
            [
             1,
             "#276419"
            ]
           ],
           "sequential": [
            [
             0,
             "#0d0887"
            ],
            [
             0.1111111111111111,
             "#46039f"
            ],
            [
             0.2222222222222222,
             "#7201a8"
            ],
            [
             0.3333333333333333,
             "#9c179e"
            ],
            [
             0.4444444444444444,
             "#bd3786"
            ],
            [
             0.5555555555555556,
             "#d8576b"
            ],
            [
             0.6666666666666666,
             "#ed7953"
            ],
            [
             0.7777777777777778,
             "#fb9f3a"
            ],
            [
             0.8888888888888888,
             "#fdca26"
            ],
            [
             1,
             "#f0f921"
            ]
           ],
           "sequentialminus": [
            [
             0,
             "#0d0887"
            ],
            [
             0.1111111111111111,
             "#46039f"
            ],
            [
             0.2222222222222222,
             "#7201a8"
            ],
            [
             0.3333333333333333,
             "#9c179e"
            ],
            [
             0.4444444444444444,
             "#bd3786"
            ],
            [
             0.5555555555555556,
             "#d8576b"
            ],
            [
             0.6666666666666666,
             "#ed7953"
            ],
            [
             0.7777777777777778,
             "#fb9f3a"
            ],
            [
             0.8888888888888888,
             "#fdca26"
            ],
            [
             1,
             "#f0f921"
            ]
           ]
          },
          "colorway": [
           "#636efa",
           "#EF553B",
           "#00cc96",
           "#ab63fa",
           "#FFA15A",
           "#19d3f3",
           "#FF6692",
           "#B6E880",
           "#FF97FF",
           "#FECB52"
          ],
          "font": {
           "color": "#2a3f5f"
          },
          "geo": {
           "bgcolor": "white",
           "lakecolor": "white",
           "landcolor": "#E5ECF6",
           "showlakes": true,
           "showland": true,
           "subunitcolor": "white"
          },
          "hoverlabel": {
           "align": "left"
          },
          "hovermode": "closest",
          "mapbox": {
           "style": "light"
          },
          "paper_bgcolor": "white",
          "plot_bgcolor": "#E5ECF6",
          "polar": {
           "angularaxis": {
            "gridcolor": "white",
            "linecolor": "white",
            "ticks": ""
           },
           "bgcolor": "#E5ECF6",
           "radialaxis": {
            "gridcolor": "white",
            "linecolor": "white",
            "ticks": ""
           }
          },
          "scene": {
           "xaxis": {
            "backgroundcolor": "#E5ECF6",
            "gridcolor": "white",
            "gridwidth": 2,
            "linecolor": "white",
            "showbackground": true,
            "ticks": "",
            "zerolinecolor": "white"
           },
           "yaxis": {
            "backgroundcolor": "#E5ECF6",
            "gridcolor": "white",
            "gridwidth": 2,
            "linecolor": "white",
            "showbackground": true,
            "ticks": "",
            "zerolinecolor": "white"
           },
           "zaxis": {
            "backgroundcolor": "#E5ECF6",
            "gridcolor": "white",
            "gridwidth": 2,
            "linecolor": "white",
            "showbackground": true,
            "ticks": "",
            "zerolinecolor": "white"
           }
          },
          "shapedefaults": {
           "line": {
            "color": "#2a3f5f"
           }
          },
          "ternary": {
           "aaxis": {
            "gridcolor": "white",
            "linecolor": "white",
            "ticks": ""
           },
           "baxis": {
            "gridcolor": "white",
            "linecolor": "white",
            "ticks": ""
           },
           "bgcolor": "#E5ECF6",
           "caxis": {
            "gridcolor": "white",
            "linecolor": "white",
            "ticks": ""
           }
          },
          "title": {
           "x": 0.05
          },
          "xaxis": {
           "automargin": true,
           "gridcolor": "white",
           "linecolor": "white",
           "ticks": "",
           "title": {
            "standoff": 15
           },
           "zerolinecolor": "white",
           "zerolinewidth": 2
          },
          "yaxis": {
           "automargin": true,
           "gridcolor": "white",
           "linecolor": "white",
           "ticks": "",
           "title": {
            "standoff": 15
           },
           "zerolinecolor": "white",
           "zerolinewidth": 2
          }
         }
        },
        "title": {
         "text": "Suicidal Calls by Precinct, Day=10am-10pm, Night=10pm-10am"
        },
        "xaxis": {
         "anchor": "y",
         "domain": [
          0,
          1
         ],
         "title": {
          "text": "Precinct"
         }
        },
        "yaxis": {
         "anchor": "x",
         "domain": [
          0,
          1
         ],
         "title": {
          "text": "sum of count"
         }
        }
       }
      },
      "text/html": [
       "<div>                            <div id=\"9159dbfa-b117-4f58-8387-66e9c5323f1e\" class=\"plotly-graph-div\" style=\"height:400px; width:100%;\"></div>            <script type=\"text/javascript\">                require([\"plotly\"], function(Plotly) {                    window.PLOTLYENV=window.PLOTLYENV || {};                                    if (document.getElementById(\"9159dbfa-b117-4f58-8387-66e9c5323f1e\")) {                    Plotly.newPlot(                        \"9159dbfa-b117-4f58-8387-66e9c5323f1e\",                        [{\"alignmentgroup\":\"True\",\"bingroup\":\"x\",\"histfunc\":\"sum\",\"hovertemplate\":\"Time_Of_Day=Day<br>Precinct=%{x}<br>sum of count=%{y}<extra></extra>\",\"legendgroup\":\"Day\",\"marker\":{\"color\":\"blue\",\"pattern\":{\"shape\":\"\"}},\"name\":\"Day\",\"offsetgroup\":\"Day\",\"orientation\":\"v\",\"showlegend\":true,\"x\":[\"C\",\"E\",\"H\",\"M\",\"MT\",\"N\",\"S\",\"W\"],\"xaxis\":\"x\",\"y\":[181,101,187,135,117,161,155,98],\"yaxis\":\"y\",\"type\":\"histogram\"},{\"alignmentgroup\":\"True\",\"bingroup\":\"x\",\"histfunc\":\"sum\",\"hovertemplate\":\"Time_Of_Day=Night<br>Precinct=%{x}<br>sum of count=%{y}<extra></extra>\",\"legendgroup\":\"Night\",\"marker\":{\"color\":\"black\",\"pattern\":{\"shape\":\"\"}},\"name\":\"Night\",\"offsetgroup\":\"Night\",\"orientation\":\"v\",\"showlegend\":true,\"x\":[\"C\",\"E\",\"H\",\"M\",\"MT\",\"N\",\"S\",\"W\"],\"xaxis\":\"x\",\"y\":[168,30,97,49,62,57,82,43],\"yaxis\":\"y\",\"type\":\"histogram\"}],                        {\"template\":{\"data\":{\"histogram2dcontour\":[{\"type\":\"histogram2dcontour\",\"colorbar\":{\"outlinewidth\":0,\"ticks\":\"\"},\"colorscale\":[[0.0,\"#0d0887\"],[0.1111111111111111,\"#46039f\"],[0.2222222222222222,\"#7201a8\"],[0.3333333333333333,\"#9c179e\"],[0.4444444444444444,\"#bd3786\"],[0.5555555555555556,\"#d8576b\"],[0.6666666666666666,\"#ed7953\"],[0.7777777777777778,\"#fb9f3a\"],[0.8888888888888888,\"#fdca26\"],[1.0,\"#f0f921\"]]}],\"choropleth\":[{\"type\":\"choropleth\",\"colorbar\":{\"outlinewidth\":0,\"ticks\":\"\"}}],\"histogram2d\":[{\"type\":\"histogram2d\",\"colorbar\":{\"outlinewidth\":0,\"ticks\":\"\"},\"colorscale\":[[0.0,\"#0d0887\"],[0.1111111111111111,\"#46039f\"],[0.2222222222222222,\"#7201a8\"],[0.3333333333333333,\"#9c179e\"],[0.4444444444444444,\"#bd3786\"],[0.5555555555555556,\"#d8576b\"],[0.6666666666666666,\"#ed7953\"],[0.7777777777777778,\"#fb9f3a\"],[0.8888888888888888,\"#fdca26\"],[1.0,\"#f0f921\"]]}],\"heatmap\":[{\"type\":\"heatmap\",\"colorbar\":{\"outlinewidth\":0,\"ticks\":\"\"},\"colorscale\":[[0.0,\"#0d0887\"],[0.1111111111111111,\"#46039f\"],[0.2222222222222222,\"#7201a8\"],[0.3333333333333333,\"#9c179e\"],[0.4444444444444444,\"#bd3786\"],[0.5555555555555556,\"#d8576b\"],[0.6666666666666666,\"#ed7953\"],[0.7777777777777778,\"#fb9f3a\"],[0.8888888888888888,\"#fdca26\"],[1.0,\"#f0f921\"]]}],\"heatmapgl\":[{\"type\":\"heatmapgl\",\"colorbar\":{\"outlinewidth\":0,\"ticks\":\"\"},\"colorscale\":[[0.0,\"#0d0887\"],[0.1111111111111111,\"#46039f\"],[0.2222222222222222,\"#7201a8\"],[0.3333333333333333,\"#9c179e\"],[0.4444444444444444,\"#bd3786\"],[0.5555555555555556,\"#d8576b\"],[0.6666666666666666,\"#ed7953\"],[0.7777777777777778,\"#fb9f3a\"],[0.8888888888888888,\"#fdca26\"],[1.0,\"#f0f921\"]]}],\"contourcarpet\":[{\"type\":\"contourcarpet\",\"colorbar\":{\"outlinewidth\":0,\"ticks\":\"\"}}],\"contour\":[{\"type\":\"contour\",\"colorbar\":{\"outlinewidth\":0,\"ticks\":\"\"},\"colorscale\":[[0.0,\"#0d0887\"],[0.1111111111111111,\"#46039f\"],[0.2222222222222222,\"#7201a8\"],[0.3333333333333333,\"#9c179e\"],[0.4444444444444444,\"#bd3786\"],[0.5555555555555556,\"#d8576b\"],[0.6666666666666666,\"#ed7953\"],[0.7777777777777778,\"#fb9f3a\"],[0.8888888888888888,\"#fdca26\"],[1.0,\"#f0f921\"]]}],\"surface\":[{\"type\":\"surface\",\"colorbar\":{\"outlinewidth\":0,\"ticks\":\"\"},\"colorscale\":[[0.0,\"#0d0887\"],[0.1111111111111111,\"#46039f\"],[0.2222222222222222,\"#7201a8\"],[0.3333333333333333,\"#9c179e\"],[0.4444444444444444,\"#bd3786\"],[0.5555555555555556,\"#d8576b\"],[0.6666666666666666,\"#ed7953\"],[0.7777777777777778,\"#fb9f3a\"],[0.8888888888888888,\"#fdca26\"],[1.0,\"#f0f921\"]]}],\"mesh3d\":[{\"type\":\"mesh3d\",\"colorbar\":{\"outlinewidth\":0,\"ticks\":\"\"}}],\"scatter\":[{\"fillpattern\":{\"fillmode\":\"overlay\",\"size\":10,\"solidity\":0.2},\"type\":\"scatter\"}],\"parcoords\":[{\"type\":\"parcoords\",\"line\":{\"colorbar\":{\"outlinewidth\":0,\"ticks\":\"\"}}}],\"scatterpolargl\":[{\"type\":\"scatterpolargl\",\"marker\":{\"colorbar\":{\"outlinewidth\":0,\"ticks\":\"\"}}}],\"bar\":[{\"error_x\":{\"color\":\"#2a3f5f\"},\"error_y\":{\"color\":\"#2a3f5f\"},\"marker\":{\"line\":{\"color\":\"#E5ECF6\",\"width\":0.5},\"pattern\":{\"fillmode\":\"overlay\",\"size\":10,\"solidity\":0.2}},\"type\":\"bar\"}],\"scattergeo\":[{\"type\":\"scattergeo\",\"marker\":{\"colorbar\":{\"outlinewidth\":0,\"ticks\":\"\"}}}],\"scatterpolar\":[{\"type\":\"scatterpolar\",\"marker\":{\"colorbar\":{\"outlinewidth\":0,\"ticks\":\"\"}}}],\"histogram\":[{\"marker\":{\"pattern\":{\"fillmode\":\"overlay\",\"size\":10,\"solidity\":0.2}},\"type\":\"histogram\"}],\"scattergl\":[{\"type\":\"scattergl\",\"marker\":{\"colorbar\":{\"outlinewidth\":0,\"ticks\":\"\"}}}],\"scatter3d\":[{\"type\":\"scatter3d\",\"line\":{\"colorbar\":{\"outlinewidth\":0,\"ticks\":\"\"}},\"marker\":{\"colorbar\":{\"outlinewidth\":0,\"ticks\":\"\"}}}],\"scattermapbox\":[{\"type\":\"scattermapbox\",\"marker\":{\"colorbar\":{\"outlinewidth\":0,\"ticks\":\"\"}}}],\"scatterternary\":[{\"type\":\"scatterternary\",\"marker\":{\"colorbar\":{\"outlinewidth\":0,\"ticks\":\"\"}}}],\"scattercarpet\":[{\"type\":\"scattercarpet\",\"marker\":{\"colorbar\":{\"outlinewidth\":0,\"ticks\":\"\"}}}],\"carpet\":[{\"aaxis\":{\"endlinecolor\":\"#2a3f5f\",\"gridcolor\":\"white\",\"linecolor\":\"white\",\"minorgridcolor\":\"white\",\"startlinecolor\":\"#2a3f5f\"},\"baxis\":{\"endlinecolor\":\"#2a3f5f\",\"gridcolor\":\"white\",\"linecolor\":\"white\",\"minorgridcolor\":\"white\",\"startlinecolor\":\"#2a3f5f\"},\"type\":\"carpet\"}],\"table\":[{\"cells\":{\"fill\":{\"color\":\"#EBF0F8\"},\"line\":{\"color\":\"white\"}},\"header\":{\"fill\":{\"color\":\"#C8D4E3\"},\"line\":{\"color\":\"white\"}},\"type\":\"table\"}],\"barpolar\":[{\"marker\":{\"line\":{\"color\":\"#E5ECF6\",\"width\":0.5},\"pattern\":{\"fillmode\":\"overlay\",\"size\":10,\"solidity\":0.2}},\"type\":\"barpolar\"}],\"pie\":[{\"automargin\":true,\"type\":\"pie\"}]},\"layout\":{\"autotypenumbers\":\"strict\",\"colorway\":[\"#636efa\",\"#EF553B\",\"#00cc96\",\"#ab63fa\",\"#FFA15A\",\"#19d3f3\",\"#FF6692\",\"#B6E880\",\"#FF97FF\",\"#FECB52\"],\"font\":{\"color\":\"#2a3f5f\"},\"hovermode\":\"closest\",\"hoverlabel\":{\"align\":\"left\"},\"paper_bgcolor\":\"white\",\"plot_bgcolor\":\"#E5ECF6\",\"polar\":{\"bgcolor\":\"#E5ECF6\",\"angularaxis\":{\"gridcolor\":\"white\",\"linecolor\":\"white\",\"ticks\":\"\"},\"radialaxis\":{\"gridcolor\":\"white\",\"linecolor\":\"white\",\"ticks\":\"\"}},\"ternary\":{\"bgcolor\":\"#E5ECF6\",\"aaxis\":{\"gridcolor\":\"white\",\"linecolor\":\"white\",\"ticks\":\"\"},\"baxis\":{\"gridcolor\":\"white\",\"linecolor\":\"white\",\"ticks\":\"\"},\"caxis\":{\"gridcolor\":\"white\",\"linecolor\":\"white\",\"ticks\":\"\"}},\"coloraxis\":{\"colorbar\":{\"outlinewidth\":0,\"ticks\":\"\"}},\"colorscale\":{\"sequential\":[[0.0,\"#0d0887\"],[0.1111111111111111,\"#46039f\"],[0.2222222222222222,\"#7201a8\"],[0.3333333333333333,\"#9c179e\"],[0.4444444444444444,\"#bd3786\"],[0.5555555555555556,\"#d8576b\"],[0.6666666666666666,\"#ed7953\"],[0.7777777777777778,\"#fb9f3a\"],[0.8888888888888888,\"#fdca26\"],[1.0,\"#f0f921\"]],\"sequentialminus\":[[0.0,\"#0d0887\"],[0.1111111111111111,\"#46039f\"],[0.2222222222222222,\"#7201a8\"],[0.3333333333333333,\"#9c179e\"],[0.4444444444444444,\"#bd3786\"],[0.5555555555555556,\"#d8576b\"],[0.6666666666666666,\"#ed7953\"],[0.7777777777777778,\"#fb9f3a\"],[0.8888888888888888,\"#fdca26\"],[1.0,\"#f0f921\"]],\"diverging\":[[0,\"#8e0152\"],[0.1,\"#c51b7d\"],[0.2,\"#de77ae\"],[0.3,\"#f1b6da\"],[0.4,\"#fde0ef\"],[0.5,\"#f7f7f7\"],[0.6,\"#e6f5d0\"],[0.7,\"#b8e186\"],[0.8,\"#7fbc41\"],[0.9,\"#4d9221\"],[1,\"#276419\"]]},\"xaxis\":{\"gridcolor\":\"white\",\"linecolor\":\"white\",\"ticks\":\"\",\"title\":{\"standoff\":15},\"zerolinecolor\":\"white\",\"automargin\":true,\"zerolinewidth\":2},\"yaxis\":{\"gridcolor\":\"white\",\"linecolor\":\"white\",\"ticks\":\"\",\"title\":{\"standoff\":15},\"zerolinecolor\":\"white\",\"automargin\":true,\"zerolinewidth\":2},\"scene\":{\"xaxis\":{\"backgroundcolor\":\"#E5ECF6\",\"gridcolor\":\"white\",\"linecolor\":\"white\",\"showbackground\":true,\"ticks\":\"\",\"zerolinecolor\":\"white\",\"gridwidth\":2},\"yaxis\":{\"backgroundcolor\":\"#E5ECF6\",\"gridcolor\":\"white\",\"linecolor\":\"white\",\"showbackground\":true,\"ticks\":\"\",\"zerolinecolor\":\"white\",\"gridwidth\":2},\"zaxis\":{\"backgroundcolor\":\"#E5ECF6\",\"gridcolor\":\"white\",\"linecolor\":\"white\",\"showbackground\":true,\"ticks\":\"\",\"zerolinecolor\":\"white\",\"gridwidth\":2}},\"shapedefaults\":{\"line\":{\"color\":\"#2a3f5f\"}},\"annotationdefaults\":{\"arrowcolor\":\"#2a3f5f\",\"arrowhead\":0,\"arrowwidth\":1},\"geo\":{\"bgcolor\":\"white\",\"landcolor\":\"#E5ECF6\",\"subunitcolor\":\"white\",\"showland\":true,\"showlakes\":true,\"lakecolor\":\"white\"},\"title\":{\"x\":0.05},\"mapbox\":{\"style\":\"light\"}}},\"xaxis\":{\"anchor\":\"y\",\"domain\":[0.0,1.0],\"title\":{\"text\":\"Precinct\"}},\"yaxis\":{\"anchor\":\"x\",\"domain\":[0.0,1.0],\"title\":{\"text\":\"sum of count\"}},\"legend\":{\"title\":{\"text\":\"Time_Of_Day\"},\"tracegroupgap\":0},\"title\":{\"text\":\"Suicidal Calls by Precinct, Day=10am-10pm, Night=10pm-10am\"},\"barmode\":\"group\",\"height\":400},                        {\"responsive\": true}                    ).then(function(){\n",
       "                            \n",
       "var gd = document.getElementById('9159dbfa-b117-4f58-8387-66e9c5323f1e');\n",
       "var x = new MutationObserver(function (mutations, observer) {{\n",
       "        var display = window.getComputedStyle(gd).display;\n",
       "        if (!display || display === 'none') {{\n",
       "            console.log([gd, 'removed!']);\n",
       "            Plotly.purge(gd);\n",
       "            observer.disconnect();\n",
       "        }}\n",
       "}});\n",
       "\n",
       "// Listen for the removal of the full notebook cells\n",
       "var notebookContainer = gd.closest('#notebook-container');\n",
       "if (notebookContainer) {{\n",
       "    x.observe(notebookContainer, {childList: true});\n",
       "}}\n",
       "\n",
       "// Listen for the clearing of the current output cell\n",
       "var outputEl = gd.closest('.output');\n",
       "if (outputEl) {{\n",
       "    x.observe(outputEl, {childList: true});\n",
       "}}\n",
       "\n",
       "                        })                };                });            </script>        </div>"
      ]
     },
     "metadata": {},
     "output_type": "display_data"
    }
   ],
   "source": [
    "px.histogram(grouped, x=\"Precinct\", y=\"count\",\n",
    "             color='Time_Of_Day', barmode='group',\n",
    "             height=400, color_discrete_sequence=[\"blue\", \"black\"], title=\"Suicidal Calls by Precinct, Day=10am-10pm, Night=10pm-10am\")"
   ]
  },
  {
   "cell_type": "code",
   "execution_count": null,
   "id": "e2b47b34",
   "metadata": {},
   "outputs": [],
   "source": [
    "#px.histogram(grouped, x=\"Precinct\", y=\"count\",\n",
    "             color='Time_Of_Day', barmode='group',\n",
    "             height=400)"
   ]
  },
  {
   "cell_type": "code",
   "execution_count": null,
   "id": "8e2cbd91",
   "metadata": {},
   "outputs": [],
   "source": []
  }
 ],
 "metadata": {
  "kernelspec": {
   "display_name": "Python 3 (ipykernel)",
   "language": "python",
   "name": "python3"
  },
  "language_info": {
   "codemirror_mode": {
    "name": "ipython",
    "version": 3
   },
   "file_extension": ".py",
   "mimetype": "text/x-python",
   "name": "python",
   "nbconvert_exporter": "python",
   "pygments_lexer": "ipython3",
   "version": "3.9.7"
  }
 },
 "nbformat": 4,
 "nbformat_minor": 5
}
