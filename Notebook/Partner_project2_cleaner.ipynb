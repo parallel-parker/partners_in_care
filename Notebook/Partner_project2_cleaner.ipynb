{
 "cells": [
  {
   "cell_type": "code",
   "execution_count": null,
   "id": "68a92fe1",
   "metadata": {},
   "outputs": [],
   "source": [
    "from sqlalchemy import create_engine\n",
    "import pandas as pd\n",
    "import sqlite3 as sql\n",
    "import re\n",
    "import numpy as np\n",
    "import seaborn as sns\n",
    "from datetime import datetime as dt\n",
    "import matplotlib.pyplot as plt\n",
    "# import matplotlib.colors as colors\n",
    "# from colorspacious import cspace_converter\n",
    "from jupyterthemes import jtplot\n",
    "jtplot.style()\n",
    "\n",
    "\n",
    "%matplotlib inline"
   ]
  },
  {
   "cell_type": "code",
   "execution_count": null,
   "id": "0831f208",
   "metadata": {},
   "outputs": [],
   "source": [
    "pd.set_option('display.max_rows', 100)\n",
    "pd.options.display.max_colwidth = 3000"
   ]
  },
  {
   "cell_type": "code",
   "execution_count": null,
   "id": "1e15c55d",
   "metadata": {},
   "outputs": [],
   "source": [
    "suicide_all = pd.read_csv('suicide_all.csv')\n",
    "police_calls = pd.read_excel('../data/CLEANED - DMC - Mental_Calls_by_Precinct_Plain_Text_Incident_Types_070121_022822.xlsx', 1)"
   ]
  },
  {
   "cell_type": "code",
   "execution_count": null,
   "id": "1fff075a",
   "metadata": {},
   "outputs": [],
   "source": [
    "police_calls = police_calls.dropna()"
   ]
  },
  {
   "cell_type": "code",
   "execution_count": null,
   "id": "8fc791f5",
   "metadata": {},
   "outputs": [],
   "source": [
    "police_calls_filtered = police_calls.loc[(police_calls['Precinct'] == 'C') \n",
    "            | (police_calls['Precinct'] == 'S') \n",
    "            | (police_calls['Precinct'] == 'M') \n",
    "            | (police_calls['Precinct'] == 'MT') \n",
    "            | (police_calls['Precinct'] == 'E') \n",
    "            | (police_calls['Precinct'] == 'W') \n",
    "            | (police_calls['Precinct'] == 'N') \n",
    "            | (police_calls['Precinct'] == 'H')]\n",
    "police_calls_filtered"
   ]
  },
  {
   "cell_type": "code",
   "execution_count": null,
   "id": "1a50d5f6",
   "metadata": {},
   "outputs": [],
   "source": [
    "# police_calls_NH = police_calls.loc[(police_calls['Precinct'] == 'N') | (police_calls['Precinct'] == 'H')]"
   ]
  },
  {
   "cell_type": "code",
   "execution_count": null,
   "id": "f7c5ce52",
   "metadata": {},
   "outputs": [],
   "source": [
    "police_calls_filtered.value_counts('Month')"
   ]
  },
  {
   "cell_type": "code",
   "execution_count": null,
   "id": "bc70e833",
   "metadata": {},
   "outputs": [],
   "source": [
    "police_calls_filtered.value_counts('Precinct')"
   ]
  },
  {
   "cell_type": "code",
   "execution_count": null,
   "id": "c987c94d",
   "metadata": {},
   "outputs": [],
   "source": [
    "police_calls_crosstab = pd.crosstab(police_calls_filtered['Precinct'], police_calls_filtered['Incident Type'])\n",
    "police_calls_crosstab"
   ]
  },
  {
   "cell_type": "code",
   "execution_count": null,
   "id": "120e8c71",
   "metadata": {},
   "outputs": [],
   "source": [
    "police_calls_crosstab1 = pd.crosstab(police_calls_filtered['Month'], police_calls_filtered['Incident Type'])\n",
    "police_calls_crosstab1"
   ]
  },
  {
   "cell_type": "code",
   "execution_count": null,
   "id": "dab31d4a",
   "metadata": {},
   "outputs": [],
   "source": [
    "police_calls_crosstab2 = pd.crosstab(police_calls_filtered['Precinct'], police_calls_filtered['Month'])\n",
    "police_calls_crosstab2"
   ]
  },
  {
   "cell_type": "code",
   "execution_count": null,
   "id": "56fc2a8a",
   "metadata": {},
   "outputs": [],
   "source": [
    "police_calls_crosstab3 = pd.crosstab(police_calls_filtered['Created'], police_calls_filtered['Incident Type'])\n",
    "police_calls_crosstab3"
   ]
  },
  {
   "cell_type": "code",
   "execution_count": null,
   "id": "3c895f0a",
   "metadata": {},
   "outputs": [],
   "source": []
  },
  {
   "cell_type": "code",
   "execution_count": null,
   "id": "118fb98d",
   "metadata": {},
   "outputs": [],
   "source": []
  },
  {
   "cell_type": "markdown",
   "id": "f010a61c",
   "metadata": {},
   "source": [
    "# 'Accent', 'Accent_r', 'Blues', 'Blues_r', 'BrBG', 'BrBG_r', 'BuGn', 'BuGn_r', 'BuPu', 'BuPu_r', 'CMRmap', 'CMRmap_r', 'Dark2', 'Dark2_r', 'GnBu', 'GnBu_r', 'Greens', 'Greens_r', 'Greys', 'Greys_r', 'OrRd', 'OrRd_r', 'Oranges', 'Oranges_r', 'PRGn', 'PRGn_r', 'Paired', 'Paired_r', 'Pastel1', 'Pastel1_r', 'Pastel2', 'Pastel2_r', 'PiYG', 'PiYG_r', 'PuBu', 'PuBuGn', 'PuBuGn_r', 'PuBu_r', 'PuOr', 'PuOr_r', 'PuRd', 'PuRd_r', 'Purples', 'Purples_r', 'RdBu', 'RdBu_r', 'RdGy', 'RdGy_r', 'RdPu', 'RdPu_r', 'RdYlBu', 'RdYlBu_r', 'RdYlGn', 'RdYlGn_r', 'Reds', 'Reds_r', 'Set1', 'Set1_r', 'Set2', 'Set2_r', 'Set3', 'Set3_r', 'Spectral', 'Spectral_r', 'Wistia', 'Wistia_r', 'YlGn', 'YlGnBu', 'YlGnBu_r', 'YlGn_r', 'YlOrBr', 'YlOrBr_r', 'YlOrRd', 'YlOrRd_r', 'afmhot', 'afmhot_r', 'autumn', 'autumn_r', 'binary', 'binary_r', 'bone', 'bone_r', 'brg', 'brg_r', 'bwr', 'bwr_r', 'cividis', 'cividis_r', 'cool', 'cool_r', 'coolwarm', 'coolwarm_r', 'copper', 'copper_r', 'crest', 'crest_r', 'cubehelix', 'cubehelix_r', 'flag', 'flag_r', 'flare', 'flare_r', 'gist_earth', 'gist_earth_r', 'gist_gray', 'gist_gray_r', 'gist_heat', 'gist_heat_r', 'gist_ncar', 'gist_ncar_r', 'gist_rainbow', 'gist_rainbow_r', 'gist_stern', 'gist_stern_r', 'gist_yarg', 'gist_yarg_r', 'gnuplot', 'gnuplot2', 'gnuplot2_r', 'gnuplot_r', 'gray', 'gray_r', 'hot', 'hot_r', 'hsv', 'hsv_r', 'icefire', 'icefire_r', 'inferno', 'inferno_r', 'jet', 'jet_r', 'magma', 'magma_r', 'mako', 'mako_r', 'nipy_spectral', 'nipy_spectral_r', 'ocean', 'ocean_r', 'pink', 'pink_r', 'plasma', 'plasma_r', 'prism', 'prism_r', 'rainbow', 'rainbow_r', 'rocket', 'rocket_r', 'seismic', 'seismic_r', 'spring', 'spring_r', 'summer', 'summer_r', 'tab10', 'tab10_r', 'tab20', 'tab20_r', 'tab20b', 'tab20b_r', 'tab20c', 'tab20c_r', 'terrain', 'terrain_r', 'turbo', 'turbo_r', 'twilight', 'twilight_r', 'twilight_shifted', 'twilight_shifted_r', 'viridis', 'viridis_r', 'vlag', 'vlag_r', 'winter', 'winter_r'"
   ]
  },
  {
   "cell_type": "code",
   "execution_count": null,
   "id": "d04fe5c3",
   "metadata": {},
   "outputs": [],
   "source": [
    "barplot = police_calls_crosstab.plot.bar(rot = 0, figsize = (20, 10), colormap = 'vlag_r')"
   ]
  },
  {
   "cell_type": "code",
   "execution_count": null,
   "id": "5eb79e11",
   "metadata": {
    "scrolled": false
   },
   "outputs": [],
   "source": [
    "barplot1 = police_calls_crosstab1.plot.bar(rot = 25, figsize = (20, 10), colormap = 'vlag_r')"
   ]
  },
  {
   "cell_type": "code",
   "execution_count": null,
   "id": "b7e927eb",
   "metadata": {
    "scrolled": false
   },
   "outputs": [],
   "source": [
    "barplot2 = police_calls_crosstab2.plot.bar(rot = 0, figsize = (20, 10), colormap = 'vlag_r')"
   ]
  },
  {
   "cell_type": "code",
   "execution_count": null,
   "id": "137c209d",
   "metadata": {},
   "outputs": [],
   "source": []
  },
  {
   "cell_type": "code",
   "execution_count": null,
   "id": "1c9578ad",
   "metadata": {},
   "outputs": [],
   "source": []
  },
  {
   "cell_type": "code",
   "execution_count": null,
   "id": "811639e5",
   "metadata": {},
   "outputs": [],
   "source": []
  },
  {
   "cell_type": "code",
   "execution_count": null,
   "id": "ad919f5e",
   "metadata": {},
   "outputs": [],
   "source": []
  },
  {
   "cell_type": "code",
   "execution_count": null,
   "id": "41a2622d",
   "metadata": {},
   "outputs": [],
   "source": []
  },
  {
   "cell_type": "code",
   "execution_count": null,
   "id": "545b2f4b",
   "metadata": {},
   "outputs": [],
   "source": [
    "# police_calls_crosstab2 = pd.crosstab(police_calls_filtered['Precinct'], police_calls_filtered['Month'], police_calls_filtered['Incident Type'])\n",
    "# .apply(lambda r: r/len(police_calls_filtered), axis = 1)"
   ]
  },
  {
   "cell_type": "code",
   "execution_count": null,
   "id": "4b31f1dc",
   "metadata": {},
   "outputs": [],
   "source": []
  }
 ],
 "metadata": {
  "kernelspec": {
   "display_name": "Python 3",
   "language": "python",
   "name": "python3"
  },
  "language_info": {
   "codemirror_mode": {
    "name": "ipython",
    "version": 3
   },
   "file_extension": ".py",
   "mimetype": "text/x-python",
   "name": "python",
   "nbconvert_exporter": "python",
   "pygments_lexer": "ipython3",
   "version": "3.8.3"
  }
 },
 "nbformat": 4,
 "nbformat_minor": 5
}
