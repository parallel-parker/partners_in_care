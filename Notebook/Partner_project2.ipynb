{
 "cells": [
  {
   "cell_type": "code",
   "execution_count": null,
   "id": "a41209b1",
   "metadata": {},
   "outputs": [],
   "source": [
    "from sqlalchemy import create_engine\n",
    "import pandas as pd\n",
    "import sqlite3 as sql\n",
    "import re\n",
    "import numpy as np\n",
    "import seaborn as sns\n",
    "from datetime import datetime\n",
    "import matplotlib.pyplot as plt\n",
    "\n",
    "\n",
    "%matplotlib inline"
   ]
  },
  {
   "cell_type": "code",
   "execution_count": null,
   "id": "95b9a665",
   "metadata": {},
   "outputs": [],
   "source": [
    "pd.set_option('display.max_rows', 100)\n",
    "pd.options.display.max_colwidth = 3000"
   ]
  },
  {
   "cell_type": "code",
   "execution_count": null,
   "id": "43d71806",
   "metadata": {},
   "outputs": [],
   "source": [
    "# clean = pd.read_excel('../data/CLEANED - DMC - Mental_Calls_by_Precinct_Plain_Text_Incident_Types_070121_022822.xlsx', 0)\n",
    "clean1 = pd.read_excel('../data/CLEANED - DMC - Mental_Calls_by_Precinct_Plain_Text_Incident_Types_070121_022822.xlsx', 1)\n",
    "clean2 = pd.read_excel('../data/CLEANED - DMC - Mental_Calls_by_Precinct_Plain_Text_Incident_Types_070121_022822.xlsx', 2)\n",
    "clean3 = pd.read_excel('../data/CLEANED - DMC - Mental_Calls_by_Precinct_Plain_Text_Incident_Types_070121_022822.xlsx', 3)\n",
    "# clean4 = pd.read_excel('../data/Mental_Calls_by_Precinct_Plain_Text_Incident_Types_070121_033122.xlsx')"
   ]
  },
  {
   "cell_type": "code",
   "execution_count": null,
   "id": "7cdc8092",
   "metadata": {},
   "outputs": [],
   "source": [
    "clean1.info()"
   ]
  },
  {
   "cell_type": "code",
   "execution_count": null,
   "id": "2b093c37",
   "metadata": {},
   "outputs": [],
   "source": [
    "clean1 = clean1.dropna()\n",
    "clean1.info()"
   ]
  },
  {
   "cell_type": "code",
   "execution_count": null,
   "id": "fc4e816a",
   "metadata": {},
   "outputs": [],
   "source": [
    "clean1.Precinct.value_counts()"
   ]
  },
  {
   "cell_type": "code",
   "execution_count": null,
   "id": "f9d5f978",
   "metadata": {},
   "outputs": [],
   "source": [
    "clean2.info()"
   ]
  },
  {
   "cell_type": "code",
   "execution_count": null,
   "id": "69126557",
   "metadata": {},
   "outputs": [],
   "source": [
    "clean3.info()"
   ]
  },
  {
   "cell_type": "code",
   "execution_count": null,
   "id": "084deba8",
   "metadata": {},
   "outputs": [],
   "source": []
  },
  {
   "cell_type": "code",
   "execution_count": null,
   "id": "9e4f8b75",
   "metadata": {},
   "outputs": [],
   "source": [
    "conn = sql.connect('../data/census.sqlite')\n",
    "cur = conn.cursor()"
   ]
  },
  {
   "cell_type": "code",
   "execution_count": null,
   "id": "f07bead9",
   "metadata": {},
   "outputs": [],
   "source": [
    "cur.execute(\"SELECT name FROM sqlite_master WHERE type='table' ORDER BY name;\")"
   ]
  },
  {
   "cell_type": "code",
   "execution_count": null,
   "id": "fb2421d6",
   "metadata": {},
   "outputs": [],
   "source": [
    "available_tables = (cur.fetchall())"
   ]
  },
  {
   "cell_type": "code",
   "execution_count": null,
   "id": "1dbe674b",
   "metadata": {},
   "outputs": [],
   "source": [
    "print(available_tables)"
   ]
  },
  {
   "cell_type": "code",
   "execution_count": null,
   "id": "91bb5003",
   "metadata": {},
   "outputs": [],
   "source": [
    "cur.execute(\"SELECT * FROM B01001 LIMIT 5;\")"
   ]
  },
  {
   "cell_type": "code",
   "execution_count": null,
   "id": "a06f1e0b",
   "metadata": {},
   "outputs": [],
   "source": [
    "B01001 = (cur.fetchall())"
   ]
  },
  {
   "cell_type": "code",
   "execution_count": null,
   "id": "160ca8d8",
   "metadata": {},
   "outputs": [],
   "source": [
    "type(B01001)"
   ]
  },
  {
   "cell_type": "code",
   "execution_count": null,
   "id": "32ff004d",
   "metadata": {
    "scrolled": true
   },
   "outputs": [],
   "source": [
    "B01001"
   ]
  },
  {
   "cell_type": "code",
   "execution_count": null,
   "id": "566436d0",
   "metadata": {},
   "outputs": [],
   "source": [
    "pop_age_sex_df = pd.read_sql(\"SELECT * FROM B01001;\", conn)"
   ]
  },
  {
   "cell_type": "code",
   "execution_count": null,
   "id": "ba767fce",
   "metadata": {},
   "outputs": [],
   "source": [
    "pop_age_sex_df"
   ]
  },
  {
   "cell_type": "code",
   "execution_count": null,
   "id": "76941f36",
   "metadata": {},
   "outputs": [],
   "source": [
    "cur.execute(\"SELECT * FROM B03002 LIMIT 5;\")\n",
    "B03002 = (cur.fetchall())\n",
    "pop_race_ethnicity_df = pd.read_sql(\"SELECT * FROM B03002;\", conn)\n",
    "pop_race_ethnicity_df"
   ]
  },
  {
   "cell_type": "code",
   "execution_count": null,
   "id": "51b4bfdd",
   "metadata": {},
   "outputs": [],
   "source": [
    "cur.execute(\"SELECT * FROM B11001 LIMIT 5;\")\n",
    "B11001 = (cur.fetchall())\n",
    "households_type_df = pd.read_sql(\"SELECT * FROM B11001;\", conn)\n",
    "households_type_df"
   ]
  },
  {
   "cell_type": "code",
   "execution_count": null,
   "id": "7e1ecd89",
   "metadata": {},
   "outputs": [],
   "source": [
    "cur.execute(\"SELECT * FROM B11002 LIMIT 5;\")\n",
    "B11002 = (cur.fetchall())\n",
    "pop_household_type_df = pd.read_sql(\"SELECT * FROM B11002;\", conn)\n",
    "pop_household_type_df"
   ]
  },
  {
   "cell_type": "code",
   "execution_count": null,
   "id": "9ced96dc",
   "metadata": {},
   "outputs": [],
   "source": [
    "cur.execute(\"SELECT * FROM B15002 LIMIT 5;\")\n",
    "B15002 = (cur.fetchall())\n",
    "sex_educational_attainment_pop_25_up_df = pd.read_sql(\"SELECT * FROM B15002;\", conn)\n",
    "sex_educational_attainment_pop_25_up_df"
   ]
  },
  {
   "cell_type": "code",
   "execution_count": null,
   "id": "d2229aac",
   "metadata": {},
   "outputs": [],
   "source": [
    "cur.execute(\"SELECT * FROM B19001 LIMIT 5;\")\n",
    "B19001 = (cur.fetchall())\n",
    "household_income_df = pd.read_sql(\"SELECT * FROM B19001;\", conn)\n",
    "household_income_df"
   ]
  },
  {
   "cell_type": "code",
   "execution_count": null,
   "id": "837b77d3",
   "metadata": {},
   "outputs": [],
   "source": [
    "cur.execute(\"SELECT * FROM B19013 LIMIT 5;\")\n",
    "B19013 = (cur.fetchall())\n",
    "median_household_income_df = pd.read_sql(\"SELECT * FROM B19013;\", conn)\n",
    "median_household_income_df"
   ]
  },
  {
   "cell_type": "code",
   "execution_count": null,
   "id": "716795f7",
   "metadata": {},
   "outputs": [],
   "source": [
    "cur.execute(\"SELECT * FROM B19301 LIMIT 5;\")\n",
    "B19301 = (cur.fetchall())\n",
    "per_capita_income_df = pd.read_sql(\"SELECT * FROM B19301;\", conn)\n",
    "per_capita_income_df"
   ]
  },
  {
   "cell_type": "code",
   "execution_count": null,
   "id": "be73a3a4",
   "metadata": {},
   "outputs": [],
   "source": [
    "cur.execute(\"SELECT * FROM B25024 LIMIT 5;\")\n",
    "B25024 = (cur.fetchall())\n",
    "types_structure_df = pd.read_sql(\"SELECT * FROM B25024;\", conn)\n",
    "types_structure_df"
   ]
  },
  {
   "cell_type": "code",
   "execution_count": null,
   "id": "7a705036",
   "metadata": {},
   "outputs": [],
   "source": [
    "cur.execute(\"SELECT * FROM B25075 LIMIT 5;\")\n",
    "B25075 = (cur.fetchall())\n",
    "value_owner_occupied_housing_units_df = pd.read_sql(\"SELECT * FROM B25075;\", conn)\n",
    "value_owner_occupied_housing_units_df"
   ]
  },
  {
   "cell_type": "code",
   "execution_count": null,
   "id": "760d8a1d",
   "metadata": {},
   "outputs": [],
   "source": [
    "cur.execute(\"SELECT * FROM S1701 LIMIT 5;\")\n",
    "S1701 = (cur.fetchall())\n",
    "poverty_status_last_12_months_df = pd.read_sql(\"SELECT * FROM S1701;\", conn)\n",
    "poverty_status_last_12_months_df"
   ]
  },
  {
   "cell_type": "code",
   "execution_count": null,
   "id": "88489277",
   "metadata": {},
   "outputs": [],
   "source": [
    "clean1"
   ]
  },
  {
   "cell_type": "code",
   "execution_count": null,
   "id": "1de0914d",
   "metadata": {},
   "outputs": [],
   "source": []
  },
  {
   "cell_type": "code",
   "execution_count": null,
   "id": "19687198",
   "metadata": {},
   "outputs": [],
   "source": []
  }
 ],
 "metadata": {
  "kernelspec": {
   "display_name": "Python 3",
   "language": "python",
   "name": "python3"
  },
  "language_info": {
   "codemirror_mode": {
    "name": "ipython",
    "version": 3
   },
   "file_extension": ".py",
   "mimetype": "text/x-python",
   "name": "python",
   "nbconvert_exporter": "python",
   "pygments_lexer": "ipython3",
   "version": "3.8.3"
  }
 },
 "nbformat": 4,
 "nbformat_minor": 5
}
