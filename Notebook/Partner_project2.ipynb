{
 "cells": [
  {
   "cell_type": "code",
   "execution_count": null,
   "id": "a41209b1",
   "metadata": {},
   "outputs": [],
   "source": [
    "from sqlalchemy import create_engine\n",
    "import pandas as pd\n",
    "import sqlite3 as sql\n",
    "import re\n",
    "import numpy as np\n",
    "import seaborn as sns\n",
    "from datetime import datetime as dt\n",
    "import matplotlib.pyplot as plt\n",
    "from jupyterthemes import jtplot\n",
    "jtplot.style()\n",
    "\n",
    "\n",
    "%matplotlib inline"
   ]
  },
  {
   "cell_type": "code",
   "execution_count": null,
   "id": "95b9a665",
   "metadata": {},
   "outputs": [],
   "source": [
    "pd.set_option('display.max_rows', 100)\n",
    "pd.options.display.max_colwidth = 3000"
   ]
  },
  {
   "cell_type": "code",
   "execution_count": null,
   "id": "43d71806",
   "metadata": {},
   "outputs": [],
   "source": [
    "# clean = pd.read_excel('../data/CLEANED - DMC - Mental_Calls_by_Precinct_Plain_Text_Incident_Types_070121_022822.xlsx', 0)\n",
    "clean1 = pd.read_excel('../data/CLEANED - DMC - Mental_Calls_by_Precinct_Plain_Text_Incident_Types_070121_022822.xlsx', 1)\n",
    "clean2 = pd.read_excel('../data/CLEANED - DMC - Mental_Calls_by_Precinct_Plain_Text_Incident_Types_070121_022822.xlsx', 2)\n",
    "clean3 = pd.read_excel('../data/CLEANED - DMC - Mental_Calls_by_Precinct_Plain_Text_Incident_Types_070121_022822.xlsx', 3)\n",
    "# clean4 = pd.read_excel('../data/Mental_Calls_by_Precinct_Plain_Text_Incident_Types_070121_033122.xlsx')"
   ]
  },
  {
   "cell_type": "code",
   "execution_count": null,
   "id": "7cdc8092",
   "metadata": {},
   "outputs": [],
   "source": [
    "clean1.info()"
   ]
  },
  {
   "cell_type": "code",
   "execution_count": null,
   "id": "2b093c37",
   "metadata": {},
   "outputs": [],
   "source": [
    "clean1 = clean1.dropna()\n",
    "clean1.info()"
   ]
  },
  {
   "cell_type": "code",
   "execution_count": null,
   "id": "fc4e816a",
   "metadata": {},
   "outputs": [],
   "source": [
    "clean1.Precinct.value_counts()"
   ]
  },
  {
   "cell_type": "code",
   "execution_count": null,
   "id": "f9d5f978",
   "metadata": {},
   "outputs": [],
   "source": [
    "clean2.info()"
   ]
  },
  {
   "cell_type": "code",
   "execution_count": null,
   "id": "69126557",
   "metadata": {},
   "outputs": [],
   "source": [
    "clean3.info()"
   ]
  },
  {
   "cell_type": "code",
   "execution_count": null,
   "id": "084deba8",
   "metadata": {},
   "outputs": [],
   "source": []
  },
  {
   "cell_type": "code",
   "execution_count": null,
   "id": "9e4f8b75",
   "metadata": {},
   "outputs": [],
   "source": [
    "conn = sql.connect('../data/census.sqlite')\n",
    "cur = conn.cursor()"
   ]
  },
  {
   "cell_type": "code",
   "execution_count": null,
   "id": "f07bead9",
   "metadata": {},
   "outputs": [],
   "source": [
    "cur.execute(\"SELECT name FROM sqlite_master WHERE type='table' ORDER BY name;\")"
   ]
  },
  {
   "cell_type": "code",
   "execution_count": null,
   "id": "fb2421d6",
   "metadata": {},
   "outputs": [],
   "source": [
    "available_tables = (cur.fetchall())"
   ]
  },
  {
   "cell_type": "code",
   "execution_count": null,
   "id": "1dbe674b",
   "metadata": {},
   "outputs": [],
   "source": [
    "print(available_tables)"
   ]
  },
  {
   "cell_type": "code",
   "execution_count": null,
   "id": "91bb5003",
   "metadata": {},
   "outputs": [],
   "source": [
    "cur.execute(\"SELECT * FROM B01001 LIMIT 5;\")"
   ]
  },
  {
   "cell_type": "code",
   "execution_count": null,
   "id": "a06f1e0b",
   "metadata": {},
   "outputs": [],
   "source": [
    "B01001 = (cur.fetchall())"
   ]
  },
  {
   "cell_type": "code",
   "execution_count": null,
   "id": "160ca8d8",
   "metadata": {},
   "outputs": [],
   "source": [
    "type(B01001)"
   ]
  },
  {
   "cell_type": "code",
   "execution_count": null,
   "id": "32ff004d",
   "metadata": {
    "scrolled": true
   },
   "outputs": [],
   "source": [
    "B01001"
   ]
  },
  {
   "cell_type": "code",
   "execution_count": null,
   "id": "566436d0",
   "metadata": {},
   "outputs": [],
   "source": [
    "pop_age_sex_df = pd.read_sql(\"SELECT * FROM B01001;\", conn)"
   ]
  },
  {
   "cell_type": "code",
   "execution_count": null,
   "id": "ba767fce",
   "metadata": {},
   "outputs": [],
   "source": [
    "pop_age_sex_df"
   ]
  },
  {
   "cell_type": "code",
   "execution_count": null,
   "id": "76941f36",
   "metadata": {},
   "outputs": [],
   "source": [
    "cur.execute(\"SELECT * FROM B03002 LIMIT 5;\")\n",
    "B03002 = (cur.fetchall())\n",
    "pop_race_ethnicity_df = pd.read_sql(\"SELECT * FROM B03002;\", conn)\n",
    "pop_race_ethnicity_df"
   ]
  },
  {
   "cell_type": "code",
   "execution_count": null,
   "id": "51b4bfdd",
   "metadata": {},
   "outputs": [],
   "source": [
    "cur.execute(\"SELECT * FROM B11001 LIMIT 5;\")\n",
    "B11001 = (cur.fetchall())\n",
    "households_type_df = pd.read_sql(\"SELECT * FROM B11001;\", conn)\n",
    "households_type_df"
   ]
  },
  {
   "cell_type": "code",
   "execution_count": null,
   "id": "7e1ecd89",
   "metadata": {},
   "outputs": [],
   "source": [
    "cur.execute(\"SELECT * FROM B11002 LIMIT 5;\")\n",
    "B11002 = (cur.fetchall())\n",
    "pop_household_type_df = pd.read_sql(\"SELECT * FROM B11002;\", conn)\n",
    "pop_household_type_df"
   ]
  },
  {
   "cell_type": "code",
   "execution_count": null,
   "id": "9ced96dc",
   "metadata": {
    "scrolled": true
   },
   "outputs": [],
   "source": [
    "cur.execute(\"SELECT * FROM B15002 LIMIT 5;\")\n",
    "B15002 = (cur.fetchall())\n",
    "sex_educational_attainment_pop_25_up_df = pd.read_sql(\"SELECT * FROM B15002;\", conn)\n",
    "sex_educational_attainment_pop_25_up_df"
   ]
  },
  {
   "cell_type": "code",
   "execution_count": null,
   "id": "d2229aac",
   "metadata": {},
   "outputs": [],
   "source": [
    "cur.execute(\"SELECT * FROM B19001 LIMIT 5;\")\n",
    "B19001 = (cur.fetchall())\n",
    "household_income_df = pd.read_sql(\"SELECT * FROM B19001;\", conn)\n",
    "household_income_df"
   ]
  },
  {
   "cell_type": "code",
   "execution_count": null,
   "id": "837b77d3",
   "metadata": {},
   "outputs": [],
   "source": [
    "cur.execute(\"SELECT * FROM B19013 LIMIT 5;\")\n",
    "B19013 = (cur.fetchall())\n",
    "median_household_income_df = pd.read_sql(\"SELECT * FROM B19013;\", conn)\n",
    "median_household_income_df"
   ]
  },
  {
   "cell_type": "code",
   "execution_count": null,
   "id": "716795f7",
   "metadata": {},
   "outputs": [],
   "source": [
    "cur.execute(\"SELECT * FROM B19301 LIMIT 5;\")\n",
    "B19301 = (cur.fetchall())\n",
    "per_capita_income_df = pd.read_sql(\"SELECT * FROM B19301;\", conn)\n",
    "per_capita_income_df"
   ]
  },
  {
   "cell_type": "code",
   "execution_count": null,
   "id": "be73a3a4",
   "metadata": {},
   "outputs": [],
   "source": [
    "cur.execute(\"SELECT * FROM B25024 LIMIT 5;\")\n",
    "B25024 = (cur.fetchall())\n",
    "types_structure_df = pd.read_sql(\"SELECT * FROM B25024;\", conn)\n",
    "types_structure_df"
   ]
  },
  {
   "cell_type": "code",
   "execution_count": null,
   "id": "7a705036",
   "metadata": {},
   "outputs": [],
   "source": [
    "cur.execute(\"SELECT * FROM B25075 LIMIT 5;\")\n",
    "B25075 = (cur.fetchall())\n",
    "value_owner_occupied_housing_units_df = pd.read_sql(\"SELECT * FROM B25075;\", conn)\n",
    "value_owner_occupied_housing_units_df"
   ]
  },
  {
   "cell_type": "code",
   "execution_count": null,
   "id": "760d8a1d",
   "metadata": {},
   "outputs": [],
   "source": [
    "cur.execute(\"SELECT * FROM S1701 LIMIT 5;\")\n",
    "S1701 = (cur.fetchall())\n",
    "poverty_status_last_12_months_df = pd.read_sql(\"SELECT * FROM S1701;\", conn)\n",
    "poverty_status_last_12_months_df"
   ]
  },
  {
   "cell_type": "code",
   "execution_count": null,
   "id": "88489277",
   "metadata": {},
   "outputs": [],
   "source": [
    "clean1"
   ]
  },
  {
   "cell_type": "code",
   "execution_count": null,
   "id": "b9a9208d",
   "metadata": {},
   "outputs": [],
   "source": [
    "clean1['Incident Type'].value_counts()"
   ]
  },
  {
   "cell_type": "code",
   "execution_count": null,
   "id": "9420383d",
   "metadata": {},
   "outputs": [],
   "source": [
    "clean1['Precinct'].value_counts()"
   ]
  },
  {
   "cell_type": "code",
   "execution_count": null,
   "id": "9a08d7f6",
   "metadata": {},
   "outputs": [],
   "source": [
    "clean1['Priority'].value_counts()"
   ]
  },
  {
   "cell_type": "code",
   "execution_count": null,
   "id": "0559bc05",
   "metadata": {},
   "outputs": [],
   "source": [
    "h = clean1.loc[clean1['Precinct'] == 'H']\n",
    "h"
   ]
  },
  {
   "cell_type": "code",
   "execution_count": null,
   "id": "5fb211e9",
   "metadata": {},
   "outputs": [],
   "source": [
    "h.value_counts('Incident Type')"
   ]
  },
  {
   "cell_type": "code",
   "execution_count": null,
   "id": "bd82ff18",
   "metadata": {},
   "outputs": [],
   "source": [
    "n = clean1.loc[clean1['Precinct'] == 'N']\n",
    "n"
   ]
  },
  {
   "cell_type": "code",
   "execution_count": null,
   "id": "ba5289b8",
   "metadata": {},
   "outputs": [],
   "source": [
    "n.value_counts('Incident Type')"
   ]
  },
  {
   "cell_type": "code",
   "execution_count": null,
   "id": "0787320a",
   "metadata": {
    "scrolled": true
   },
   "outputs": [],
   "source": [
    "c = clean1.loc[clean1['Precinct'] == 'C']\n",
    "c"
   ]
  },
  {
   "cell_type": "code",
   "execution_count": null,
   "id": "dbe0433c",
   "metadata": {},
   "outputs": [],
   "source": [
    "c.value_counts('Incident Type')"
   ]
  },
  {
   "cell_type": "code",
   "execution_count": null,
   "id": "612c9490",
   "metadata": {},
   "outputs": [],
   "source": [
    "s = clean1.loc[clean1['Precinct'] == 'S']\n",
    "s"
   ]
  },
  {
   "cell_type": "code",
   "execution_count": null,
   "id": "3fafc630",
   "metadata": {},
   "outputs": [],
   "source": [
    "s.value_counts('Incident Type')"
   ]
  },
  {
   "cell_type": "code",
   "execution_count": null,
   "id": "38521cee",
   "metadata": {},
   "outputs": [],
   "source": [
    "mt = clean1.loc[clean1['Precinct'] == 'MT']\n",
    "mt"
   ]
  },
  {
   "cell_type": "code",
   "execution_count": null,
   "id": "524bdfc5",
   "metadata": {},
   "outputs": [],
   "source": [
    "mt.value_counts('Incident Type')"
   ]
  },
  {
   "cell_type": "code",
   "execution_count": null,
   "id": "d5f894ce",
   "metadata": {},
   "outputs": [],
   "source": [
    "m = clean1.loc[clean1['Precinct'] == 'M']\n",
    "m"
   ]
  },
  {
   "cell_type": "code",
   "execution_count": null,
   "id": "05ad8e53",
   "metadata": {},
   "outputs": [],
   "source": [
    "m.value_counts('Incident Type')"
   ]
  },
  {
   "cell_type": "code",
   "execution_count": null,
   "id": "8dadce95",
   "metadata": {},
   "outputs": [],
   "source": [
    "e = clean1.loc[clean1['Precinct'] == 'E']\n",
    "e"
   ]
  },
  {
   "cell_type": "code",
   "execution_count": null,
   "id": "b930661c",
   "metadata": {},
   "outputs": [],
   "source": [
    "e.value_counts('Incident Type')"
   ]
  },
  {
   "cell_type": "code",
   "execution_count": null,
   "id": "b6c6363d",
   "metadata": {},
   "outputs": [],
   "source": [
    "w = clean1.loc[clean1['Precinct'] == 'W']\n",
    "w"
   ]
  },
  {
   "cell_type": "code",
   "execution_count": null,
   "id": "8ab12c3b",
   "metadata": {},
   "outputs": [],
   "source": [
    "w.value_counts('Incident Type')"
   ]
  },
  {
   "cell_type": "code",
   "execution_count": null,
   "id": "069d9eb8",
   "metadata": {},
   "outputs": [],
   "source": []
  },
  {
   "cell_type": "code",
   "execution_count": null,
   "id": "981557b7",
   "metadata": {},
   "outputs": [],
   "source": [
    "clean1.value_counts('Incident Type').plot(kind = 'bar')"
   ]
  },
  {
   "cell_type": "code",
   "execution_count": null,
   "id": "6a98ee12",
   "metadata": {},
   "outputs": [],
   "source": [
    "h.value_counts('Incident Type').plot(kind = 'bar')"
   ]
  },
  {
   "cell_type": "code",
   "execution_count": null,
   "id": "22d6443b",
   "metadata": {},
   "outputs": [],
   "source": [
    "n.value_counts('Incident Type').plot(kind = 'bar')"
   ]
  },
  {
   "cell_type": "code",
   "execution_count": null,
   "id": "2062582a",
   "metadata": {},
   "outputs": [],
   "source": [
    "c.value_counts('Incident Type').plot(kind = 'bar')"
   ]
  },
  {
   "cell_type": "code",
   "execution_count": null,
   "id": "034741dd",
   "metadata": {},
   "outputs": [],
   "source": [
    "s.value_counts('Incident Type').plot(kind = 'bar')"
   ]
  },
  {
   "cell_type": "code",
   "execution_count": null,
   "id": "f276e383",
   "metadata": {},
   "outputs": [],
   "source": [
    "mt.value_counts('Incident Type').plot(kind = 'bar')"
   ]
  },
  {
   "cell_type": "code",
   "execution_count": null,
   "id": "0c86b749",
   "metadata": {},
   "outputs": [],
   "source": [
    "m.value_counts('Incident Type').plot(kind = 'bar')"
   ]
  },
  {
   "cell_type": "code",
   "execution_count": null,
   "id": "1166b12a",
   "metadata": {},
   "outputs": [],
   "source": [
    "e.value_counts('Incident Type').plot(kind = 'bar')"
   ]
  },
  {
   "cell_type": "code",
   "execution_count": null,
   "id": "5b6094bc",
   "metadata": {},
   "outputs": [],
   "source": [
    "w.value_counts('Incident Type').plot(kind = 'bar')"
   ]
  },
  {
   "cell_type": "code",
   "execution_count": null,
   "id": "07c5e2a7",
   "metadata": {},
   "outputs": [],
   "source": [
    "cp = clean1.loc[(clean1['Precinct'] == 'N') \n",
    "           | (clean1['Precinct'] == 'H')]"
   ]
  },
  {
   "cell_type": "code",
   "execution_count": null,
   "id": "88178568",
   "metadata": {},
   "outputs": [],
   "source": [
    "pp = clean1.loc[(clean1['Precinct'] == 'C') \n",
    "           | (clean1['Precinct'] == 'S') \n",
    "           | (clean1['Precinct'] == 'M') \n",
    "           | (clean1['Precinct'] == 'MT') \n",
    "           | (clean1['Precinct'] == 'E') \n",
    "           | (clean1['Precinct'] == 'W')]"
   ]
  },
  {
   "cell_type": "code",
   "execution_count": null,
   "id": "259709e5",
   "metadata": {},
   "outputs": [],
   "source": [
    "cp"
   ]
  },
  {
   "cell_type": "code",
   "execution_count": null,
   "id": "6eb48196",
   "metadata": {},
   "outputs": [],
   "source": [
    "pp"
   ]
  },
  {
   "cell_type": "code",
   "execution_count": null,
   "id": "c1b187c3",
   "metadata": {},
   "outputs": [],
   "source": [
    "cp.value_counts('Incident Type').plot(kind = 'bar')"
   ]
  },
  {
   "cell_type": "code",
   "execution_count": null,
   "id": "5e994c18",
   "metadata": {},
   "outputs": [],
   "source": [
    "pp.value_counts('Incident Type').plot(kind = 'bar')"
   ]
  },
  {
   "cell_type": "code",
   "execution_count": null,
   "id": "6a7130b4",
   "metadata": {},
   "outputs": [],
   "source": [
    "clean1"
   ]
  },
  {
   "cell_type": "code",
   "execution_count": null,
   "id": "a2915373",
   "metadata": {},
   "outputs": [],
   "source": [
    "clean1['Incident Type']"
   ]
  },
  {
   "cell_type": "code",
   "execution_count": null,
   "id": "064e3dd3",
   "metadata": {},
   "outputs": [],
   "source": [
    "clean1['Precinct']"
   ]
  },
  {
   "cell_type": "code",
   "execution_count": null,
   "id": "e01c6f54",
   "metadata": {},
   "outputs": [],
   "source": [
    "c = clean1.loc[clean1['Precinct'] == 'C']\n",
    "c"
   ]
  },
  {
   "cell_type": "code",
   "execution_count": null,
   "id": "238972c4",
   "metadata": {},
   "outputs": [],
   "source": [
    "c_suicidal = c.loc[c['Incident Type'] == 'SUICIDAL PERSON']\n",
    "c_suicidal"
   ]
  },
  {
   "cell_type": "code",
   "execution_count": null,
   "id": "a22dd745",
   "metadata": {},
   "outputs": [],
   "source": [
    "c['Incident Type']"
   ]
  },
  {
   "cell_type": "code",
   "execution_count": null,
   "id": "ddb0cdbd",
   "metadata": {},
   "outputs": [],
   "source": [
    "c['Precinct']"
   ]
  },
  {
   "cell_type": "code",
   "execution_count": null,
   "id": "d2813cb9",
   "metadata": {
    "scrolled": true
   },
   "outputs": [],
   "source": [
    "c_filtered = clean1.loc[(clean1['Precinct'] == 'C') & (clean1['Incident Type'] == 'SUICIDAL PERSON')]\n",
    "c_filtered"
   ]
  },
  {
   "cell_type": "code",
   "execution_count": null,
   "id": "3ba15b6b",
   "metadata": {},
   "outputs": [],
   "source": [
    "c_filtered['Created']"
   ]
  },
  {
   "cell_type": "code",
   "execution_count": null,
   "id": "0c778db3",
   "metadata": {
    "scrolled": true
   },
   "outputs": [],
   "source": [
    "c_filtered.value_counts('Created')"
   ]
  },
  {
   "cell_type": "code",
   "execution_count": null,
   "id": "2849b921",
   "metadata": {},
   "outputs": [],
   "source": [
    "c_filtered['Created'] = pd.to_timedelta(c_filtered['Created'])"
   ]
  },
  {
   "cell_type": "code",
   "execution_count": null,
   "id": "2bfd3739",
   "metadata": {
    "scrolled": true
   },
   "outputs": [],
   "source": [
    "c_filtered['Created']"
   ]
  },
  {
   "cell_type": "code",
   "execution_count": null,
   "id": "a1e98b97",
   "metadata": {},
   "outputs": [],
   "source": [
    "c_filtered"
   ]
  },
  {
   "cell_type": "markdown",
   "id": "5d9380c0",
   "metadata": {},
   "source": [
    "# Created take the time delta and broadly determine the difference in volume of calls between am and pm and then again by month \n"
   ]
  },
  {
   "cell_type": "code",
   "execution_count": null,
   "id": "84700bc6",
   "metadata": {
    "scrolled": true
   },
   "outputs": [],
   "source": [
    "july = c_filtered.loc[c_filtered['Month'] == 'July']\n",
    "july"
   ]
  },
  {
   "cell_type": "code",
   "execution_count": null,
   "id": "344f7c76",
   "metadata": {},
   "outputs": [],
   "source": [
    "july.info()"
   ]
  },
  {
   "cell_type": "markdown",
   "id": "3314c9e8",
   "metadata": {},
   "source": [
    "# Create 2 df that seperate police shifts i.e include everything between 10am or 10:00:00 - 22pm or 21:59:59 then another dataframe that excludes everything between the previously given times and includes everything from the start of the day and end of the day "
   ]
  },
  {
   "cell_type": "code",
   "execution_count": null,
   "id": "2b562987",
   "metadata": {
    "scrolled": true
   },
   "outputs": [],
   "source": [
    "july1 = july[july['Created'].between('0 days 10:00:00', '0 days 21:59:59')]\n",
    "july1"
   ]
  },
  {
   "cell_type": "code",
   "execution_count": null,
   "id": "29a30ec1",
   "metadata": {},
   "outputs": [],
   "source": [
    "july1.info()"
   ]
  },
  {
   "cell_type": "markdown",
   "id": "9e478324",
   "metadata": {},
   "source": [
    "# 29 suicide calls between 10 am and 10 pm in the month of july for precinct c"
   ]
  },
  {
   "cell_type": "code",
   "execution_count": null,
   "id": "59b5b125",
   "metadata": {
    "scrolled": false
   },
   "outputs": [],
   "source": [
    "july2 = july[~ july['Created'].between('0 days 10:00:00', '0 days 21:59:59')]\n",
    "july2"
   ]
  },
  {
   "cell_type": "code",
   "execution_count": null,
   "id": "037421e3",
   "metadata": {},
   "outputs": [],
   "source": [
    "july2.info()"
   ]
  },
  {
   "cell_type": "code",
   "execution_count": null,
   "id": "32709adc",
   "metadata": {},
   "outputs": [],
   "source": [
    "clean1"
   ]
  },
  {
   "cell_type": "code",
   "execution_count": null,
   "id": "ac5e0be3",
   "metadata": {},
   "outputs": [],
   "source": [
    "suicide_all = clean1.loc[clean1['Incident Type'] == 'SUICIDAL PERSON']\n",
    "suicide_all"
   ]
  },
  {
   "cell_type": "code",
   "execution_count": null,
   "id": "c734b027",
   "metadata": {},
   "outputs": [],
   "source": [
    "suicide_all.info()"
   ]
  },
  {
   "cell_type": "code",
   "execution_count": null,
   "id": "dcb0601f",
   "metadata": {},
   "outputs": [],
   "source": [
    "suicide_all['Precinct'].value_counts()"
   ]
  },
  {
   "cell_type": "code",
   "execution_count": null,
   "id": "c4d4bb5d",
   "metadata": {},
   "outputs": [],
   "source": [
    "suicide_all.to_csv('suicide_all.csv', index = False)"
   ]
  },
  {
   "cell_type": "code",
   "execution_count": null,
   "id": "bad37f7d",
   "metadata": {},
   "outputs": [],
   "source": [
    "suicide_all_filtered1 = suicide_all[suicide_all['Created'].between('10:00:00', '21:59:59')]\n",
    "suicide_all_filtered1"
   ]
  },
  {
   "cell_type": "code",
   "execution_count": null,
   "id": "8f1079d2",
   "metadata": {},
   "outputs": [],
   "source": [
    "suicide_all_filtered1.info()"
   ]
  },
  {
   "cell_type": "code",
   "execution_count": null,
   "id": "01d12fcc",
   "metadata": {},
   "outputs": [],
   "source": [
    "suicide_all_filtered2 = suicide_all[~suicide_all['Created'].between('10:00:00', '21:59:59')]\n",
    "suicide_all_filtered2"
   ]
  },
  {
   "cell_type": "code",
   "execution_count": null,
   "id": "837d2162",
   "metadata": {},
   "outputs": [],
   "source": [
    "suicide_all_filtered2.info()"
   ]
  },
  {
   "cell_type": "code",
   "execution_count": null,
   "id": "f2fcb2ad",
   "metadata": {},
   "outputs": [],
   "source": [
    "suicide_h1 = suicide_all_filtered1.loc[(suicide_all_filtered1['Precinct'] =='H')]"
   ]
  },
  {
   "cell_type": "code",
   "execution_count": null,
   "id": "c5a9ce1f",
   "metadata": {},
   "outputs": [],
   "source": [
    "suicide_h1.info()"
   ]
  },
  {
   "cell_type": "code",
   "execution_count": null,
   "id": "79615f4a",
   "metadata": {},
   "outputs": [],
   "source": [
    "suicide_h2 = suicide_all_filtered2.loc[(suicide_all_filtered2['Precinct'] =='H')]"
   ]
  },
  {
   "cell_type": "code",
   "execution_count": null,
   "id": "6e575dfd",
   "metadata": {},
   "outputs": [],
   "source": [
    "suicide_h2.info()"
   ]
  },
  {
   "cell_type": "code",
   "execution_count": null,
   "id": "d37fd0fb",
   "metadata": {},
   "outputs": [],
   "source": []
  }
 ],
 "metadata": {
  "kernelspec": {
   "display_name": "Python 3",
   "language": "python",
   "name": "python3"
  },
  "language_info": {
   "codemirror_mode": {
    "name": "ipython",
    "version": 3
   },
   "file_extension": ".py",
   "mimetype": "text/x-python",
   "name": "python",
   "nbconvert_exporter": "python",
   "pygments_lexer": "ipython3",
   "version": "3.8.3"
  }
 },
 "nbformat": 4,
 "nbformat_minor": 5
}
