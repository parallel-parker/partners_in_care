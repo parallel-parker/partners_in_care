{
 "cells": [
  {
   "cell_type": "code",
   "execution_count": 1,
   "metadata": {},
   "outputs": [],
   "source": [
    "from sqlalchemy import create_engine\n",
    "import pandas as pd\n",
    "import sqlite3 as sql\n",
    "import seaborn as sns\n",
    "import numpy as np\n",
    "import re\n",
    "import matplotlib.pyplot as plt\n",
    "import datetime\n",
    "\n",
    "%matplotlib inline"
   ]
  },
  {
   "cell_type": "code",
   "execution_count": 2,
   "metadata": {},
   "outputs": [],
   "source": [
    "police_calls = pd.read_excel('../data/police_calls.xlsx')"
   ]
  },
  {
   "cell_type": "code",
   "execution_count": 3,
   "metadata": {},
   "outputs": [
    {
     "data": {
      "text/html": [
       "<div>\n",
       "<style scoped>\n",
       "    .dataframe tbody tr th:only-of-type {\n",
       "        vertical-align: middle;\n",
       "    }\n",
       "\n",
       "    .dataframe tbody tr th {\n",
       "        vertical-align: top;\n",
       "    }\n",
       "\n",
       "    .dataframe thead th {\n",
       "        text-align: right;\n",
       "    }\n",
       "</style>\n",
       "<table border=\"1\" class=\"dataframe\">\n",
       "  <thead>\n",
       "    <tr style=\"text-align: right;\">\n",
       "      <th></th>\n",
       "      <th>Precinct</th>\n",
       "      <th>Date</th>\n",
       "      <th>Created</th>\n",
       "      <th>Address</th>\n",
       "      <th>Incident Type</th>\n",
       "      <th>Priority</th>\n",
       "    </tr>\n",
       "  </thead>\n",
       "  <tbody>\n",
       "    <tr>\n",
       "      <th>0</th>\n",
       "      <td>C</td>\n",
       "      <td>07-01-2021</td>\n",
       "      <td>01:57:16</td>\n",
       "      <td>639 LAFAYETTE ST</td>\n",
       "      <td>INTOXICATED PERSON</td>\n",
       "      <td>2</td>\n",
       "    </tr>\n",
       "    <tr>\n",
       "      <th>1</th>\n",
       "      <td>C</td>\n",
       "      <td>07-01-2021</td>\n",
       "      <td>03:02:52</td>\n",
       "      <td>920 BROADWAY</td>\n",
       "      <td>WELFARE CHECK</td>\n",
       "      <td>2</td>\n",
       "    </tr>\n",
       "    <tr>\n",
       "      <th>2</th>\n",
       "      <td>C</td>\n",
       "      <td>07-01-2021</td>\n",
       "      <td>05:44:47</td>\n",
       "      <td>110 4TH AVE S</td>\n",
       "      <td>DISORDERLY SUBJECT</td>\n",
       "      <td>2</td>\n",
       "    </tr>\n",
       "    <tr>\n",
       "      <th>3</th>\n",
       "      <td>C</td>\n",
       "      <td>07-01-2021</td>\n",
       "      <td>05:49:07</td>\n",
       "      <td>800 4TH AVE S</td>\n",
       "      <td>SUSPICIOUS PERSON</td>\n",
       "      <td>2</td>\n",
       "    </tr>\n",
       "    <tr>\n",
       "      <th>4</th>\n",
       "      <td>C</td>\n",
       "      <td>07-01-2021</td>\n",
       "      <td>08:01:06</td>\n",
       "      <td>1033 DEMONBREUN ST</td>\n",
       "      <td>TRESPASSER</td>\n",
       "      <td>2</td>\n",
       "    </tr>\n",
       "  </tbody>\n",
       "</table>\n",
       "</div>"
      ],
      "text/plain": [
       "  Precinct        Date   Created             Address       Incident Type  \\\n",
       "0        C  07-01-2021  01:57:16    639 LAFAYETTE ST  INTOXICATED PERSON   \n",
       "1        C  07-01-2021  03:02:52        920 BROADWAY       WELFARE CHECK   \n",
       "2        C  07-01-2021  05:44:47       110 4TH AVE S  DISORDERLY SUBJECT   \n",
       "3        C  07-01-2021  05:49:07       800 4TH AVE S   SUSPICIOUS PERSON   \n",
       "4        C  07-01-2021  08:01:06  1033 DEMONBREUN ST          TRESPASSER   \n",
       "\n",
       "  Priority  \n",
       "0        2  \n",
       "1        2  \n",
       "2        2  \n",
       "3        2  \n",
       "4        2  "
      ]
     },
     "execution_count": 3,
     "metadata": {},
     "output_type": "execute_result"
    }
   ],
   "source": [
    "police_calls.head()"
   ]
  },
  {
   "cell_type": "code",
   "execution_count": 4,
   "metadata": {},
   "outputs": [
    {
     "name": "stdout",
     "output_type": "stream",
     "text": [
      "<class 'pandas.core.frame.DataFrame'>\n",
      "RangeIndex: 48023 entries, 0 to 48022\n",
      "Data columns (total 6 columns):\n",
      " #   Column         Non-Null Count  Dtype \n",
      "---  ------         --------------  ----- \n",
      " 0   Precinct       48023 non-null  object\n",
      " 1   Date           47926 non-null  object\n",
      " 2   Created        47926 non-null  object\n",
      " 3   Address        47926 non-null  object\n",
      " 4   Incident Type  47926 non-null  object\n",
      " 5   Priority       47926 non-null  object\n",
      "dtypes: object(6)\n",
      "memory usage: 2.2+ MB\n"
     ]
    }
   ],
   "source": [
    "police_calls.info()"
   ]
  },
  {
   "cell_type": "code",
   "execution_count": 5,
   "metadata": {},
   "outputs": [],
   "source": [
    "police_calls = police_calls.dropna()"
   ]
  },
  {
   "cell_type": "code",
   "execution_count": 6,
   "metadata": {},
   "outputs": [
    {
     "name": "stdout",
     "output_type": "stream",
     "text": [
      "<class 'pandas.core.frame.DataFrame'>\n",
      "Int64Index: 47926 entries, 0 to 48019\n",
      "Data columns (total 6 columns):\n",
      " #   Column         Non-Null Count  Dtype \n",
      "---  ------         --------------  ----- \n",
      " 0   Precinct       47926 non-null  object\n",
      " 1   Date           47926 non-null  object\n",
      " 2   Created        47926 non-null  object\n",
      " 3   Address        47926 non-null  object\n",
      " 4   Incident Type  47926 non-null  object\n",
      " 5   Priority       47926 non-null  object\n",
      "dtypes: object(6)\n",
      "memory usage: 2.6+ MB\n"
     ]
    }
   ],
   "source": [
    "police_calls.info()"
   ]
  },
  {
   "cell_type": "code",
   "execution_count": 7,
   "metadata": {},
   "outputs": [
    {
     "data": {
      "text/plain": [
       "H       7957\n",
       "S       7953\n",
       "C       6870\n",
       "MT      5973\n",
       "N       5515\n",
       "M       4867\n",
       "E       4408\n",
       "W       4258\n",
       "CW       118\n",
       "PCW        4\n",
       "CMD1       2\n",
       "CMD2       1\n",
       "Name: Precinct, dtype: int64"
      ]
     },
     "execution_count": 7,
     "metadata": {},
     "output_type": "execute_result"
    }
   ],
   "source": [
    "police_calls[\"Precinct\"].value_counts()"
   ]
  },
  {
   "cell_type": "code",
   "execution_count": 8,
   "metadata": {},
   "outputs": [
    {
     "data": {
      "text/plain": [
       "DISORDERLY SUBJECT      15568\n",
       "ASSIST EMS              10043\n",
       "WELFARE CHECK            9545\n",
       "TRESPASSER               4023\n",
       "SUSPICIOUS PERSON        2797\n",
       "DOMESTIC DISTURBANCE     2661\n",
       "SUICIDAL PERSON          1725\n",
       "MENTAL CONDITION         1266\n",
       "INTOXICATED PERSON        298\n",
       "Name: Incident Type, dtype: int64"
      ]
     },
     "execution_count": 8,
     "metadata": {},
     "output_type": "execute_result"
    }
   ],
   "source": [
    "police_calls['Incident Type'].value_counts()"
   ]
  },
  {
   "cell_type": "code",
   "execution_count": 9,
   "metadata": {},
   "outputs": [],
   "source": [
    "conn = sql.connect('../data/census.sqlite')\n",
    "cur = conn.cursor()"
   ]
  },
  {
   "cell_type": "code",
   "execution_count": 11,
   "metadata": {},
   "outputs": [
    {
     "data": {
      "text/plain": [
       "<sqlite3.Cursor at 0x7f989da0e6c0>"
      ]
     },
     "execution_count": 11,
     "metadata": {},
     "output_type": "execute_result"
    }
   ],
   "source": [
    "cur.execute(\"SELECT name FROM sqlite_master WHERE type='table' ORDER BY name;\")"
   ]
  },
  {
   "cell_type": "code",
   "execution_count": 12,
   "metadata": {},
   "outputs": [
    {
     "name": "stdout",
     "output_type": "stream",
     "text": [
      "[('B01001',), ('B03002',), ('B11001',), ('B11002',), ('B15002',), ('B19001',), ('B19013',), ('B19301',), ('B25024',), ('B25075',), ('S1701',)]\n"
     ]
    }
   ],
   "source": [
    "available_tables = (cur.fetchall())\n",
    "print(available_tables)"
   ]
  },
  {
   "cell_type": "code",
   "execution_count": 13,
   "metadata": {},
   "outputs": [],
   "source": [
    "age_sex = pd.read_sql(\"SELECT * FROM B01001;\", conn)"
   ]
  },
  {
   "cell_type": "code",
   "execution_count": 14,
   "metadata": {},
   "outputs": [
    {
     "data": {
      "text/html": [
       "<div>\n",
       "<style scoped>\n",
       "    .dataframe tbody tr th:only-of-type {\n",
       "        vertical-align: middle;\n",
       "    }\n",
       "\n",
       "    .dataframe tbody tr th {\n",
       "        vertical-align: top;\n",
       "    }\n",
       "\n",
       "    .dataframe thead th {\n",
       "        text-align: right;\n",
       "    }\n",
       "</style>\n",
       "<table border=\"1\" class=\"dataframe\">\n",
       "  <thead>\n",
       "    <tr style=\"text-align: right;\">\n",
       "      <th></th>\n",
       "      <th>index</th>\n",
       "      <th>GEO_ID</th>\n",
       "      <th>NAME</th>\n",
       "      <th>tract</th>\n",
       "      <th>county</th>\n",
       "      <th>state</th>\n",
       "      <th>variable</th>\n",
       "      <th>value</th>\n",
       "      <th>description</th>\n",
       "    </tr>\n",
       "  </thead>\n",
       "  <tbody>\n",
       "    <tr>\n",
       "      <th>0</th>\n",
       "      <td>0</td>\n",
       "      <td>1400000US47037010103</td>\n",
       "      <td>Census Tract 101.03, Davidson County, Tennessee</td>\n",
       "      <td>10103</td>\n",
       "      <td>37</td>\n",
       "      <td>47</td>\n",
       "      <td>B01001_001E</td>\n",
       "      <td>2533</td>\n",
       "      <td>Estimate!!Total:</td>\n",
       "    </tr>\n",
       "    <tr>\n",
       "      <th>1</th>\n",
       "      <td>1</td>\n",
       "      <td>1400000US47037010104</td>\n",
       "      <td>Census Tract 101.04, Davidson County, Tennessee</td>\n",
       "      <td>10104</td>\n",
       "      <td>37</td>\n",
       "      <td>47</td>\n",
       "      <td>B01001_001E</td>\n",
       "      <td>2955</td>\n",
       "      <td>Estimate!!Total:</td>\n",
       "    </tr>\n",
       "    <tr>\n",
       "      <th>2</th>\n",
       "      <td>2</td>\n",
       "      <td>1400000US47037010105</td>\n",
       "      <td>Census Tract 101.05, Davidson County, Tennessee</td>\n",
       "      <td>10105</td>\n",
       "      <td>37</td>\n",
       "      <td>47</td>\n",
       "      <td>B01001_001E</td>\n",
       "      <td>4435</td>\n",
       "      <td>Estimate!!Total:</td>\n",
       "    </tr>\n",
       "    <tr>\n",
       "      <th>3</th>\n",
       "      <td>3</td>\n",
       "      <td>1400000US47037010106</td>\n",
       "      <td>Census Tract 101.06, Davidson County, Tennessee</td>\n",
       "      <td>10106</td>\n",
       "      <td>37</td>\n",
       "      <td>47</td>\n",
       "      <td>B01001_001E</td>\n",
       "      <td>3397</td>\n",
       "      <td>Estimate!!Total:</td>\n",
       "    </tr>\n",
       "    <tr>\n",
       "      <th>4</th>\n",
       "      <td>4</td>\n",
       "      <td>1400000US47037010201</td>\n",
       "      <td>Census Tract 102.01, Davidson County, Tennessee</td>\n",
       "      <td>10201</td>\n",
       "      <td>37</td>\n",
       "      <td>47</td>\n",
       "      <td>B01001_001E</td>\n",
       "      <td>4157</td>\n",
       "      <td>Estimate!!Total:</td>\n",
       "    </tr>\n",
       "  </tbody>\n",
       "</table>\n",
       "</div>"
      ],
      "text/plain": [
       "   index                GEO_ID  \\\n",
       "0      0  1400000US47037010103   \n",
       "1      1  1400000US47037010104   \n",
       "2      2  1400000US47037010105   \n",
       "3      3  1400000US47037010106   \n",
       "4      4  1400000US47037010201   \n",
       "\n",
       "                                              NAME  tract  county  state  \\\n",
       "0  Census Tract 101.03, Davidson County, Tennessee  10103      37     47   \n",
       "1  Census Tract 101.04, Davidson County, Tennessee  10104      37     47   \n",
       "2  Census Tract 101.05, Davidson County, Tennessee  10105      37     47   \n",
       "3  Census Tract 101.06, Davidson County, Tennessee  10106      37     47   \n",
       "4  Census Tract 102.01, Davidson County, Tennessee  10201      37     47   \n",
       "\n",
       "      variable  value       description  \n",
       "0  B01001_001E   2533  Estimate!!Total:  \n",
       "1  B01001_001E   2955  Estimate!!Total:  \n",
       "2  B01001_001E   4435  Estimate!!Total:  \n",
       "3  B01001_001E   3397  Estimate!!Total:  \n",
       "4  B01001_001E   4157  Estimate!!Total:  "
      ]
     },
     "execution_count": 14,
     "metadata": {},
     "output_type": "execute_result"
    }
   ],
   "source": [
    "age_sex.head()"
   ]
  },
  {
   "cell_type": "code",
   "execution_count": 16,
   "metadata": {},
   "outputs": [],
   "source": [
    "race = pd.read_sql(\"SELECT * FROM B03002;\", conn)"
   ]
  },
  {
   "cell_type": "code",
   "execution_count": 17,
   "metadata": {},
   "outputs": [],
   "source": [
    "household_type = pd.read_sql(\"SELECT * FROM B11001;\", conn)\n",
    "pop_household = pd.read_sql(\"SELECT * FROM B11002;\", conn)\n",
    "education = pd.read_sql(\"SELECT * FROM B15002;\", conn)\n",
    "income = pd.read_sql(\"SELECT * FROM B19001;\", conn)\n",
    "housing_value = pd.read_sql(\"SELECT * FROM B25075;\", conn)\n",
    "poverty_status = pd.read_sql(\"SELECT * FROM S1701;\", conn)"
   ]
  },
  {
   "cell_type": "code",
   "execution_count": 20,
   "metadata": {},
   "outputs": [
    {
     "data": {
      "text/html": [
       "<div>\n",
       "<style scoped>\n",
       "    .dataframe tbody tr th:only-of-type {\n",
       "        vertical-align: middle;\n",
       "    }\n",
       "\n",
       "    .dataframe tbody tr th {\n",
       "        vertical-align: top;\n",
       "    }\n",
       "\n",
       "    .dataframe thead th {\n",
       "        text-align: right;\n",
       "    }\n",
       "</style>\n",
       "<table border=\"1\" class=\"dataframe\">\n",
       "  <thead>\n",
       "    <tr style=\"text-align: right;\">\n",
       "      <th></th>\n",
       "      <th>index</th>\n",
       "      <th>GEO_ID</th>\n",
       "      <th>NAME</th>\n",
       "      <th>tract</th>\n",
       "      <th>county</th>\n",
       "      <th>state</th>\n",
       "      <th>variable</th>\n",
       "      <th>value</th>\n",
       "      <th>description</th>\n",
       "    </tr>\n",
       "  </thead>\n",
       "  <tbody>\n",
       "    <tr>\n",
       "      <th>0</th>\n",
       "      <td>0</td>\n",
       "      <td>1400000US47037010103</td>\n",
       "      <td>Census Tract 101.03, Davidson County, Tennessee</td>\n",
       "      <td>10103</td>\n",
       "      <td>37</td>\n",
       "      <td>47</td>\n",
       "      <td>B19001_001E</td>\n",
       "      <td>990</td>\n",
       "      <td>Estimate!!Total:</td>\n",
       "    </tr>\n",
       "    <tr>\n",
       "      <th>1</th>\n",
       "      <td>1</td>\n",
       "      <td>1400000US47037010104</td>\n",
       "      <td>Census Tract 101.04, Davidson County, Tennessee</td>\n",
       "      <td>10104</td>\n",
       "      <td>37</td>\n",
       "      <td>47</td>\n",
       "      <td>B19001_001E</td>\n",
       "      <td>1221</td>\n",
       "      <td>Estimate!!Total:</td>\n",
       "    </tr>\n",
       "  </tbody>\n",
       "</table>\n",
       "</div>"
      ],
      "text/plain": [
       "   index                GEO_ID  \\\n",
       "0      0  1400000US47037010103   \n",
       "1      1  1400000US47037010104   \n",
       "\n",
       "                                              NAME  tract  county  state  \\\n",
       "0  Census Tract 101.03, Davidson County, Tennessee  10103      37     47   \n",
       "1  Census Tract 101.04, Davidson County, Tennessee  10104      37     47   \n",
       "\n",
       "      variable  value       description  \n",
       "0  B19001_001E    990  Estimate!!Total:  \n",
       "1  B19001_001E   1221  Estimate!!Total:  "
      ]
     },
     "execution_count": 20,
     "metadata": {},
     "output_type": "execute_result"
    }
   ],
   "source": [
    "income.head(2)"
   ]
  },
  {
   "cell_type": "code",
   "execution_count": 19,
   "metadata": {},
   "outputs": [],
   "source": [
    "census = ['age_sex', 'race', 'household_type','pop_household','education','income','housing_value']"
   ]
  },
  {
   "cell_type": "code",
   "execution_count": 21,
   "metadata": {},
   "outputs": [],
   "source": [
    "## for loops to remove 'Estimate!!Total:!!' from census list\n",
    "##for i in census:\n",
    "##    for d in description"
   ]
  },
  {
   "cell_type": "code",
   "execution_count": 22,
   "metadata": {},
   "outputs": [
    {
     "data": {
      "text/html": [
       "<div>\n",
       "<style scoped>\n",
       "    .dataframe tbody tr th:only-of-type {\n",
       "        vertical-align: middle;\n",
       "    }\n",
       "\n",
       "    .dataframe tbody tr th {\n",
       "        vertical-align: top;\n",
       "    }\n",
       "\n",
       "    .dataframe thead th {\n",
       "        text-align: right;\n",
       "    }\n",
       "</style>\n",
       "<table border=\"1\" class=\"dataframe\">\n",
       "  <thead>\n",
       "    <tr style=\"text-align: right;\">\n",
       "      <th></th>\n",
       "      <th>Precinct</th>\n",
       "      <th>Date</th>\n",
       "      <th>Created</th>\n",
       "      <th>Address</th>\n",
       "      <th>Incident Type</th>\n",
       "      <th>Priority</th>\n",
       "    </tr>\n",
       "  </thead>\n",
       "  <tbody>\n",
       "    <tr>\n",
       "      <th>1264</th>\n",
       "      <td>H</td>\n",
       "      <td>07-01-2021</td>\n",
       "      <td>00:54:10</td>\n",
       "      <td>2827 SMITH SPRINGS RD</td>\n",
       "      <td>DISORDERLY SUBJECT</td>\n",
       "      <td>2</td>\n",
       "    </tr>\n",
       "    <tr>\n",
       "      <th>1265</th>\n",
       "      <td>H</td>\n",
       "      <td>07-01-2021</td>\n",
       "      <td>01:58:23</td>\n",
       "      <td>1000 THOMPSON PL</td>\n",
       "      <td>SUSPICIOUS PERSON</td>\n",
       "      <td>2</td>\n",
       "    </tr>\n",
       "  </tbody>\n",
       "</table>\n",
       "</div>"
      ],
      "text/plain": [
       "     Precinct        Date   Created                Address  \\\n",
       "1264        H  07-01-2021  00:54:10  2827 SMITH SPRINGS RD   \n",
       "1265        H  07-01-2021  01:58:23       1000 THOMPSON PL   \n",
       "\n",
       "           Incident Type Priority  \n",
       "1264  DISORDERLY SUBJECT        2  \n",
       "1265   SUSPICIOUS PERSON        2  "
      ]
     },
     "execution_count": 22,
     "metadata": {},
     "output_type": "execute_result"
    }
   ],
   "source": [
    "active_in_care = police_calls.loc[(police_calls.Precinct == 'H') | (police_calls.Precinct == 'N')]\n",
    "active_in_care.head(2)"
   ]
  },
  {
   "cell_type": "code",
   "execution_count": 24,
   "metadata": {},
   "outputs": [
    {
     "data": {
      "text/html": [
       "<div>\n",
       "<style scoped>\n",
       "    .dataframe tbody tr th:only-of-type {\n",
       "        vertical-align: middle;\n",
       "    }\n",
       "\n",
       "    .dataframe tbody tr th {\n",
       "        vertical-align: top;\n",
       "    }\n",
       "\n",
       "    .dataframe thead th {\n",
       "        text-align: right;\n",
       "    }\n",
       "</style>\n",
       "<table border=\"1\" class=\"dataframe\">\n",
       "  <thead>\n",
       "    <tr style=\"text-align: right;\">\n",
       "      <th></th>\n",
       "      <th>Precinct</th>\n",
       "      <th>Date</th>\n",
       "      <th>Created</th>\n",
       "      <th>Address</th>\n",
       "      <th>Incident Type</th>\n",
       "      <th>Priority</th>\n",
       "    </tr>\n",
       "  </thead>\n",
       "  <tbody>\n",
       "    <tr>\n",
       "      <th>0</th>\n",
       "      <td>C</td>\n",
       "      <td>07-01-2021</td>\n",
       "      <td>01:57:16</td>\n",
       "      <td>639 LAFAYETTE ST</td>\n",
       "      <td>INTOXICATED PERSON</td>\n",
       "      <td>2</td>\n",
       "    </tr>\n",
       "    <tr>\n",
       "      <th>1</th>\n",
       "      <td>C</td>\n",
       "      <td>07-01-2021</td>\n",
       "      <td>03:02:52</td>\n",
       "      <td>920 BROADWAY</td>\n",
       "      <td>WELFARE CHECK</td>\n",
       "      <td>2</td>\n",
       "    </tr>\n",
       "    <tr>\n",
       "      <th>2</th>\n",
       "      <td>C</td>\n",
       "      <td>07-01-2021</td>\n",
       "      <td>05:44:47</td>\n",
       "      <td>110 4TH AVE S</td>\n",
       "      <td>DISORDERLY SUBJECT</td>\n",
       "      <td>2</td>\n",
       "    </tr>\n",
       "    <tr>\n",
       "      <th>3</th>\n",
       "      <td>C</td>\n",
       "      <td>07-01-2021</td>\n",
       "      <td>05:49:07</td>\n",
       "      <td>800 4TH AVE S</td>\n",
       "      <td>SUSPICIOUS PERSON</td>\n",
       "      <td>2</td>\n",
       "    </tr>\n",
       "    <tr>\n",
       "      <th>4</th>\n",
       "      <td>C</td>\n",
       "      <td>07-01-2021</td>\n",
       "      <td>08:01:06</td>\n",
       "      <td>1033 DEMONBREUN ST</td>\n",
       "      <td>TRESPASSER</td>\n",
       "      <td>2</td>\n",
       "    </tr>\n",
       "    <tr>\n",
       "      <th>...</th>\n",
       "      <td>...</td>\n",
       "      <td>...</td>\n",
       "      <td>...</td>\n",
       "      <td>...</td>\n",
       "      <td>...</td>\n",
       "      <td>...</td>\n",
       "    </tr>\n",
       "    <tr>\n",
       "      <th>48015</th>\n",
       "      <td>W</td>\n",
       "      <td>03-31-2022</td>\n",
       "      <td>11:46:52</td>\n",
       "      <td>3811 HILLSBORO PIKE</td>\n",
       "      <td>TRESPASSER</td>\n",
       "      <td>2</td>\n",
       "    </tr>\n",
       "    <tr>\n",
       "      <th>48016</th>\n",
       "      <td>W</td>\n",
       "      <td>03-31-2022</td>\n",
       "      <td>12:24:06</td>\n",
       "      <td>7277 CHARLOTTE PIKE</td>\n",
       "      <td>SUICIDAL PERSON</td>\n",
       "      <td>2</td>\n",
       "    </tr>\n",
       "    <tr>\n",
       "      <th>48017</th>\n",
       "      <td>W</td>\n",
       "      <td>03-31-2022</td>\n",
       "      <td>17:59:25</td>\n",
       "      <td>MURPHY RD / 42ND AVE N</td>\n",
       "      <td>DISORDERLY SUBJECT</td>\n",
       "      <td>2</td>\n",
       "    </tr>\n",
       "    <tr>\n",
       "      <th>48018</th>\n",
       "      <td>W</td>\n",
       "      <td>03-31-2022</td>\n",
       "      <td>20:31:47</td>\n",
       "      <td>2828 KENWAY RD</td>\n",
       "      <td>SUSPICIOUS PERSON</td>\n",
       "      <td>2</td>\n",
       "    </tr>\n",
       "    <tr>\n",
       "      <th>48019</th>\n",
       "      <td>W</td>\n",
       "      <td>03-31-2022</td>\n",
       "      <td>22:30:34</td>\n",
       "      <td>CLIFTON AVE / 40TH AVE N</td>\n",
       "      <td>SUSPICIOUS PERSON</td>\n",
       "      <td>2</td>\n",
       "    </tr>\n",
       "  </tbody>\n",
       "</table>\n",
       "<p>34454 rows × 6 columns</p>\n",
       "</div>"
      ],
      "text/plain": [
       "      Precinct        Date   Created                   Address  \\\n",
       "0            C  07-01-2021  01:57:16          639 LAFAYETTE ST   \n",
       "1            C  07-01-2021  03:02:52              920 BROADWAY   \n",
       "2            C  07-01-2021  05:44:47             110 4TH AVE S   \n",
       "3            C  07-01-2021  05:49:07             800 4TH AVE S   \n",
       "4            C  07-01-2021  08:01:06        1033 DEMONBREUN ST   \n",
       "...        ...         ...       ...                       ...   \n",
       "48015        W  03-31-2022  11:46:52       3811 HILLSBORO PIKE   \n",
       "48016        W  03-31-2022  12:24:06       7277 CHARLOTTE PIKE   \n",
       "48017        W  03-31-2022  17:59:25    MURPHY RD / 42ND AVE N   \n",
       "48018        W  03-31-2022  20:31:47            2828 KENWAY RD   \n",
       "48019        W  03-31-2022  22:30:34  CLIFTON AVE / 40TH AVE N   \n",
       "\n",
       "            Incident Type Priority  \n",
       "0      INTOXICATED PERSON        2  \n",
       "1           WELFARE CHECK        2  \n",
       "2      DISORDERLY SUBJECT        2  \n",
       "3       SUSPICIOUS PERSON        2  \n",
       "4              TRESPASSER        2  \n",
       "...                   ...      ...  \n",
       "48015          TRESPASSER        2  \n",
       "48016     SUICIDAL PERSON        2  \n",
       "48017  DISORDERLY SUBJECT        2  \n",
       "48018   SUSPICIOUS PERSON        2  \n",
       "48019   SUSPICIOUS PERSON        2  \n",
       "\n",
       "[34454 rows x 6 columns]"
      ]
     },
     "execution_count": 24,
     "metadata": {},
     "output_type": "execute_result"
    }
   ],
   "source": [
    "police_calls.loc[(police_calls.Precinct != 'H') & (police_calls.Precinct != 'N')]"
   ]
  },
  {
   "cell_type": "code",
   "execution_count": null,
   "metadata": {},
   "outputs": [],
   "source": []
  }
 ],
 "metadata": {
  "kernelspec": {
   "display_name": "Python 3",
   "language": "python",
   "name": "python3"
  },
  "language_info": {
   "codemirror_mode": {
    "name": "ipython",
    "version": 3
   },
   "file_extension": ".py",
   "mimetype": "text/x-python",
   "name": "python",
   "nbconvert_exporter": "python",
   "pygments_lexer": "ipython3",
   "version": "3.8.5"
  }
 },
 "nbformat": 4,
 "nbformat_minor": 5
}
